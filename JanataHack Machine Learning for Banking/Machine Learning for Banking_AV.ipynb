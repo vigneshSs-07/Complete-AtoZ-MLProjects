{
 "cells": [
  {
   "cell_type": "code",
   "execution_count": 1,
   "metadata": {},
   "outputs": [],
   "source": [
    "import os\n",
    "import numpy as np\n",
    "import pandas as pd\n",
    "import matplotlib.pyplot as plt\n",
    "import seaborn as sns\n",
    "%matplotlib inline"
   ]
  },
  {
   "cell_type": "code",
   "execution_count": 2,
   "metadata": {},
   "outputs": [],
   "source": [
    "os.chdir(r'E:\\AnalyticsVidhya\\Hackathon+DataSet\\JanataHack Machine Learning for Banking')"
   ]
  },
  {
   "cell_type": "code",
   "execution_count": 3,
   "metadata": {},
   "outputs": [
    {
     "data": {
      "text/html": [
       "<div>\n",
       "<style scoped>\n",
       "    .dataframe tbody tr th:only-of-type {\n",
       "        vertical-align: middle;\n",
       "    }\n",
       "\n",
       "    .dataframe tbody tr th {\n",
       "        vertical-align: top;\n",
       "    }\n",
       "\n",
       "    .dataframe thead th {\n",
       "        text-align: right;\n",
       "    }\n",
       "</style>\n",
       "<table border=\"1\" class=\"dataframe\">\n",
       "  <thead>\n",
       "    <tr style=\"text-align: right;\">\n",
       "      <th></th>\n",
       "      <th>Loan_ID</th>\n",
       "      <th>Loan_Amount_Requested</th>\n",
       "      <th>Length_Employed</th>\n",
       "      <th>Home_Owner</th>\n",
       "      <th>Annual_Income</th>\n",
       "      <th>Income_Verified</th>\n",
       "      <th>Purpose_Of_Loan</th>\n",
       "      <th>Debt_To_Income</th>\n",
       "      <th>Inquiries_Last_6Mo</th>\n",
       "      <th>Months_Since_Deliquency</th>\n",
       "      <th>Number_Open_Accounts</th>\n",
       "      <th>Total_Accounts</th>\n",
       "      <th>Gender</th>\n",
       "      <th>Interest_Rate</th>\n",
       "    </tr>\n",
       "  </thead>\n",
       "  <tbody>\n",
       "    <tr>\n",
       "      <th>0</th>\n",
       "      <td>10000001</td>\n",
       "      <td>7,000</td>\n",
       "      <td>&lt; 1 year</td>\n",
       "      <td>Rent</td>\n",
       "      <td>68000.0</td>\n",
       "      <td>not verified</td>\n",
       "      <td>car</td>\n",
       "      <td>18.37</td>\n",
       "      <td>0</td>\n",
       "      <td>NaN</td>\n",
       "      <td>9</td>\n",
       "      <td>14</td>\n",
       "      <td>Female</td>\n",
       "      <td>1</td>\n",
       "    </tr>\n",
       "    <tr>\n",
       "      <th>1</th>\n",
       "      <td>10000002</td>\n",
       "      <td>30,000</td>\n",
       "      <td>4 years</td>\n",
       "      <td>Mortgage</td>\n",
       "      <td>NaN</td>\n",
       "      <td>VERIFIED - income</td>\n",
       "      <td>debt_consolidation</td>\n",
       "      <td>14.93</td>\n",
       "      <td>0</td>\n",
       "      <td>17.0</td>\n",
       "      <td>12</td>\n",
       "      <td>24</td>\n",
       "      <td>Female</td>\n",
       "      <td>3</td>\n",
       "    </tr>\n",
       "    <tr>\n",
       "      <th>2</th>\n",
       "      <td>10000003</td>\n",
       "      <td>24,725</td>\n",
       "      <td>7 years</td>\n",
       "      <td>Mortgage</td>\n",
       "      <td>75566.4</td>\n",
       "      <td>VERIFIED - income source</td>\n",
       "      <td>debt_consolidation</td>\n",
       "      <td>15.88</td>\n",
       "      <td>0</td>\n",
       "      <td>NaN</td>\n",
       "      <td>12</td>\n",
       "      <td>16</td>\n",
       "      <td>Male</td>\n",
       "      <td>3</td>\n",
       "    </tr>\n",
       "    <tr>\n",
       "      <th>3</th>\n",
       "      <td>10000004</td>\n",
       "      <td>16,000</td>\n",
       "      <td>&lt; 1 year</td>\n",
       "      <td>NaN</td>\n",
       "      <td>56160.0</td>\n",
       "      <td>VERIFIED - income source</td>\n",
       "      <td>debt_consolidation</td>\n",
       "      <td>14.34</td>\n",
       "      <td>3</td>\n",
       "      <td>NaN</td>\n",
       "      <td>16</td>\n",
       "      <td>22</td>\n",
       "      <td>Male</td>\n",
       "      <td>3</td>\n",
       "    </tr>\n",
       "    <tr>\n",
       "      <th>4</th>\n",
       "      <td>10000005</td>\n",
       "      <td>17,000</td>\n",
       "      <td>8 years</td>\n",
       "      <td>Own</td>\n",
       "      <td>96000.0</td>\n",
       "      <td>VERIFIED - income source</td>\n",
       "      <td>debt_consolidation</td>\n",
       "      <td>22.17</td>\n",
       "      <td>1</td>\n",
       "      <td>NaN</td>\n",
       "      <td>19</td>\n",
       "      <td>30</td>\n",
       "      <td>Female</td>\n",
       "      <td>1</td>\n",
       "    </tr>\n",
       "  </tbody>\n",
       "</table>\n",
       "</div>"
      ],
      "text/plain": [
       "    Loan_ID Loan_Amount_Requested Length_Employed Home_Owner  Annual_Income  \\\n",
       "0  10000001                 7,000        < 1 year       Rent        68000.0   \n",
       "1  10000002                30,000         4 years   Mortgage            NaN   \n",
       "2  10000003                24,725         7 years   Mortgage        75566.4   \n",
       "3  10000004                16,000        < 1 year        NaN        56160.0   \n",
       "4  10000005                17,000         8 years        Own        96000.0   \n",
       "\n",
       "            Income_Verified     Purpose_Of_Loan  Debt_To_Income  \\\n",
       "0              not verified                 car           18.37   \n",
       "1         VERIFIED - income  debt_consolidation           14.93   \n",
       "2  VERIFIED - income source  debt_consolidation           15.88   \n",
       "3  VERIFIED - income source  debt_consolidation           14.34   \n",
       "4  VERIFIED - income source  debt_consolidation           22.17   \n",
       "\n",
       "   Inquiries_Last_6Mo  Months_Since_Deliquency  Number_Open_Accounts  \\\n",
       "0                   0                      NaN                     9   \n",
       "1                   0                     17.0                    12   \n",
       "2                   0                      NaN                    12   \n",
       "3                   3                      NaN                    16   \n",
       "4                   1                      NaN                    19   \n",
       "\n",
       "   Total_Accounts  Gender  Interest_Rate  \n",
       "0              14  Female              1  \n",
       "1              24  Female              3  \n",
       "2              16    Male              3  \n",
       "3              22    Male              3  \n",
       "4              30  Female              1  "
      ]
     },
     "execution_count": 3,
     "metadata": {},
     "output_type": "execute_result"
    }
   ],
   "source": [
    "train_data = pd.read_csv('train_fNxu4vz.csv')\n",
    "train_data.head()"
   ]
  },
  {
   "cell_type": "code",
   "execution_count": 10,
   "metadata": {},
   "outputs": [
    {
     "data": {
      "text/plain": [
       "(164309, 13)"
      ]
     },
     "execution_count": 10,
     "metadata": {},
     "output_type": "execute_result"
    }
   ],
   "source": [
    "train_data.shape"
   ]
  },
  {
   "cell_type": "code",
   "execution_count": 4,
   "metadata": {},
   "outputs": [],
   "source": [
    "#Dropping Loan_ID from dataset!\n",
    "train_data.drop(['Loan_ID'],axis =1, inplace = True)"
   ]
  },
  {
   "cell_type": "code",
   "execution_count": 5,
   "metadata": {},
   "outputs": [
    {
     "data": {
      "text/plain": [
       "Loan_Amount_Requested       1290\n",
       "Length_Employed               12\n",
       "Home_Owner                     6\n",
       "Annual_Income              12306\n",
       "Income_Verified                3\n",
       "Purpose_Of_Loan               14\n",
       "Debt_To_Income              3953\n",
       "Inquiries_Last_6Mo             9\n",
       "Months_Since_Deliquency      123\n",
       "Number_Open_Accounts          58\n",
       "Total_Accounts               100\n",
       "Gender                         2\n",
       "Interest_Rate                  3\n",
       "dtype: int64"
      ]
     },
     "execution_count": 5,
     "metadata": {},
     "output_type": "execute_result"
    }
   ],
   "source": [
    "#Find Unique Values in Dataset!\n",
    "train_data.apply(lambda x : len(x.unique()))"
   ]
  },
  {
   "cell_type": "code",
   "execution_count": 6,
   "metadata": {},
   "outputs": [
    {
     "name": "stdout",
     "output_type": "stream",
     "text": [
      "<class 'pandas.core.frame.DataFrame'>\n",
      "RangeIndex: 164309 entries, 0 to 164308\n",
      "Data columns (total 13 columns):\n",
      " #   Column                   Non-Null Count   Dtype  \n",
      "---  ------                   --------------   -----  \n",
      " 0   Loan_Amount_Requested    164309 non-null  object \n",
      " 1   Length_Employed          156938 non-null  object \n",
      " 2   Home_Owner               138960 non-null  object \n",
      " 3   Annual_Income            139207 non-null  float64\n",
      " 4   Income_Verified          164309 non-null  object \n",
      " 5   Purpose_Of_Loan          164309 non-null  object \n",
      " 6   Debt_To_Income           164309 non-null  float64\n",
      " 7   Inquiries_Last_6Mo       164309 non-null  int64  \n",
      " 8   Months_Since_Deliquency  75930 non-null   float64\n",
      " 9   Number_Open_Accounts     164309 non-null  int64  \n",
      " 10  Total_Accounts           164309 non-null  int64  \n",
      " 11  Gender                   164309 non-null  object \n",
      " 12  Interest_Rate            164309 non-null  int64  \n",
      "dtypes: float64(3), int64(4), object(6)\n",
      "memory usage: 16.3+ MB\n"
     ]
    }
   ],
   "source": [
    "train_data.info()"
   ]
  },
  {
   "cell_type": "code",
   "execution_count": 34,
   "metadata": {},
   "outputs": [
    {
     "data": {
      "text/plain": [
       "Index(['loan_amount_requested', 'length_employed', 'home_owner',\n",
       "       'annual_income', 'income_verified', 'purpose_of_loan', 'debt_to_income',\n",
       "       'inquiries_last_6mo', 'months_since_deliquency', 'number_open_accounts',\n",
       "       'total_accounts', 'gender', 'interest_rate'],\n",
       "      dtype='object')"
      ]
     },
     "execution_count": 34,
     "metadata": {},
     "output_type": "execute_result"
    }
   ],
   "source": [
    "#train_data.columns\n",
    "#Converting Columns to Lower Value\n",
    "train_data.columns = map(str.lower, train_data.columns)\n",
    "train_data.columns\n",
    "#Converting Columns to Captialize Value\n",
    "#train_data.columns = map(str.capitalize, train_data.columns)\n",
    "#train_data.columns\n",
    "#train_data.columns = map(str.upper, train_data.columns)"
   ]
  },
  {
   "cell_type": "code",
   "execution_count": 35,
   "metadata": {},
   "outputs": [],
   "source": [
    "#Missing_Values with DTypes\n",
    "df1=train_data.isnull().sum().to_frame().rename(columns= {0 : 'Train_Null_Values'})\n",
    "df3= train_data.dtypes.to_frame().rename(columns= {0 : 'DTypes'})\n",
    "df = pd.concat([df1, df3],axis =1)"
   ]
  },
  {
   "cell_type": "code",
   "execution_count": 36,
   "metadata": {},
   "outputs": [
    {
     "data": {
      "text/html": [
       "<div>\n",
       "<style scoped>\n",
       "    .dataframe tbody tr th:only-of-type {\n",
       "        vertical-align: middle;\n",
       "    }\n",
       "\n",
       "    .dataframe tbody tr th {\n",
       "        vertical-align: top;\n",
       "    }\n",
       "\n",
       "    .dataframe thead th {\n",
       "        text-align: right;\n",
       "    }\n",
       "</style>\n",
       "<table border=\"1\" class=\"dataframe\">\n",
       "  <thead>\n",
       "    <tr style=\"text-align: right;\">\n",
       "      <th></th>\n",
       "      <th>Train_Null_Values</th>\n",
       "      <th>DTypes</th>\n",
       "    </tr>\n",
       "  </thead>\n",
       "  <tbody>\n",
       "    <tr>\n",
       "      <th>loan_amount_requested</th>\n",
       "      <td>0</td>\n",
       "      <td>object</td>\n",
       "    </tr>\n",
       "    <tr>\n",
       "      <th>length_employed</th>\n",
       "      <td>7371</td>\n",
       "      <td>object</td>\n",
       "    </tr>\n",
       "    <tr>\n",
       "      <th>home_owner</th>\n",
       "      <td>25349</td>\n",
       "      <td>object</td>\n",
       "    </tr>\n",
       "    <tr>\n",
       "      <th>annual_income</th>\n",
       "      <td>25102</td>\n",
       "      <td>float64</td>\n",
       "    </tr>\n",
       "    <tr>\n",
       "      <th>income_verified</th>\n",
       "      <td>0</td>\n",
       "      <td>object</td>\n",
       "    </tr>\n",
       "    <tr>\n",
       "      <th>purpose_of_loan</th>\n",
       "      <td>0</td>\n",
       "      <td>object</td>\n",
       "    </tr>\n",
       "    <tr>\n",
       "      <th>debt_to_income</th>\n",
       "      <td>0</td>\n",
       "      <td>float64</td>\n",
       "    </tr>\n",
       "    <tr>\n",
       "      <th>inquiries_last_6mo</th>\n",
       "      <td>0</td>\n",
       "      <td>int64</td>\n",
       "    </tr>\n",
       "    <tr>\n",
       "      <th>months_since_deliquency</th>\n",
       "      <td>88379</td>\n",
       "      <td>float64</td>\n",
       "    </tr>\n",
       "    <tr>\n",
       "      <th>number_open_accounts</th>\n",
       "      <td>0</td>\n",
       "      <td>int64</td>\n",
       "    </tr>\n",
       "    <tr>\n",
       "      <th>total_accounts</th>\n",
       "      <td>0</td>\n",
       "      <td>int64</td>\n",
       "    </tr>\n",
       "    <tr>\n",
       "      <th>gender</th>\n",
       "      <td>0</td>\n",
       "      <td>object</td>\n",
       "    </tr>\n",
       "    <tr>\n",
       "      <th>interest_rate</th>\n",
       "      <td>0</td>\n",
       "      <td>int64</td>\n",
       "    </tr>\n",
       "  </tbody>\n",
       "</table>\n",
       "</div>"
      ],
      "text/plain": [
       "                         Train_Null_Values   DTypes\n",
       "loan_amount_requested                    0   object\n",
       "length_employed                       7371   object\n",
       "home_owner                           25349   object\n",
       "annual_income                        25102  float64\n",
       "income_verified                          0   object\n",
       "purpose_of_loan                          0   object\n",
       "debt_to_income                           0  float64\n",
       "inquiries_last_6mo                       0    int64\n",
       "months_since_deliquency              88379  float64\n",
       "number_open_accounts                     0    int64\n",
       "total_accounts                           0    int64\n",
       "gender                                   0   object\n",
       "interest_rate                            0    int64"
      ]
     },
     "execution_count": 36,
     "metadata": {},
     "output_type": "execute_result"
    }
   ],
   "source": [
    "df"
   ]
  },
  {
   "cell_type": "code",
   "execution_count": 108,
   "metadata": {},
   "outputs": [
    {
     "data": {
      "text/plain": [
       "array(['< 1 year', '4 years', '7 years', '8 years', '2 years',\n",
       "       '10+ years', '1 year', nan, '6 years', '9 years', '3 years',\n",
       "       '5 years'], dtype=object)"
      ]
     },
     "execution_count": 108,
     "metadata": {},
     "output_type": "execute_result"
    }
   ],
   "source": [
    "train_data['length_employed'].unique()"
   ]
  },
  {
   "cell_type": "code",
   "execution_count": 118,
   "metadata": {},
   "outputs": [],
   "source": [
    "train_data['length_employed'] = train_data['length_employed'].str.replace('+', ' ')\n",
    "train_data['length_employed'] = train_data['length_employed'].str.replace('year ', ' ')\n",
    "train_data['length_employed'] = train_data['length_employed'].str.replace('years ', ' ')\n",
    "train_data['length_employed'] = train_data['length_employed'].str.replace('< ', ' ')"
   ]
  },
  {
   "cell_type": "code",
   "execution_count": 123,
   "metadata": {},
   "outputs": [],
   "source": [
    "train_data['length_employed'].fillna(0, inplace = True)"
   ]
  },
  {
   "cell_type": "code",
   "execution_count": 124,
   "metadata": {},
   "outputs": [
    {
     "data": {
      "text/plain": [
       "array(['Rent', 'Mortgage', nan, 'Own', 'Other', 'None'], dtype=object)"
      ]
     },
     "execution_count": 124,
     "metadata": {},
     "output_type": "execute_result"
    }
   ],
   "source": [
    "train_data['home_owner'].unique()"
   ]
  },
  {
   "cell_type": "code",
   "execution_count": 125,
   "metadata": {},
   "outputs": [],
   "source": [
    "dict_home_owner = {'Rent' :0, 'Mortgage':1, 'Own':2, 'Other': 3, 'None':4}\n",
    "train_data['home_owner']=train_data['home_owner'].map(dict_home_owner)"
   ]
  },
  {
   "cell_type": "code",
   "execution_count": 126,
   "metadata": {},
   "outputs": [],
   "source": [
    "train_data['home_owner'].fillna(3, inplace = True)"
   ]
  },
  {
   "cell_type": "code",
   "execution_count": 142,
   "metadata": {},
   "outputs": [],
   "source": [
    "train_data['annual_income'].fillna(1000,inplace = True)"
   ]
  },
  {
   "cell_type": "code",
   "execution_count": 144,
   "metadata": {},
   "outputs": [],
   "source": [
    "train_data.drop(['months_since_deliquency'], axis =1, inplace = True)"
   ]
  },
  {
   "cell_type": "code",
   "execution_count": 154,
   "metadata": {},
   "outputs": [
    {
     "data": {
      "text/plain": [
       "60000.0     5462\n",
       "50000.0     4783\n",
       "65000.0     4012\n",
       "40000.0     3856\n",
       "70000.0     3667\n",
       "            ... \n",
       "170000.0     271\n",
       "91000.0      261\n",
       "106000.0     258\n",
       "250000.0     257\n",
       "23000.0      251\n",
       "Name: annual_income, Length: 100, dtype: int64"
      ]
     },
     "execution_count": 154,
     "metadata": {},
     "output_type": "execute_result"
    }
   ],
   "source": [
    "train_data['annual_income'].value_counts().head(100)"
   ]
  },
  {
   "cell_type": "code",
   "execution_count": 155,
   "metadata": {},
   "outputs": [],
   "source": [
    "def annual(x):\n",
    "    if x <=30000:\n",
    "        return 'Low'\n",
    "    elif (x>30000 and x<60000):\n",
    "        return 'Avergae'\n",
    "    elif (x>60000 and 90000):\n",
    "        return 'High'\n",
    "    else:\n",
    "        return 'VeryHigh'\n",
    "    "
   ]
  },
  {
   "cell_type": "code",
   "execution_count": 157,
   "metadata": {},
   "outputs": [],
   "source": [
    "train_data['annual_income'] = train_data['annual_income'].apply(annual)"
   ]
  },
  {
   "cell_type": "code",
   "execution_count": 159,
   "metadata": {},
   "outputs": [],
   "source": [
    "train_data.fillna('NotAvailable', inplace = True)"
   ]
  },
  {
   "cell_type": "code",
   "execution_count": 177,
   "metadata": {},
   "outputs": [],
   "source": [
    "train_data['annual_income'] = train_data['annual_income'].map({'VeryHigh':5,'High':4,'Avergae':3,'Low':2,'NotAvailable':1})"
   ]
  },
  {
   "cell_type": "code",
   "execution_count": null,
   "metadata": {},
   "outputs": [],
   "source": [
    "train_data['income_verified'] = train_data['income_verified'].map({'Female':0,'Male':1})"
   ]
  },
  {
   "cell_type": "code",
   "execution_count": 171,
   "metadata": {},
   "outputs": [],
   "source": [
    "train_data['gender'] = train_data['gender'].map({'Female':0,'Male':1})"
   ]
  },
  {
   "cell_type": "code",
   "execution_count": 169,
   "metadata": {},
   "outputs": [],
   "source": [
    "train_data['purpose_of_loan']=train_data['purpose_of_loan'].map({'debt_consolidation':1, 'credit_card':2,\n",
    "                                                           'home_improvement':3, 'other':4,\n",
    "                                                           'major_purchase':5, 'small_business':6,\n",
    "                                                           'car':7, 'medical':8, \n",
    "                                                           'moving':9, 'vacation':10,\n",
    "                                                           'wedding':11, 'house':12,\n",
    "                                                           'renewable_energy':13, 'educational':14})"
   ]
  },
  {
   "cell_type": "code",
   "execution_count": 170,
   "metadata": {},
   "outputs": [],
   "source": [
    "train_data=pd.get_dummies(train_data, columns=['home_owner', 'income_verified'], drop_first=True)"
   ]
  },
  {
   "cell_type": "code",
   "execution_count": 185,
   "metadata": {},
   "outputs": [
    {
     "data": {
      "text/html": [
       "<div>\n",
       "<style scoped>\n",
       "    .dataframe tbody tr th:only-of-type {\n",
       "        vertical-align: middle;\n",
       "    }\n",
       "\n",
       "    .dataframe tbody tr th {\n",
       "        vertical-align: top;\n",
       "    }\n",
       "\n",
       "    .dataframe thead th {\n",
       "        text-align: right;\n",
       "    }\n",
       "</style>\n",
       "<table border=\"1\" class=\"dataframe\">\n",
       "  <thead>\n",
       "    <tr style=\"text-align: right;\">\n",
       "      <th></th>\n",
       "      <th>loan_amount_requested</th>\n",
       "      <th>length_employed</th>\n",
       "      <th>annual_income</th>\n",
       "      <th>purpose_of_loan</th>\n",
       "      <th>debt_to_income</th>\n",
       "      <th>inquiries_last_6mo</th>\n",
       "      <th>number_open_accounts</th>\n",
       "      <th>total_accounts</th>\n",
       "      <th>gender</th>\n",
       "      <th>interest_rate</th>\n",
       "      <th>home_owner_1.0</th>\n",
       "      <th>home_owner_2.0</th>\n",
       "      <th>home_owner_3.0</th>\n",
       "      <th>home_owner_4.0</th>\n",
       "      <th>income_verified_VERIFIED - income source</th>\n",
       "      <th>income_verified_not verified</th>\n",
       "      <th>number_invalid_acc</th>\n",
       "    </tr>\n",
       "  </thead>\n",
       "  <tbody>\n",
       "    <tr>\n",
       "      <th>0</th>\n",
       "      <td>7000</td>\n",
       "      <td>1</td>\n",
       "      <td>4</td>\n",
       "      <td>7</td>\n",
       "      <td>18.37</td>\n",
       "      <td>0</td>\n",
       "      <td>9</td>\n",
       "      <td>14</td>\n",
       "      <td>0</td>\n",
       "      <td>1</td>\n",
       "      <td>0</td>\n",
       "      <td>0</td>\n",
       "      <td>0</td>\n",
       "      <td>0</td>\n",
       "      <td>0</td>\n",
       "      <td>1</td>\n",
       "      <td>5</td>\n",
       "    </tr>\n",
       "    <tr>\n",
       "      <th>1</th>\n",
       "      <td>30000</td>\n",
       "      <td>4</td>\n",
       "      <td>1</td>\n",
       "      <td>1</td>\n",
       "      <td>14.93</td>\n",
       "      <td>0</td>\n",
       "      <td>12</td>\n",
       "      <td>24</td>\n",
       "      <td>0</td>\n",
       "      <td>3</td>\n",
       "      <td>1</td>\n",
       "      <td>0</td>\n",
       "      <td>0</td>\n",
       "      <td>0</td>\n",
       "      <td>0</td>\n",
       "      <td>0</td>\n",
       "      <td>12</td>\n",
       "    </tr>\n",
       "    <tr>\n",
       "      <th>2</th>\n",
       "      <td>24725</td>\n",
       "      <td>7</td>\n",
       "      <td>4</td>\n",
       "      <td>1</td>\n",
       "      <td>15.88</td>\n",
       "      <td>0</td>\n",
       "      <td>12</td>\n",
       "      <td>16</td>\n",
       "      <td>1</td>\n",
       "      <td>3</td>\n",
       "      <td>1</td>\n",
       "      <td>0</td>\n",
       "      <td>0</td>\n",
       "      <td>0</td>\n",
       "      <td>1</td>\n",
       "      <td>0</td>\n",
       "      <td>4</td>\n",
       "    </tr>\n",
       "    <tr>\n",
       "      <th>3</th>\n",
       "      <td>16000</td>\n",
       "      <td>1</td>\n",
       "      <td>3</td>\n",
       "      <td>1</td>\n",
       "      <td>14.34</td>\n",
       "      <td>3</td>\n",
       "      <td>16</td>\n",
       "      <td>22</td>\n",
       "      <td>1</td>\n",
       "      <td>3</td>\n",
       "      <td>0</td>\n",
       "      <td>0</td>\n",
       "      <td>1</td>\n",
       "      <td>0</td>\n",
       "      <td>1</td>\n",
       "      <td>0</td>\n",
       "      <td>6</td>\n",
       "    </tr>\n",
       "    <tr>\n",
       "      <th>4</th>\n",
       "      <td>17000</td>\n",
       "      <td>8</td>\n",
       "      <td>4</td>\n",
       "      <td>1</td>\n",
       "      <td>22.17</td>\n",
       "      <td>1</td>\n",
       "      <td>19</td>\n",
       "      <td>30</td>\n",
       "      <td>0</td>\n",
       "      <td>1</td>\n",
       "      <td>0</td>\n",
       "      <td>1</td>\n",
       "      <td>0</td>\n",
       "      <td>0</td>\n",
       "      <td>1</td>\n",
       "      <td>0</td>\n",
       "      <td>11</td>\n",
       "    </tr>\n",
       "  </tbody>\n",
       "</table>\n",
       "</div>"
      ],
      "text/plain": [
       "   loan_amount_requested length_employed  annual_income  purpose_of_loan  \\\n",
       "0                   7000              1               4                7   \n",
       "1                  30000              4               1                1   \n",
       "2                  24725              7               4                1   \n",
       "3                  16000              1               3                1   \n",
       "4                  17000              8               4                1   \n",
       "\n",
       "   debt_to_income  inquiries_last_6mo  number_open_accounts  total_accounts  \\\n",
       "0           18.37                   0                     9              14   \n",
       "1           14.93                   0                    12              24   \n",
       "2           15.88                   0                    12              16   \n",
       "3           14.34                   3                    16              22   \n",
       "4           22.17                   1                    19              30   \n",
       "\n",
       "   gender  interest_rate  home_owner_1.0  home_owner_2.0  home_owner_3.0  \\\n",
       "0       0              1               0               0               0   \n",
       "1       0              3               1               0               0   \n",
       "2       1              3               1               0               0   \n",
       "3       1              3               0               0               1   \n",
       "4       0              1               0               1               0   \n",
       "\n",
       "   home_owner_4.0  income_verified_VERIFIED - income source  \\\n",
       "0               0                                         0   \n",
       "1               0                                         0   \n",
       "2               0                                         1   \n",
       "3               0                                         1   \n",
       "4               0                                         1   \n",
       "\n",
       "   income_verified_not verified  number_invalid_acc  \n",
       "0                             1                   5  \n",
       "1                             0                  12  \n",
       "2                             0                   4  \n",
       "3                             0                   6  \n",
       "4                             0                  11  "
      ]
     },
     "execution_count": 185,
     "metadata": {},
     "output_type": "execute_result"
    }
   ],
   "source": [
    "train_data.head()"
   ]
  },
  {
   "cell_type": "code",
   "execution_count": 182,
   "metadata": {},
   "outputs": [],
   "source": [
    "#train_data.drop(['[\"Number_Years_To_Repay_Debt\"] = train_data[\"loan_amount_requested\"]/train_data[\"annual_income\"]\n",
    "train_data.drop(['Number_Years_To_Repay_Debt'], axis=1, inplace = True)"
   ]
  },
  {
   "cell_type": "code",
   "execution_count": 184,
   "metadata": {},
   "outputs": [],
   "source": [
    "train_data[\"number_invalid_acc\"] = train_data[\"total_accounts\"] - train_data[\"number_open_accounts\"]"
   ]
  },
  {
   "cell_type": "code",
   "execution_count": 27,
   "metadata": {},
   "outputs": [
    {
     "data": {
      "text/plain": [
       "2    70580\n",
       "3    59923\n",
       "1    33806\n",
       "Name: Interest_Rate, dtype: int64"
      ]
     },
     "execution_count": 27,
     "metadata": {},
     "output_type": "execute_result"
    }
   ],
   "source": [
    "train_data['Interest_Rate'].value_counts()"
   ]
  },
  {
   "cell_type": "code",
   "execution_count": 28,
   "metadata": {},
   "outputs": [
    {
     "data": {
      "text/plain": [
       "<matplotlib.axes._subplots.AxesSubplot at 0x2c0846efe88>"
      ]
     },
     "execution_count": 28,
     "metadata": {},
     "output_type": "execute_result"
    },
    {
     "data": {
      "image/png": "[encoded data removed]",
      "text/plain": [
       "<Figure size 432x288 with 1 Axes>"
      ]
     },
     "metadata": {
      "needs_background": "light"
     },
     "output_type": "display_data"
    }
   ],
   "source": [
    "sns.countplot(train_data['Interest_Rate'])"
   ]
  },
  {
   "cell_type": "code",
   "execution_count": 37,
   "metadata": {},
   "outputs": [
    {
     "data": {
      "text/plain": [
       "Index(['loan_amount_requested', 'length_employed', 'home_owner',\n",
       "       'annual_income', 'income_verified', 'purpose_of_loan', 'debt_to_income',\n",
       "       'inquiries_last_6mo', 'months_since_deliquency', 'number_open_accounts',\n",
       "       'total_accounts', 'gender', 'interest_rate'],\n",
       "      dtype='object')"
      ]
     },
     "execution_count": 37,
     "metadata": {},
     "output_type": "execute_result"
    }
   ],
   "source": [
    "train_data.columns"
   ]
  },
  {
   "cell_type": "code",
   "execution_count": 42,
   "metadata": {},
   "outputs": [
    {
     "data": {
      "text/plain": [
       "7500000.0"
      ]
     },
     "execution_count": 42,
     "metadata": {},
     "output_type": "execute_result"
    }
   ],
   "source": [
    "train_data['annual_income'].max()  #4000.0 is min   #max is 7500000"
   ]
  },
  {
   "cell_type": "code",
   "execution_count": null,
   "metadata": {},
   "outputs": [],
   "source": [
    "cat_col = train_data.select_dtypes(include='object').columns.to_list()\n",
    "cat_col"
   ]
  },
  {
   "cell_type": "code",
   "execution_count": 97,
   "metadata": {},
   "outputs": [
    {
     "data": {
      "text/plain": [
       "Index(['loan_amount_requested', 'length_employed', 'home_owner',\n",
       "       'annual_income', 'income_verified', 'purpose_of_loan', 'debt_to_income',\n",
       "       'inquiries_last_6mo', 'months_since_deliquency', 'number_open_accounts',\n",
       "       'total_accounts', 'gender', 'interest_rate'],\n",
       "      dtype='object')"
      ]
     },
     "execution_count": 97,
     "metadata": {},
     "output_type": "execute_result"
    }
   ],
   "source": [
    "train_data.columns"
   ]
  },
  {
   "cell_type": "code",
   "execution_count": 107,
   "metadata": {},
   "outputs": [
    {
     "data": {
      "text/plain": [
       "2    70580\n",
       "3    59923\n",
       "1    33806\n",
       "Name: interest_rate, dtype: int64"
      ]
     },
     "execution_count": 107,
     "metadata": {},
     "output_type": "execute_result"
    }
   ],
   "source": [
    "train_data['interest_rate'].value_counts() #map->income_verified,home_owner,purpose_of_loan,gender"
   ]
  },
  {
   "cell_type": "code",
   "execution_count": 91,
   "metadata": {},
   "outputs": [
    {
     "data": {
      "text/html": [
       "<div>\n",
       "<style scoped>\n",
       "    .dataframe tbody tr th:only-of-type {\n",
       "        vertical-align: middle;\n",
       "    }\n",
       "\n",
       "    .dataframe tbody tr th {\n",
       "        vertical-align: top;\n",
       "    }\n",
       "\n",
       "    .dataframe thead th {\n",
       "        text-align: right;\n",
       "    }\n",
       "</style>\n",
       "<table border=\"1\" class=\"dataframe\">\n",
       "  <thead>\n",
       "    <tr style=\"text-align: right;\">\n",
       "      <th></th>\n",
       "      <th>count</th>\n",
       "      <th>min</th>\n",
       "      <th>max</th>\n",
       "      <th>mean</th>\n",
       "      <th>median</th>\n",
       "      <th>std</th>\n",
       "    </tr>\n",
       "    <tr>\n",
       "      <th>length_employed</th>\n",
       "      <th></th>\n",
       "      <th></th>\n",
       "      <th></th>\n",
       "      <th></th>\n",
       "      <th></th>\n",
       "      <th></th>\n",
       "    </tr>\n",
       "  </thead>\n",
       "  <tbody>\n",
       "    <tr>\n",
       "      <th>1 year</th>\n",
       "      <td>10422</td>\n",
       "      <td>725</td>\n",
       "      <td>35000</td>\n",
       "      <td>13242.355114</td>\n",
       "      <td>11500.0</td>\n",
       "      <td>7980.595155</td>\n",
       "    </tr>\n",
       "    <tr>\n",
       "      <th>10+ years</th>\n",
       "      <td>52915</td>\n",
       "      <td>1000</td>\n",
       "      <td>35000</td>\n",
       "      <td>15800.171974</td>\n",
       "      <td>15000.0</td>\n",
       "      <td>8589.973933</td>\n",
       "    </tr>\n",
       "    <tr>\n",
       "      <th>2 years</th>\n",
       "      <td>14620</td>\n",
       "      <td>800</td>\n",
       "      <td>35000</td>\n",
       "      <td>13592.093023</td>\n",
       "      <td>12000.0</td>\n",
       "      <td>8067.727029</td>\n",
       "    </tr>\n",
       "    <tr>\n",
       "      <th>3 years</th>\n",
       "      <td>12974</td>\n",
       "      <td>500</td>\n",
       "      <td>35000</td>\n",
       "      <td>13699.460459</td>\n",
       "      <td>12000.0</td>\n",
       "      <td>8011.624766</td>\n",
       "    </tr>\n",
       "    <tr>\n",
       "      <th>4 years</th>\n",
       "      <td>9784</td>\n",
       "      <td>900</td>\n",
       "      <td>35000</td>\n",
       "      <td>13733.130621</td>\n",
       "      <td>12000.0</td>\n",
       "      <td>7972.669287</td>\n",
       "    </tr>\n",
       "    <tr>\n",
       "      <th>5 years</th>\n",
       "      <td>10814</td>\n",
       "      <td>1000</td>\n",
       "      <td>35000</td>\n",
       "      <td>13850.906233</td>\n",
       "      <td>12000.0</td>\n",
       "      <td>8043.100489</td>\n",
       "    </tr>\n",
       "    <tr>\n",
       "      <th>6 years</th>\n",
       "      <td>9094</td>\n",
       "      <td>1000</td>\n",
       "      <td>35000</td>\n",
       "      <td>14103.216406</td>\n",
       "      <td>12000.0</td>\n",
       "      <td>8004.244626</td>\n",
       "    </tr>\n",
       "    <tr>\n",
       "      <th>7 years</th>\n",
       "      <td>9308</td>\n",
       "      <td>1000</td>\n",
       "      <td>35000</td>\n",
       "      <td>14439.637946</td>\n",
       "      <td>12762.5</td>\n",
       "      <td>8068.943753</td>\n",
       "    </tr>\n",
       "    <tr>\n",
       "      <th>8 years</th>\n",
       "      <td>7917</td>\n",
       "      <td>1000</td>\n",
       "      <td>35000</td>\n",
       "      <td>14517.361374</td>\n",
       "      <td>12975.0</td>\n",
       "      <td>8135.982141</td>\n",
       "    </tr>\n",
       "    <tr>\n",
       "      <th>9 years</th>\n",
       "      <td>6285</td>\n",
       "      <td>1000</td>\n",
       "      <td>35000</td>\n",
       "      <td>14850.688146</td>\n",
       "      <td>13475.0</td>\n",
       "      <td>8117.239122</td>\n",
       "    </tr>\n",
       "    <tr>\n",
       "      <th>&lt; 1 year</th>\n",
       "      <td>12805</td>\n",
       "      <td>500</td>\n",
       "      <td>35000</td>\n",
       "      <td>13073.049590</td>\n",
       "      <td>11200.0</td>\n",
       "      <td>8065.617881</td>\n",
       "    </tr>\n",
       "  </tbody>\n",
       "</table>\n",
       "</div>"
      ],
      "text/plain": [
       "                 count   min    max          mean   median          std\n",
       "length_employed                                                        \n",
       "1 year           10422   725  35000  13242.355114  11500.0  7980.595155\n",
       "10+ years        52915  1000  35000  15800.171974  15000.0  8589.973933\n",
       "2 years          14620   800  35000  13592.093023  12000.0  8067.727029\n",
       "3 years          12974   500  35000  13699.460459  12000.0  8011.624766\n",
       "4 years           9784   900  35000  13733.130621  12000.0  7972.669287\n",
       "5 years          10814  1000  35000  13850.906233  12000.0  8043.100489\n",
       "6 years           9094  1000  35000  14103.216406  12000.0  8004.244626\n",
       "7 years           9308  1000  35000  14439.637946  12762.5  8068.943753\n",
       "8 years           7917  1000  35000  14517.361374  12975.0  8135.982141\n",
       "9 years           6285  1000  35000  14850.688146  13475.0  8117.239122\n",
       "< 1 year         12805   500  35000  13073.049590  11200.0  8065.617881"
      ]
     },
     "execution_count": 91,
     "metadata": {},
     "output_type": "execute_result"
    }
   ],
   "source": [
    "train_data.groupby('length_employed')['loan_amount_requested'].agg(['count','min','max','mean','median','std'])"
   ]
  },
  {
   "cell_type": "code",
   "execution_count": 94,
   "metadata": {},
   "outputs": [
    {
     "data": {
      "text/plain": [
       "<matplotlib.axes._subplots.AxesSubplot at 0x2c0aea27d48>"
      ]
     },
     "execution_count": 94,
     "metadata": {},
     "output_type": "execute_result"
    },
    {
     "data": {
      "image/png": "[encoded data removed]",
      "text/plain": [
       "<Figure size 864x432 with 1 Axes>"
      ]
     },
     "metadata": {
      "needs_background": "light"
     },
     "output_type": "display_data"
    }
   ],
   "source": [
    "plt.figure(figsize=(12,6))\n",
    "sns.scatterplot(x='loan_amount_requested',y='annual_income', data= train_data)"
   ]
  },
  {
   "cell_type": "code",
   "execution_count": 90,
   "metadata": {},
   "outputs": [
    {
     "data": {
      "text/plain": [
       "<matplotlib.axes._subplots.AxesSubplot at 0x2c08759ee48>"
      ]
     },
     "execution_count": 90,
     "metadata": {},
     "output_type": "execute_result"
    },
    {
     "data": {
      "image/png": "[encoded data removed]",
      "text/plain": [
       "<Figure size 1440x432 with 2 Axes>"
      ]
     },
     "metadata": {
      "needs_background": "light"
     },
     "output_type": "display_data"
    }
   ],
   "source": [
    "plt.figure(figsize=(20,6))\n",
    "plt.subplot(121)\n",
    "sns.countplot(train_data['loan_amount_requested'], order = train_data['loan_amount_requested'].value_counts(dropna=False).index)\n",
    "plt.subplot(122)\n",
    "sns.countplot(train_data['purpose_of_loan'], order = train_data['purpose_of_loan'].value_counts(dropna=False).index)"
   ]
  },
  {
   "cell_type": "code",
   "execution_count": 38,
   "metadata": {},
   "outputs": [
    {
     "data": {
      "text/plain": [
       "<matplotlib.axes._subplots.AxesSubplot at 0x2c0853c5608>"
      ]
     },
     "execution_count": 38,
     "metadata": {},
     "output_type": "execute_result"
    },
    {
     "data": {
      "image/png": "[encoded data removed]",
      "text/plain": [
       "<Figure size 1440x432 with 3 Axes>"
      ]
     },
     "metadata": {
      "needs_background": "light"
     },
     "output_type": "display_data"
    }
   ],
   "source": [
    "plt.figure(figsize=(20,6))\n",
    "plt.subplot(131)\n",
    "sns.countplot(train_data['home_owner'], order = train_data['home_owner'].value_counts(dropna=False).index)\n",
    "plt.subplot(132)\n",
    "sns.countplot(train_data['annual_income'], order = train_data['annual_income'].value_counts(dropna=False).index)\n",
    "plt.subplot(133)\n",
    "sns.countplot(train_data['debt_to_income'], order = train_data['debt_to_income'].value_counts(dropna=False).index)"
   ]
  },
  {
   "cell_type": "code",
   "execution_count": 198,
   "metadata": {},
   "outputs": [],
   "source": [
    "from sklearn.model_selection import train_test_split,cross_validate,RandomizedSearchCV,GridSearchCV,KFold,StratifiedKFold\n",
    "from sklearn.tree import DecisionTreeClassifier\n",
    "from sklearn.ensemble import RandomForestClassifier,AdaBoostClassifier,GradientBoostingClassifier\n",
    "from sklearn.preprocessing import StandardScaler,MinMaxScaler\n",
    "from sklearn.linear_model import LogisticRegression,PassiveAggressiveClassifier,SGDClassifier,RidgeClassifier\n",
    "from sklearn.svm import SVC,LinearSVC,NuSVC\n",
    "from sklearn.metrics import accuracy_score,confusion_matrix,classification_report,f1_score"
   ]
  },
  {
   "cell_type": "code",
   "execution_count": 188,
   "metadata": {},
   "outputs": [],
   "source": [
    "##Creating independent(X) and dependent(y) variables  \n",
    "X = train_data.drop('interest_rate',axis=1)\n",
    "y= train_data['interest_rate']\n",
    "\n",
    "##split the data for testing and training with 25% test size\n",
    "X_train,X_test,y_train,y_test = train_test_split(X,y,test_size=0.25,stratify=y)"
   ]
  },
  {
   "cell_type": "markdown",
   "metadata": {},
   "source": [
    "##### Bulding Models without scaling"
   ]
  },
  {
   "cell_type": "code",
   "execution_count": 189,
   "metadata": {},
   "outputs": [
    {
     "name": "stdout",
     "output_type": "stream",
     "text": [
      "accuracy_score : 0.49683528896246165\n",
      "f1_score : 0.4831824624058562\n"
     ]
    }
   ],
   "source": [
    "RFC_d = RandomForestClassifier()\n",
    "RFC_d.fit(X_train,y_train)\n",
    "pred_ref = RFC_d.predict(X_test)\n",
    "print('accuracy_score :',accuracy_score(y_test,pred_ref))\n",
    "print('f1_score :',f1_score(y_test,pred_ref,average='weighted'))"
   ]
  },
  {
   "cell_type": "code",
   "execution_count": 190,
   "metadata": {},
   "outputs": [
    {
     "name": "stdout",
     "output_type": "stream",
     "text": [
      "accuracy_score : 0.5152393008423\n",
      "f1_score: 0.4874458951882932\n"
     ]
    }
   ],
   "source": [
    "adc_d = AdaBoostClassifier()\n",
    "adc_d.fit(X_train,y_train)\n",
    "pred_abc = adc_d.predict(X_test)\n",
    "print('accuracy_score :',accuracy_score(y_test,pred_abc))\n",
    "print('f1_score:',f1_score(y_test,pred_abc,average='weighted'))"
   ]
  },
  {
   "cell_type": "code",
   "execution_count": 191,
   "metadata": {},
   "outputs": [
    {
     "name": "stdout",
     "output_type": "stream",
     "text": [
      "accuracy_score : 0.5220069136764205\n",
      "f1_score 0.4933196713830373\n"
     ]
    }
   ],
   "source": [
    "GBC_d = GradientBoostingClassifier()\n",
    "GBC_d.fit(X_train,y_train)\n",
    "pred_gbc = GBC_d.predict(X_test)\n",
    "print('accuracy_score :',accuracy_score(y_test,pred_gbc))\n",
    "print('f1_score',f1_score(y_test,pred_gbc,average='weighted'))"
   ]
  },
  {
   "cell_type": "code",
   "execution_count": 207,
   "metadata": {},
   "outputs": [],
   "source": [
    "#StandardScaler \n",
    "scale_std = StandardScaler()\n",
    "X_train_std = scale_std.fit_transform(X_train)\n",
    "X_test_std = scale_std.transform(X_test)"
   ]
  },
  {
   "cell_type": "code",
   "execution_count": 208,
   "metadata": {},
   "outputs": [
    {
     "name": "stdout",
     "output_type": "stream",
     "text": [
      "accuracy_score : 0.4971274161351575\n",
      "f1_score: 0.4836464491212075\n"
     ]
    }
   ],
   "source": [
    "RFC_std = RandomForestClassifier()\n",
    "RFC_std.fit(X_train_std,y_train)\n",
    "pred_rfcstd = RFC_std.predict(X_test_std)\n",
    "print('accuracy_score :',accuracy_score(y_test,pred_rfcstd))\n",
    "print('f1_score:',f1_score(y_test,pred_rfcstd,average='weighted'))"
   ]
  },
  {
   "cell_type": "code",
   "execution_count": 209,
   "metadata": {},
   "outputs": [
    {
     "name": "stdout",
     "output_type": "stream",
     "text": [
      "accuracy_score : 0.5152393008423\n",
      "f1_score : 0.4874458951882932\n"
     ]
    }
   ],
   "source": [
    "ABC_std = AdaBoostClassifier()\n",
    "ABC_std.fit(X_train_std,y_train)\n",
    "pred_abcstd = ABC_std.predict(X_test_std)\n",
    "print('accuracy_score :',accuracy_score(y_test,pred_abcstd))\n",
    "print('f1_score :',f1_score(y_test,pred_abcstd,average='weighted'))"
   ]
  },
  {
   "cell_type": "code",
   "execution_count": 210,
   "metadata": {},
   "outputs": [
    {
     "name": "stdout",
     "output_type": "stream",
     "text": [
      "accuracy_score : 0.5220069136764205\n",
      "f1_score : 0.4933196713830373\n"
     ]
    }
   ],
   "source": [
    "GBC_std = GradientBoostingClassifier()\n",
    "GBC_std.fit(X_train_std,y_train)\n",
    "pred_gbcstd = GBC_std.predict(X_test_std)\n",
    "print('accuracy_score :',accuracy_score(y_test,pred_gbcstd))\n",
    "print('f1_score :',f1_score(y_test,pred_gbcstd,average='weighted'))"
   ]
  },
  {
   "cell_type": "markdown",
   "metadata": {},
   "source": [
    "# Xb_Boost_Model"
   ]
  },
  {
   "cell_type": "code",
   "execution_count": 211,
   "metadata": {},
   "outputs": [],
   "source": [
    "import xgboost\n",
    "clf = xgboost.XGBClassifier()"
   ]
  },
  {
   "cell_type": "code",
   "execution_count": 223,
   "metadata": {},
   "outputs": [
    {
     "data": {
      "text/plain": [
       "array([' 1 ', '4 ', '7 ', '8 ', '2 ', '10  ', '1 ', 0, '6 ', '9 ', '3 ',\n",
       "       '5 '], dtype=object)"
      ]
     },
     "execution_count": 223,
     "metadata": {},
     "output_type": "execute_result"
    }
   ],
   "source": [
    "train_data['length_employed'].unique()"
   ]
  },
  {
   "cell_type": "code",
   "execution_count": 224,
   "metadata": {},
   "outputs": [],
   "source": [
    "train_data['length_employed'] = pd.to_numeric(train_data['length_employed'])"
   ]
  },
  {
   "cell_type": "code",
   "execution_count": 227,
   "metadata": {},
   "outputs": [
    {
     "data": {
      "text/plain": [
       "dtype('int64')"
      ]
     },
     "execution_count": 227,
     "metadata": {},
     "output_type": "execute_result"
    }
   ],
   "source": [
    "train_data['length_employed'].dtypes"
   ]
  },
  {
   "cell_type": "code",
   "execution_count": 230,
   "metadata": {},
   "outputs": [],
   "source": [
    "##Creating independent(X) and dependent(y) variables  \n",
    "X = train_data.drop('interest_rate',axis=1)\n",
    "y= train_data['interest_rate']\n"
   ]
  },
  {
   "cell_type": "code",
   "execution_count": 231,
   "metadata": {},
   "outputs": [],
   "source": [
    "##split the data for testing and training with 25% test size\n",
    "X_train,X_test,y_train,y_test = train_test_split(X,y,test_size=0.25,stratify=y)"
   ]
  },
  {
   "cell_type": "code",
   "execution_count": 232,
   "metadata": {},
   "outputs": [
    {
     "name": "stdout",
     "output_type": "stream",
     "text": [
      "accuracy_score : 0.5259993183699304\n",
      "f1_score : 0.509202119549376\n"
     ]
    }
   ],
   "source": [
    "clf.fit(X_train,y_train)\n",
    "pred_xgd = clf.predict(X_test)\n",
    "\n",
    "print('accuracy_score :',accuracy_score(y_test,pred_xgd))\n",
    "print('f1_score :',f1_score(y_test,pred_xgd,average='weighted'))"
   ]
  },
  {
   "cell_type": "markdown",
   "metadata": {},
   "source": [
    "#### KFold Crossvalidation "
   ]
  },
  {
   "cell_type": "code",
   "execution_count": 240,
   "metadata": {},
   "outputs": [
    {
     "name": "stdout",
     "output_type": "stream",
     "text": [
      "validation data f1_score after 1 split 0.5085293252547051\n",
      "validation data f1_score after 2 split 0.5087627613972161\n",
      "validation data f1_score after 3 split 0.5111036919760514\n",
      "validation data f1_score after 4 split 0.5071589806913487\n",
      "validation data f1_score after 5 split 0.5145257250453188\n",
      "validation data f1_score after 6 split 0.5099916099060675\n",
      "validation data f1_score after 7 split 0.511521088075899\n",
      "validation data f1_score after 8 split 0.5164857131148958\n",
      "validation data f1_score after 9 split 0.5099920201972179\n",
      "validation data f1_score after 10 split 0.514803481400603\n"
     ]
    }
   ],
   "source": [
    "kf  = KFold(n_splits=10)\n",
    "scores = []\n",
    "pred_test = []\n",
    "model = xgboost.XGBClassifier()\n",
    "i=1\n",
    "for train_index ,test_index in kf.split(X):\n",
    "    #print('Train index:',train_index,'Cross_validation index:',test_index)\n",
    "    X_train_cv = X.iloc[train_index]\n",
    "    X_test_cv = X.iloc[test_index]\n",
    "    \n",
    "    y_train_cv = y.iloc[train_index]\n",
    "    y_test_cv = y.iloc[test_index]\n",
    "    \n",
    "    model.fit(X_train_cv,y_train_cv)\n",
    "    \n",
    "    pred = model.predict(X_test_cv)\n",
    "    \n",
    "    print('validation data f1_score after {} split'.format(i),f1_score(y_test_cv,pred,average='weighted'))\n",
    "    i +=1\n",
    "    scores.append(f1_score(y_test_cv,pred,average='weighted'))\n",
    "    test_predictions = model.predict(X_test)\n",
    "    pred_test.append(test_predictions)\n",
    "    "
   ]
  },
  {
   "cell_type": "code",
   "execution_count": 235,
   "metadata": {},
   "outputs": [
    {
     "data": {
      "text/plain": [
       "[0.5085293252547051,\n",
       " 0.5087627613972161,\n",
       " 0.5111036919760514,\n",
       " 0.5071589806913487,\n",
       " 0.5145257250453188,\n",
       " 0.5099916099060675,\n",
       " 0.511521088075899,\n",
       " 0.5164857131148958,\n",
       " 0.5099920201972179,\n",
       " 0.514803481400603]"
      ]
     },
     "execution_count": 235,
     "metadata": {},
     "output_type": "execute_result"
    }
   ],
   "source": [
    "scores"
   ]
  },
  {
   "cell_type": "code",
   "execution_count": null,
   "metadata": {},
   "outputs": [],
   "source": [
    "pred_test"
   ]
  },
  {
   "cell_type": "code",
   "execution_count": 237,
   "metadata": {},
   "outputs": [],
   "source": [
    "## making combining of  of all the models out put \n",
    "from scipy.stats import mode\n",
    "pred1 = mode(pred_test,0)"
   ]
  },
  {
   "cell_type": "code",
   "execution_count": 238,
   "metadata": {},
   "outputs": [
    {
     "ename": "NameError",
     "evalue": "name 'ID' is not defined",
     "output_type": "error",
     "traceback": [
      "\u001b[1;31m---------------------------------------------------------------------------\u001b[0m",
      "\u001b[1;31mNameError\u001b[0m                                 Traceback (most recent call last)",
      "\u001b[1;32m<ipython-input-238-3cd111408282>\u001b[0m in \u001b[0;36m<module>\u001b[1;34m\u001b[0m\n\u001b[1;32m----> 1\u001b[1;33m \u001b[0mdataframe\u001b[0m \u001b[1;33m=\u001b[0m \u001b[0mpd\u001b[0m\u001b[1;33m.\u001b[0m\u001b[0mDataFrame\u001b[0m\u001b[1;33m(\u001b[0m\u001b[1;33m{\u001b[0m\u001b[1;34m'Loan_ID'\u001b[0m\u001b[1;33m:\u001b[0m\u001b[0mID\u001b[0m\u001b[1;33m,\u001b[0m\u001b[1;34m'Interest_Rate'\u001b[0m\u001b[1;33m:\u001b[0m\u001b[0mpred1\u001b[0m\u001b[1;33m.\u001b[0m\u001b[0mmode\u001b[0m\u001b[1;33m[\u001b[0m\u001b[1;36m0\u001b[0m\u001b[1;33m]\u001b[0m\u001b[1;33m}\u001b[0m\u001b[1;33m)\u001b[0m\u001b[1;33m\u001b[0m\u001b[1;33m\u001b[0m\u001b[0m\n\u001b[0m",
      "\u001b[1;31mNameError\u001b[0m: name 'ID' is not defined"
     ]
    }
   ],
   "source": [
    "dataframe = pd.DataFrame({'Loan_ID':ID,'Interest_Rate':pred1.mode[0]})"
   ]
  },
  {
   "cell_type": "code",
   "execution_count": null,
   "metadata": {},
   "outputs": [],
   "source": []
  },
  {
   "cell_type": "code",
   "execution_count": null,
   "metadata": {},
   "outputs": [],
   "source": []
  },
  {
   "cell_type": "code",
   "execution_count": null,
   "metadata": {},
   "outputs": [],
   "source": []
  },
  {
   "cell_type": "code",
   "execution_count": null,
   "metadata": {},
   "outputs": [],
   "source": []
  },
  {
   "cell_type": "code",
   "execution_count": null,
   "metadata": {},
   "outputs": [],
   "source": []
  },
  {
   "cell_type": "code",
   "execution_count": null,
   "metadata": {},
   "outputs": [],
   "source": []
  },
  {
   "cell_type": "code",
   "execution_count": null,
   "metadata": {},
   "outputs": [],
   "source": []
  },
  {
   "cell_type": "code",
   "execution_count": null,
   "metadata": {},
   "outputs": [],
   "source": []
  },
  {
   "cell_type": "code",
   "execution_count": null,
   "metadata": {},
   "outputs": [],
   "source": []
  },
  {
   "cell_type": "code",
   "execution_count": null,
   "metadata": {},
   "outputs": [],
   "source": []
  }
 ],
 "metadata": {
  "kernelspec": {
   "display_name": "Python 3",
   "language": "python",
   "name": "python3"
  },
  "language_info": {
   "codemirror_mode": {
    "name": "ipython",
    "version": 3
   },
   "file_extension": ".py",
   "mimetype": "text/x-python",
   "name": "python",
   "nbconvert_exporter": "python",
   "pygments_lexer": "ipython3",
   "version": "3.7.7"
  }
 },
 "nbformat": 4,
 "nbformat_minor": 4
}
