{
 "cells": [
  {
   "cell_type": "markdown",
   "metadata": {},
   "source": [
    "# Customer Product Selection by Numeric Size\n",
    "Enter the customer id: 212798\n",
    "Enter the product: blouse\n",
    "Enter the size of product: 8\n",
    "    \n",
    "Enter the customer id: 45337\n",
    "Enter the product: blazer\n",
    "Enter the size of product: 12\n",
    "    \n",
    "# Customer Product Selection by Alpha Size\n",
    "Enter the customer id: 45337\n",
    "Enter the product: sweater\n",
    "Enter the size of product: M \n",
    "\n",
    "\n",
    "Enter the customer id: 362951\n",
    "Enter the product: sweatshirt\n",
    "Enter the size of product: 2XL"
   ]
  },
  {
   "cell_type": "code",
   "execution_count": 1,
   "metadata": {},
   "outputs": [],
   "source": [
    "#import_libraries\n",
    "import pandas as pd\n",
    "import numpy as np\n",
    "import warnings\n",
    "warnings.filterwarnings('ignore')\n",
    "pd.set_option(\"display.max_colwidth\", None)"
   ]
  },
  {
   "cell_type": "code",
   "execution_count": 2,
   "metadata": {},
   "outputs": [
    {
     "name": "stdout",
     "output_type": "stream",
     "text": [
      "Enter the customer id: 362951\n",
      "Enter the product: sweatshirt\n",
      "Enter the size of product: 2XL\n"
     ]
    }
   ],
   "source": [
    "#Entering input from customer such as user_id,Product and Size of the product\n",
    "cust_id = int(input('Enter the customer id: '))\n",
    "product = str(input('Enter the product: '))\n",
    "size = input('Enter the size of product: ')"
   ]
  },
  {
   "cell_type": "code",
   "execution_count": 3,
   "metadata": {},
   "outputs": [
    {
     "data": {
      "text/html": [
       "<div>\n",
       "<style scoped>\n",
       "    .dataframe tbody tr th:only-of-type {\n",
       "        vertical-align: middle;\n",
       "    }\n",
       "\n",
       "    .dataframe tbody tr th {\n",
       "        vertical-align: top;\n",
       "    }\n",
       "\n",
       "    .dataframe thead th {\n",
       "        text-align: right;\n",
       "    }\n",
       "</style>\n",
       "<table border=\"1\" class=\"dataframe\">\n",
       "  <thead>\n",
       "    <tr style=\"text-align: right;\">\n",
       "      <th></th>\n",
       "      <th>S_num</th>\n",
       "      <th>Product</th>\n",
       "      <th>Feedback</th>\n",
       "      <th>Item_id</th>\n",
       "      <th>Size</th>\n",
       "      <th>User_id</th>\n",
       "      <th>Category</th>\n",
       "      <th>Size_convention</th>\n",
       "      <th>Sub_category</th>\n",
       "      <th>New_size</th>\n",
       "    </tr>\n",
       "  </thead>\n",
       "  <tbody>\n",
       "    <tr>\n",
       "      <th>0</th>\n",
       "      <td>0</td>\n",
       "      <td>romper</td>\n",
       "      <td>fit</td>\n",
       "      <td>2260466</td>\n",
       "      <td>14</td>\n",
       "      <td>420272</td>\n",
       "      <td>Women's Topwear</td>\n",
       "      <td>Num</td>\n",
       "      <td>Dresses</td>\n",
       "      <td>14</td>\n",
       "    </tr>\n",
       "    <tr>\n",
       "      <th>1</th>\n",
       "      <td>1</td>\n",
       "      <td>gown</td>\n",
       "      <td>fit</td>\n",
       "      <td>153475</td>\n",
       "      <td>12</td>\n",
       "      <td>273551</td>\n",
       "      <td>Women's Topwear</td>\n",
       "      <td>Num</td>\n",
       "      <td>Dresses</td>\n",
       "      <td>12</td>\n",
       "    </tr>\n",
       "    <tr>\n",
       "      <th>2</th>\n",
       "      <td>2</td>\n",
       "      <td>sheath</td>\n",
       "      <td>fit</td>\n",
       "      <td>1063761</td>\n",
       "      <td>4</td>\n",
       "      <td>360448</td>\n",
       "      <td>Women's Topwear</td>\n",
       "      <td>Num</td>\n",
       "      <td>Dresses</td>\n",
       "      <td>4</td>\n",
       "    </tr>\n",
       "    <tr>\n",
       "      <th>3</th>\n",
       "      <td>3</td>\n",
       "      <td>dress</td>\n",
       "      <td>fit</td>\n",
       "      <td>126335</td>\n",
       "      <td>8</td>\n",
       "      <td>909926</td>\n",
       "      <td>Women's Topwear</td>\n",
       "      <td>Num</td>\n",
       "      <td>Dresses</td>\n",
       "      <td>8</td>\n",
       "    </tr>\n",
       "    <tr>\n",
       "      <th>4</th>\n",
       "      <td>4</td>\n",
       "      <td>gown</td>\n",
       "      <td>fit</td>\n",
       "      <td>616682</td>\n",
       "      <td>12</td>\n",
       "      <td>151944</td>\n",
       "      <td>Women's Topwear</td>\n",
       "      <td>Num</td>\n",
       "      <td>Dresses</td>\n",
       "      <td>12</td>\n",
       "    </tr>\n",
       "  </tbody>\n",
       "</table>\n",
       "</div>"
      ],
      "text/plain": [
       "   S_num Product Feedback  Item_id  Size  User_id         Category  \\\n",
       "0      0  romper      fit  2260466    14   420272  Women's Topwear   \n",
       "1      1    gown      fit   153475    12   273551  Women's Topwear   \n",
       "2      2  sheath      fit  1063761     4   360448  Women's Topwear   \n",
       "3      3   dress      fit   126335     8   909926  Women's Topwear   \n",
       "4      4    gown      fit   616682    12   151944  Women's Topwear   \n",
       "\n",
       "  Size_convention Sub_category New_size  \n",
       "0             Num      Dresses       14  \n",
       "1             Num      Dresses       12  \n",
       "2             Num      Dresses        4  \n",
       "3             Num      Dresses        8  \n",
       "4             Num      Dresses       12  "
      ]
     },
     "execution_count": 3,
     "metadata": {},
     "output_type": "execute_result"
    }
   ],
   "source": [
    "#importing_customer_history_library\n",
    "cust_history = pd.read_csv('customer_purchase_history.csv')\n",
    "cust_history.rename({'Us_size':'New_size'},inplace=True,axis=1)\n",
    "cust_history.head(5)"
   ]
  },
  {
   "cell_type": "code",
   "execution_count": 4,
   "metadata": {},
   "outputs": [
    {
     "data": {
      "text/html": [
       "<div>\n",
       "<style scoped>\n",
       "    .dataframe tbody tr th:only-of-type {\n",
       "        vertical-align: middle;\n",
       "    }\n",
       "\n",
       "    .dataframe tbody tr th {\n",
       "        vertical-align: top;\n",
       "    }\n",
       "\n",
       "    .dataframe thead th {\n",
       "        text-align: right;\n",
       "    }\n",
       "</style>\n",
       "<table border=\"1\" class=\"dataframe\">\n",
       "  <thead>\n",
       "    <tr style=\"text-align: right;\">\n",
       "      <th></th>\n",
       "      <th>Sub_category</th>\n",
       "      <th>Brand</th>\n",
       "      <th>New_size</th>\n",
       "      <th>Size</th>\n",
       "      <th>Bust</th>\n",
       "      <th>Waist</th>\n",
       "      <th>Neckline</th>\n",
       "      <th>Arm_length</th>\n",
       "    </tr>\n",
       "  </thead>\n",
       "  <tbody>\n",
       "    <tr>\n",
       "      <th>0</th>\n",
       "      <td>Tops &amp; Blouses</td>\n",
       "      <td>H&amp;M</td>\n",
       "      <td>3XS-XXS</td>\n",
       "      <td>0</td>\n",
       "      <td>30.00</td>\n",
       "      <td>23.50</td>\n",
       "      <td>13.50</td>\n",
       "      <td>23.25</td>\n",
       "    </tr>\n",
       "    <tr>\n",
       "      <th>1</th>\n",
       "      <td>Tops &amp; Blouses</td>\n",
       "      <td>H&amp;M</td>\n",
       "      <td>3XS-XXS</td>\n",
       "      <td>1</td>\n",
       "      <td>30.75</td>\n",
       "      <td>24.25</td>\n",
       "      <td>13.75</td>\n",
       "      <td>23.38</td>\n",
       "    </tr>\n",
       "    <tr>\n",
       "      <th>2</th>\n",
       "      <td>Tops &amp; Blouses</td>\n",
       "      <td>H&amp;M</td>\n",
       "      <td>XS</td>\n",
       "      <td>2</td>\n",
       "      <td>31.50</td>\n",
       "      <td>25.00</td>\n",
       "      <td>14.00</td>\n",
       "      <td>23.50</td>\n",
       "    </tr>\n",
       "    <tr>\n",
       "      <th>3</th>\n",
       "      <td>Tops &amp; Blouses</td>\n",
       "      <td>H&amp;M</td>\n",
       "      <td>XS</td>\n",
       "      <td>3</td>\n",
       "      <td>32.25</td>\n",
       "      <td>25.63</td>\n",
       "      <td>14.00</td>\n",
       "      <td>23.50</td>\n",
       "    </tr>\n",
       "    <tr>\n",
       "      <th>4</th>\n",
       "      <td>Tops &amp; Blouses</td>\n",
       "      <td>H&amp;M</td>\n",
       "      <td>S</td>\n",
       "      <td>4</td>\n",
       "      <td>33.00</td>\n",
       "      <td>26.25</td>\n",
       "      <td>14.00</td>\n",
       "      <td>23.50</td>\n",
       "    </tr>\n",
       "  </tbody>\n",
       "</table>\n",
       "</div>"
      ],
      "text/plain": [
       "     Sub_category Brand New_size  Size   Bust  Waist  Neckline  Arm_length\n",
       "0  Tops & Blouses   H&M  3XS-XXS     0  30.00  23.50     13.50       23.25\n",
       "1  Tops & Blouses   H&M  3XS-XXS     1  30.75  24.25     13.75       23.38\n",
       "2  Tops & Blouses   H&M       XS     2  31.50  25.00     14.00       23.50\n",
       "3  Tops & Blouses   H&M       XS     3  32.25  25.63     14.00       23.50\n",
       "4  Tops & Blouses   H&M        S     4  33.00  26.25     14.00       23.50"
      ]
     },
     "execution_count": 4,
     "metadata": {},
     "output_type": "execute_result"
    }
   ],
   "source": [
    "#importing_product_master\n",
    "Product_master = pd.read_csv('Product_Master.csv')\n",
    "Product_master.rename({'Size_in_alphabet':'New_size','Us_size':'Size'},inplace=True,axis=1)\n",
    "Product_master.head()"
   ]
  },
  {
   "cell_type": "code",
   "execution_count": 5,
   "metadata": {},
   "outputs": [
    {
     "data": {
      "text/html": [
       "<div>\n",
       "<style scoped>\n",
       "    .dataframe tbody tr th:only-of-type {\n",
       "        vertical-align: middle;\n",
       "    }\n",
       "\n",
       "    .dataframe tbody tr th {\n",
       "        vertical-align: top;\n",
       "    }\n",
       "\n",
       "    .dataframe thead th {\n",
       "        text-align: right;\n",
       "    }\n",
       "</style>\n",
       "<table border=\"1\" class=\"dataframe\">\n",
       "  <thead>\n",
       "    <tr style=\"text-align: right;\">\n",
       "      <th></th>\n",
       "      <th>Product</th>\n",
       "      <th>Category</th>\n",
       "      <th>Sub_category</th>\n",
       "    </tr>\n",
       "  </thead>\n",
       "  <tbody>\n",
       "    <tr>\n",
       "      <th>0</th>\n",
       "      <td>romper</td>\n",
       "      <td>Women's Topwear</td>\n",
       "      <td>Dresses</td>\n",
       "    </tr>\n",
       "    <tr>\n",
       "      <th>1</th>\n",
       "      <td>gown</td>\n",
       "      <td>Women's Topwear</td>\n",
       "      <td>Dresses</td>\n",
       "    </tr>\n",
       "  </tbody>\n",
       "</table>\n",
       "</div>"
      ],
      "text/plain": [
       "  Product         Category Sub_category\n",
       "0  romper  Women's Topwear      Dresses\n",
       "1    gown  Women's Topwear      Dresses"
      ]
     },
     "execution_count": 5,
     "metadata": {},
     "output_type": "execute_result"
    }
   ],
   "source": [
    "#importing_product_size_mapping\n",
    "Product_Size_Mapping = pd.read_csv('Product to size category mapping.csv')\n",
    "Product_Size_Mapping.head(2)"
   ]
  },
  {
   "cell_type": "code",
   "execution_count": 6,
   "metadata": {},
   "outputs": [
    {
     "data": {
      "text/html": [
       "<div>\n",
       "<style scoped>\n",
       "    .dataframe tbody tr th:only-of-type {\n",
       "        vertical-align: middle;\n",
       "    }\n",
       "\n",
       "    .dataframe tbody tr th {\n",
       "        vertical-align: top;\n",
       "    }\n",
       "\n",
       "    .dataframe thead th {\n",
       "        text-align: right;\n",
       "    }\n",
       "</style>\n",
       "<table border=\"1\" class=\"dataframe\">\n",
       "  <thead>\n",
       "    <tr style=\"text-align: right;\">\n",
       "      <th></th>\n",
       "      <th>S_num</th>\n",
       "      <th>Product</th>\n",
       "      <th>Feedback</th>\n",
       "      <th>Item_id</th>\n",
       "      <th>Size</th>\n",
       "      <th>User_id</th>\n",
       "      <th>Category</th>\n",
       "      <th>Size_convention</th>\n",
       "      <th>Sub_category</th>\n",
       "      <th>New_size</th>\n",
       "    </tr>\n",
       "  </thead>\n",
       "  <tbody>\n",
       "    <tr>\n",
       "      <th>10997</th>\n",
       "      <td>11188</td>\n",
       "      <td>sweatshirt</td>\n",
       "      <td>fit</td>\n",
       "      <td>2183771</td>\n",
       "      <td>14</td>\n",
       "      <td>362951</td>\n",
       "      <td>Women's Topwear</td>\n",
       "      <td>Alpha</td>\n",
       "      <td>Tops &amp; Blouses</td>\n",
       "      <td>L</td>\n",
       "    </tr>\n",
       "    <tr>\n",
       "      <th>15074</th>\n",
       "      <td>15346</td>\n",
       "      <td>sweater</td>\n",
       "      <td>fit</td>\n",
       "      <td>2117864</td>\n",
       "      <td>20</td>\n",
       "      <td>362951</td>\n",
       "      <td>Women's Topwear</td>\n",
       "      <td>Alpha</td>\n",
       "      <td>Tops &amp; Blouses</td>\n",
       "      <td>2XL</td>\n",
       "    </tr>\n",
       "    <tr>\n",
       "      <th>38465</th>\n",
       "      <td>39137</td>\n",
       "      <td>sweater</td>\n",
       "      <td>fit</td>\n",
       "      <td>2152395</td>\n",
       "      <td>20</td>\n",
       "      <td>362951</td>\n",
       "      <td>Women's Topwear</td>\n",
       "      <td>Alpha</td>\n",
       "      <td>Tops &amp; Blouses</td>\n",
       "      <td>2XL</td>\n",
       "    </tr>\n",
       "    <tr>\n",
       "      <th>65708</th>\n",
       "      <td>66848</td>\n",
       "      <td>sweater</td>\n",
       "      <td>fit</td>\n",
       "      <td>2352435</td>\n",
       "      <td>14</td>\n",
       "      <td>362951</td>\n",
       "      <td>Women's Topwear</td>\n",
       "      <td>Alpha</td>\n",
       "      <td>Tops &amp; Blouses</td>\n",
       "      <td>L</td>\n",
       "    </tr>\n",
       "    <tr>\n",
       "      <th>71618</th>\n",
       "      <td>72888</td>\n",
       "      <td>sweater</td>\n",
       "      <td>fit</td>\n",
       "      <td>2382861</td>\n",
       "      <td>14</td>\n",
       "      <td>362951</td>\n",
       "      <td>Women's Topwear</td>\n",
       "      <td>Alpha</td>\n",
       "      <td>Tops &amp; Blouses</td>\n",
       "      <td>L</td>\n",
       "    </tr>\n",
       "    <tr>\n",
       "      <th>106126</th>\n",
       "      <td>108012</td>\n",
       "      <td>sweater</td>\n",
       "      <td>fit</td>\n",
       "      <td>2455273</td>\n",
       "      <td>14</td>\n",
       "      <td>362951</td>\n",
       "      <td>Women's Topwear</td>\n",
       "      <td>Alpha</td>\n",
       "      <td>Tops &amp; Blouses</td>\n",
       "      <td>L</td>\n",
       "    </tr>\n",
       "    <tr>\n",
       "      <th>112898</th>\n",
       "      <td>114889</td>\n",
       "      <td>sweater</td>\n",
       "      <td>fit</td>\n",
       "      <td>2703233</td>\n",
       "      <td>14</td>\n",
       "      <td>362951</td>\n",
       "      <td>Women's Topwear</td>\n",
       "      <td>Alpha</td>\n",
       "      <td>Tops &amp; Blouses</td>\n",
       "      <td>L</td>\n",
       "    </tr>\n",
       "    <tr>\n",
       "      <th>130548</th>\n",
       "      <td>132811</td>\n",
       "      <td>cardigan</td>\n",
       "      <td>fit</td>\n",
       "      <td>2094264</td>\n",
       "      <td>14</td>\n",
       "      <td>362951</td>\n",
       "      <td>Women's Topwear</td>\n",
       "      <td>Alpha</td>\n",
       "      <td>Tops &amp; Blouses</td>\n",
       "      <td>L</td>\n",
       "    </tr>\n",
       "    <tr>\n",
       "      <th>147271</th>\n",
       "      <td>149805</td>\n",
       "      <td>vest</td>\n",
       "      <td>fit</td>\n",
       "      <td>2138228</td>\n",
       "      <td>14</td>\n",
       "      <td>362951</td>\n",
       "      <td>Women's Topwear</td>\n",
       "      <td>Alpha</td>\n",
       "      <td>Tops &amp; Blouses</td>\n",
       "      <td>L</td>\n",
       "    </tr>\n",
       "  </tbody>\n",
       "</table>\n",
       "</div>"
      ],
      "text/plain": [
       "         S_num     Product Feedback  Item_id  Size  User_id         Category  \\\n",
       "10997    11188  sweatshirt      fit  2183771    14   362951  Women's Topwear   \n",
       "15074    15346     sweater      fit  2117864    20   362951  Women's Topwear   \n",
       "38465    39137     sweater      fit  2152395    20   362951  Women's Topwear   \n",
       "65708    66848     sweater      fit  2352435    14   362951  Women's Topwear   \n",
       "71618    72888     sweater      fit  2382861    14   362951  Women's Topwear   \n",
       "106126  108012     sweater      fit  2455273    14   362951  Women's Topwear   \n",
       "112898  114889     sweater      fit  2703233    14   362951  Women's Topwear   \n",
       "130548  132811    cardigan      fit  2094264    14   362951  Women's Topwear   \n",
       "147271  149805        vest      fit  2138228    14   362951  Women's Topwear   \n",
       "\n",
       "       Size_convention    Sub_category New_size  \n",
       "10997            Alpha  Tops & Blouses        L  \n",
       "15074            Alpha  Tops & Blouses      2XL  \n",
       "38465            Alpha  Tops & Blouses      2XL  \n",
       "65708            Alpha  Tops & Blouses        L  \n",
       "71618            Alpha  Tops & Blouses        L  \n",
       "106126           Alpha  Tops & Blouses        L  \n",
       "112898           Alpha  Tops & Blouses        L  \n",
       "130548           Alpha  Tops & Blouses        L  \n",
       "147271           Alpha  Tops & Blouses        L  "
      ]
     },
     "execution_count": 6,
     "metadata": {},
     "output_type": "execute_result"
    }
   ],
   "source": [
    "#Identifying_Size_Convention\n",
    "alp=str(cust_history[cust_history['Product']==product]['Size_convention'].iloc[0])\n",
    "customer_fit_count = cust_history[(cust_history['User_id']==cust_id) & (cust_history['Feedback']=='fit') & (cust_history['Size_convention']==alp)]\n",
    "customer_fit_count"
   ]
  },
  {
   "cell_type": "code",
   "execution_count": 7,
   "metadata": {},
   "outputs": [],
   "source": [
    "#CONVERTING BUST SIZE OF EVERY RECORD TO ITS RESPECTIVE MEAN AND GIVE ITS NEAREST VALUE FROM THE RECORD.\n",
    "#ONLY WORK IN ALPHA CATEGORY PRODUCT \n",
    "\n",
    "Alpha=(customer_fit_count['Size_convention'].unique()[0]=='Alpha')\n",
    "if Alpha:\n",
    "    list_of_alpha = list(Product_master['New_size'].unique())\n",
    "    list_of_subcategory = list(Product_master['Sub_category'].unique())\n",
    "    for alpha in list_of_alpha:\n",
    "        temp=0\n",
    "        min_value=0\n",
    "        for sub in list_of_subcategory:\n",
    "            alpha_records = Product_master[(Product_master['New_size']==alpha) & (Product_master['Sub_category']==sub)]\n",
    "            bust_values = list(alpha_records['Bust'])\n",
    "            avg_bust= np.mean(bust_values)\n",
    "            temp=abs(avg_bust-bust_values[0])\n",
    "            min_value=bust_values[0]\n",
    "            for bust in bust_values:\n",
    "                min_diff= abs(bust-avg_bust)\n",
    "                if min_diff<temp:\n",
    "                    min_value=bust\n",
    "                    temp=min_diff\n",
    "            list_of_index=list(Product_master[(Product_master['New_size']==alpha) & (Product_master['Sub_category']==sub)].index)\n",
    "            for list_index in list_of_index:\n",
    "                column_index=list(Product_master.columns).index('Bust')\n",
    "                Product_master.iat[list_index,column_index]=min_value "
   ]
  },
  {
   "cell_type": "code",
   "execution_count": 8,
   "metadata": {},
   "outputs": [
    {
     "name": "stdout",
     "output_type": "stream",
     "text": [
      "in Num\n"
     ]
    }
   ],
   "source": [
    "#How to convert dtype('O') to dtype('int64') in python\n",
    "if Alpha:\n",
    "    print('in Num')\n",
    "else:\n",
    "    customer_fit_count['New_size'] = customer_fit_count['New_size'].astype(str).astype('int64')"
   ]
  },
  {
   "cell_type": "code",
   "execution_count": 9,
   "metadata": {},
   "outputs": [],
   "source": [
    "#Mergeing both Product_master and customer_history with Alpha  and Numeric\n",
    "length = len(customer_fit_count['Size_convention'].unique())\n",
    "if (length>0) and Alpha: #(customer_hist_Dresses_user['Old_size'].unique()[0]=='Alpha'):\n",
    "    Historycustomer_product = pd.merge(Product_master, customer_fit_count, on=['Sub_category','New_size','Size'])\n",
    "elif (length>0):\n",
    "    customer_fit_count.drop('New_size',axis=1,inplace=True)\n",
    "    Historycustomer_product = pd.merge(Product_master, customer_fit_count, on=['Sub_category','Size'])"
   ]
  },
  {
   "cell_type": "code",
   "execution_count": 10,
   "metadata": {},
   "outputs": [],
   "source": [
    "#Getting Bust Size Count and respective sizes\n",
    "if Alpha:\n",
    "    Fit_bustsize_Count = Historycustomer_product.groupby(['Bust','New_size']).Bust.agg('count').to_frame('Count').sort_values(['Count'],ascending=False).reset_index()\n",
    "    Fit_bustsize_Count.head()\n",
    "else:\n",
    "    Fit_bustsize_Count = Historycustomer_product.groupby(['Bust','Size']).Bust.agg('count').to_frame('Count').sort_values(['Count'],ascending=False).reset_index()\n",
    "    Fit_bustsize_Count.rename({'Size':'New_size'},inplace=True,axis=1)\n",
    "    Fit_bustsize_Count.head()"
   ]
  },
  {
   "cell_type": "code",
   "execution_count": 11,
   "metadata": {},
   "outputs": [
    {
     "data": {
      "text/html": [
       "<div>\n",
       "<style scoped>\n",
       "    .dataframe tbody tr th:only-of-type {\n",
       "        vertical-align: middle;\n",
       "    }\n",
       "\n",
       "    .dataframe tbody tr th {\n",
       "        vertical-align: top;\n",
       "    }\n",
       "\n",
       "    .dataframe thead th {\n",
       "        text-align: right;\n",
       "    }\n",
       "</style>\n",
       "<table border=\"1\" class=\"dataframe\">\n",
       "  <thead>\n",
       "    <tr style=\"text-align: right;\">\n",
       "      <th></th>\n",
       "      <th>Bust</th>\n",
       "      <th>New_size</th>\n",
       "      <th>Count</th>\n",
       "      <th>Confidence</th>\n",
       "    </tr>\n",
       "  </thead>\n",
       "  <tbody>\n",
       "    <tr>\n",
       "      <th>0</th>\n",
       "      <td>41.00</td>\n",
       "      <td>L</td>\n",
       "      <td>7</td>\n",
       "      <td>77.777778</td>\n",
       "    </tr>\n",
       "    <tr>\n",
       "      <th>1</th>\n",
       "      <td>49.25</td>\n",
       "      <td>2XL</td>\n",
       "      <td>2</td>\n",
       "      <td>22.222222</td>\n",
       "    </tr>\n",
       "  </tbody>\n",
       "</table>\n",
       "</div>"
      ],
      "text/plain": [
       "    Bust New_size  Count  Confidence\n",
       "0  41.00        L      7   77.777778\n",
       "1  49.25      2XL      2   22.222222"
      ]
     },
     "execution_count": 11,
     "metadata": {},
     "output_type": "execute_result"
    }
   ],
   "source": [
    "#Calculaing_Confidence\n",
    "item_count = Fit_bustsize_Count['Count'].sum()\n",
    "Fit_bustsize_Count['Confidence'] = (Fit_bustsize_Count['Count'] / item_count) * 100\n",
    "#Fit_bustsize_Count = Fit_bustsize_Count.drop(['conf', 'confidence'], axis =1)\n",
    "Fit_bustsize_Count"
   ]
  },
  {
   "cell_type": "code",
   "execution_count": 12,
   "metadata": {},
   "outputs": [
    {
     "data": {
      "text/plain": [
       "41.0"
      ]
     },
     "execution_count": 12,
     "metadata": {},
     "output_type": "execute_result"
    }
   ],
   "source": [
    "#Bust_Size to be displayed(But not displayed)\n",
    "Fit_bustsize_Value = Fit_bustsize_Count.iloc[0:1,]\n",
    "Fit_bustsize_Value_from_history = Fit_bustsize_Value.iloc[0,0]\n",
    "Fit_bustsize_Value_from_history"
   ]
  },
  {
   "cell_type": "code",
   "execution_count": 13,
   "metadata": {},
   "outputs": [
    {
     "data": {
      "text/plain": [
       "'L'"
      ]
     },
     "execution_count": 13,
     "metadata": {},
     "output_type": "execute_result"
    }
   ],
   "source": [
    "#Size to be displayed at the end. from the history table\n",
    "Fit_Size_Value_from_history = Fit_bustsize_Count['New_size'].iloc[0]\n",
    "Fit_Size_Value_from_history"
   ]
  },
  {
   "cell_type": "code",
   "execution_count": 14,
   "metadata": {},
   "outputs": [
    {
     "data": {
      "text/plain": [
       "77.77777777777779"
      ]
     },
     "execution_count": 14,
     "metadata": {},
     "output_type": "execute_result"
    }
   ],
   "source": [
    "#Confidence_level of the bust which has highest count\n",
    "MaxCount_bustsize = Fit_bustsize_Count.iloc[[0]]\n",
    "Confidence_from_History = MaxCount_bustsize['Confidence'].iloc[0]\n",
    "Confidence_from_History"
   ]
  },
  {
   "cell_type": "code",
   "execution_count": 15,
   "metadata": {},
   "outputs": [],
   "source": [
    "#Improved_Confidence_level\n",
    "if Alpha:\n",
    "    final_df= Fit_bustsize_Count[['New_size','Count', 'Confidence']].sort_values('New_size', axis=0, ascending=True)\n",
    "    Improved_Bustsize_Confidence = final_df['Confidence'].sum()\n",
    "    Improved_Bustsize_Confidence\n",
    "else:  #.loc[0:1, :]\n",
    "    final_df= Fit_bustsize_Count[['New_size','Count', 'Confidence']].sort_values('New_size', axis=0, ascending=True).head(2)\n",
    "    Improved_Bustsize_Confidence = final_df['Confidence'].sum()\n",
    "    Improved_Bustsize_Confidence"
   ]
  },
  {
   "cell_type": "code",
   "execution_count": 16,
   "metadata": {},
   "outputs": [
    {
     "data": {
      "text/plain": [
       "100.0"
      ]
     },
     "execution_count": 16,
     "metadata": {},
     "output_type": "execute_result"
    }
   ],
   "source": [
    "Improved_Bustsize_Confidence"
   ]
  },
  {
   "cell_type": "code",
   "execution_count": 17,
   "metadata": {},
   "outputs": [
    {
     "data": {
      "text/html": [
       "<div>\n",
       "<style scoped>\n",
       "    .dataframe tbody tr th:only-of-type {\n",
       "        vertical-align: middle;\n",
       "    }\n",
       "\n",
       "    .dataframe tbody tr th {\n",
       "        vertical-align: top;\n",
       "    }\n",
       "\n",
       "    .dataframe thead th {\n",
       "        text-align: right;\n",
       "    }\n",
       "</style>\n",
       "<table border=\"1\" class=\"dataframe\">\n",
       "  <thead>\n",
       "    <tr style=\"text-align: right;\">\n",
       "      <th></th>\n",
       "      <th>New_size</th>\n",
       "      <th>Count</th>\n",
       "      <th>Confidence</th>\n",
       "    </tr>\n",
       "  </thead>\n",
       "  <tbody>\n",
       "    <tr>\n",
       "      <th>1</th>\n",
       "      <td>2XL</td>\n",
       "      <td>2</td>\n",
       "      <td>22.222222</td>\n",
       "    </tr>\n",
       "    <tr>\n",
       "      <th>0</th>\n",
       "      <td>L</td>\n",
       "      <td>7</td>\n",
       "      <td>77.777778</td>\n",
       "    </tr>\n",
       "  </tbody>\n",
       "</table>\n",
       "</div>"
      ],
      "text/plain": [
       "  New_size  Count  Confidence\n",
       "1      2XL      2   22.222222\n",
       "0        L      7   77.777778"
      ]
     },
     "execution_count": 17,
     "metadata": {},
     "output_type": "execute_result"
    }
   ],
   "source": [
    "#Displayed the final confidence(For Understanding)\n",
    "final_df"
   ]
  },
  {
   "cell_type": "code",
   "execution_count": 18,
   "metadata": {},
   "outputs": [
    {
     "data": {
      "text/html": [
       "<div>\n",
       "<style scoped>\n",
       "    .dataframe tbody tr th:only-of-type {\n",
       "        vertical-align: middle;\n",
       "    }\n",
       "\n",
       "    .dataframe tbody tr th {\n",
       "        vertical-align: top;\n",
       "    }\n",
       "\n",
       "    .dataframe thead th {\n",
       "        text-align: right;\n",
       "    }\n",
       "</style>\n",
       "<table border=\"1\" class=\"dataframe\">\n",
       "  <thead>\n",
       "    <tr style=\"text-align: right;\">\n",
       "      <th></th>\n",
       "      <th>Product</th>\n",
       "      <th>Category</th>\n",
       "      <th>Sub_category</th>\n",
       "    </tr>\n",
       "  </thead>\n",
       "  <tbody>\n",
       "    <tr>\n",
       "      <th>3855</th>\n",
       "      <td>sweatshirt</td>\n",
       "      <td>Women's Topwear</td>\n",
       "      <td>Tops &amp; Blouses</td>\n",
       "    </tr>\n",
       "    <tr>\n",
       "      <th>3935</th>\n",
       "      <td>sweatshirt</td>\n",
       "      <td>Women's Topwear</td>\n",
       "      <td>Tops &amp; Blouses</td>\n",
       "    </tr>\n",
       "  </tbody>\n",
       "</table>\n",
       "</div>"
      ],
      "text/plain": [
       "         Product         Category    Sub_category\n",
       "3855  sweatshirt  Women's Topwear  Tops & Blouses\n",
       "3935  sweatshirt  Women's Topwear  Tops & Blouses"
      ]
     },
     "execution_count": 18,
     "metadata": {},
     "output_type": "execute_result"
    }
   ],
   "source": [
    "# This Part Explains Customer Currently Selected Product\n",
    "customer_mapping_product = Product_Size_Mapping[(Product_Size_Mapping['Product']==product)]\n",
    "customer_mapping_product.head(2)"
   ]
  },
  {
   "cell_type": "code",
   "execution_count": 19,
   "metadata": {},
   "outputs": [
    {
     "data": {
      "text/html": [
       "<div>\n",
       "<style scoped>\n",
       "    .dataframe tbody tr th:only-of-type {\n",
       "        vertical-align: middle;\n",
       "    }\n",
       "\n",
       "    .dataframe tbody tr th {\n",
       "        vertical-align: top;\n",
       "    }\n",
       "\n",
       "    .dataframe thead th {\n",
       "        text-align: right;\n",
       "    }\n",
       "</style>\n",
       "<table border=\"1\" class=\"dataframe\">\n",
       "  <thead>\n",
       "    <tr style=\"text-align: right;\">\n",
       "      <th></th>\n",
       "      <th>Product</th>\n",
       "      <th>Category</th>\n",
       "      <th>Sub_category</th>\n",
       "      <th>Brand</th>\n",
       "      <th>New_size</th>\n",
       "      <th>Size</th>\n",
       "      <th>Bust</th>\n",
       "      <th>Waist</th>\n",
       "      <th>Neckline</th>\n",
       "      <th>Arm_length</th>\n",
       "    </tr>\n",
       "  </thead>\n",
       "  <tbody>\n",
       "    <tr>\n",
       "      <th>0</th>\n",
       "      <td>sweatshirt</td>\n",
       "      <td>Women's Topwear</td>\n",
       "      <td>Tops &amp; Blouses</td>\n",
       "      <td>H&amp;M</td>\n",
       "      <td>3XS-XXS</td>\n",
       "      <td>0</td>\n",
       "      <td>30.0</td>\n",
       "      <td>23.50</td>\n",
       "      <td>13.50</td>\n",
       "      <td>23.25</td>\n",
       "    </tr>\n",
       "    <tr>\n",
       "      <th>1</th>\n",
       "      <td>sweatshirt</td>\n",
       "      <td>Women's Topwear</td>\n",
       "      <td>Tops &amp; Blouses</td>\n",
       "      <td>H&amp;M</td>\n",
       "      <td>3XS-XXS</td>\n",
       "      <td>1</td>\n",
       "      <td>30.0</td>\n",
       "      <td>24.25</td>\n",
       "      <td>13.75</td>\n",
       "      <td>23.38</td>\n",
       "    </tr>\n",
       "  </tbody>\n",
       "</table>\n",
       "</div>"
      ],
      "text/plain": [
       "      Product         Category    Sub_category Brand New_size  Size  Bust  \\\n",
       "0  sweatshirt  Women's Topwear  Tops & Blouses   H&M  3XS-XXS     0  30.0   \n",
       "1  sweatshirt  Women's Topwear  Tops & Blouses   H&M  3XS-XXS     1  30.0   \n",
       "\n",
       "   Waist  Neckline  Arm_length  \n",
       "0  23.50     13.50       23.25  \n",
       "1  24.25     13.75       23.38  "
      ]
     },
     "execution_count": 19,
     "metadata": {},
     "output_type": "execute_result"
    }
   ],
   "source": [
    "#Mergeing customer_mapping_product with product_master\n",
    "Selected_Product_Mapping = pd.merge(customer_mapping_product, Product_master, on =['Sub_category'])\n",
    "Selected_Product_Mapping.head(2)"
   ]
  },
  {
   "cell_type": "code",
   "execution_count": 20,
   "metadata": {},
   "outputs": [
    {
     "name": "stdout",
     "output_type": "stream",
     "text": [
      "2XL\n"
     ]
    }
   ],
   "source": [
    "#GEtting Size Convention for both alpha and numeric\n",
    "if Alpha:\n",
    "    print(size)\n",
    "    Selected_product_mapping = Selected_Product_Mapping[(Selected_Product_Mapping['Product']== product) & (Selected_Product_Mapping['New_size']== size)]\n",
    "    Selected_product_mapping = Selected_product_mapping.drop_duplicates()   #subset=['Product', 'Size'], keep='first'\n",
    "    Selected_product_mapping\n",
    "else:\n",
    "    Selected_product_mapping = Selected_Product_Mapping[(Selected_Product_Mapping['Product']== product) & (Selected_Product_Mapping['Size']== int(size))]\n",
    "    Selected_product_mapping = Selected_product_mapping.drop_duplicates()\n",
    "    Selected_product_mapping"
   ]
  },
  {
   "cell_type": "code",
   "execution_count": 21,
   "metadata": {},
   "outputs": [
    {
     "data": {
      "text/plain": [
       "20"
      ]
     },
     "execution_count": 21,
     "metadata": {},
     "output_type": "execute_result"
    }
   ],
   "source": [
    "Selected_product_Size_mapping = Selected_product_mapping['Size'].iloc[0]\n",
    "Selected_product_Size_mapping"
   ]
  },
  {
   "cell_type": "code",
   "execution_count": 22,
   "metadata": {},
   "outputs": [
    {
     "data": {
      "text/plain": [
       "49.25"
      ]
     },
     "execution_count": 22,
     "metadata": {},
     "output_type": "execute_result"
    }
   ],
   "source": [
    "#Selected Product Bust_Size\n",
    "Selected_bustsize = Selected_product_mapping[['Bust']]\n",
    "Selected_bustsize_by_Customer = Selected_bustsize.iloc[0,0]\n",
    "Selected_bustsize_by_Customer"
   ]
  },
  {
   "cell_type": "code",
   "execution_count": 23,
   "metadata": {},
   "outputs": [
    {
     "data": {
      "text/plain": [
       "49.25"
      ]
     },
     "execution_count": 23,
     "metadata": {},
     "output_type": "execute_result"
    }
   ],
   "source": [
    "#Selected Product Bust_Size\n",
    "Selected_bustsize = Selected_product_mapping[['Bust']]\n",
    "Selected_bustsize_by_Customer = Selected_bustsize.iloc[0,0]\n",
    "Selected_bustsize_by_Customer"
   ]
  },
  {
   "cell_type": "code",
   "execution_count": 24,
   "metadata": {},
   "outputs": [],
   "source": [
    "##Size to be displayed  at the end for the product chosen by the customer\n",
    "if Alpha:\n",
    "    Selected_product_Size_ByCustomer = Selected_product_mapping[['New_size']].iloc[0,0]\n",
    "    Selected_product_Size_ByCustomer\n",
    "else:\n",
    "    Selected_product_Size_ByCustomer = Selected_product_mapping[['Size']].iloc[0,0]\n",
    "    Selected_product_Size_ByCustomer"
   ]
  },
  {
   "cell_type": "code",
   "execution_count": 25,
   "metadata": {},
   "outputs": [
    {
     "data": {
      "text/plain": [
       "'2XL'"
      ]
     },
     "execution_count": 25,
     "metadata": {},
     "output_type": "execute_result"
    }
   ],
   "source": [
    "Selected_product_Size_ByCustomer"
   ]
  },
  {
   "cell_type": "code",
   "execution_count": 26,
   "metadata": {},
   "outputs": [],
   "source": [
    "#Selected Product Confidence for alpha and numeric\n",
    "if Alpha:\n",
    "    Selected_product_Size_Alpha=Fit_bustsize_Count[Fit_bustsize_Count['New_size']== Selected_product_Size_ByCustomer]\n",
    "    Selected_product_Size_Confidence = Selected_product_Size_Alpha['Confidence'].iloc[0]\n",
    "    Selected_product_Size_Confidence\n",
    "else:\n",
    "    Selected_product_Size=Fit_bustsize_Count[Fit_bustsize_Count['New_size']== Selected_product_Size_mapping]\n",
    "    Selected_product_Size_Confidence = Selected_product_Size['Confidence'].iloc[0]\n",
    "    Selected_product_Size_Confidence"
   ]
  },
  {
   "cell_type": "code",
   "execution_count": 27,
   "metadata": {},
   "outputs": [
    {
     "data": {
      "text/plain": [
       "49.25"
      ]
     },
     "execution_count": 27,
     "metadata": {},
     "output_type": "execute_result"
    }
   ],
   "source": [
    "#Selected Product Bust size fo checking purpose\n",
    "selected_prod_Bust_Size = Selected_product_mapping['Bust'].iloc[0]\n",
    "selected_prod_Bust_Size"
   ]
  },
  {
   "cell_type": "code",
   "execution_count": 28,
   "metadata": {},
   "outputs": [
    {
     "name": "stdout",
     "output_type": "stream",
     "text": [
      "The Selected Size is 2XL\n",
      "Recommended size is L, Confidence level 100.00%"
     ]
    }
   ],
   "source": [
    "#Comparing BustSize but displaying the US Size\n",
    "\n",
    "if(Fit_bustsize_Value_from_history == selected_prod_Bust_Size):\n",
    "        print('The Recommended size is:',Fit_Size_Value_from_history)\n",
    "        print('The Confidence level of Selected Product is:',Improved_Bustsize_Confidence)\n",
    "else:\n",
    "    print('The Selected Size is {}'.format(Selected_product_Size_ByCustomer))\n",
    "    print('Recommended size is %s, Confidence level %.2f'%(Fit_Size_Value_from_history,Improved_Bustsize_Confidence),end=\"%\")"
   ]
  },
  {
   "cell_type": "code",
   "execution_count": null,
   "metadata": {},
   "outputs": [],
   "source": []
  }
 ],
 "metadata": {
  "kernelspec": {
   "display_name": "Python 3",
   "language": "python",
   "name": "python3"
  },
  "language_info": {
   "codemirror_mode": {
    "name": "ipython",
    "version": 3
   },
   "file_extension": ".py",
   "mimetype": "text/x-python",
   "name": "python",
   "nbconvert_exporter": "python",
   "pygments_lexer": "ipython3",
   "version": "3.7.7"
  }
 },
 "nbformat": 4,
 "nbformat_minor": 4
}
