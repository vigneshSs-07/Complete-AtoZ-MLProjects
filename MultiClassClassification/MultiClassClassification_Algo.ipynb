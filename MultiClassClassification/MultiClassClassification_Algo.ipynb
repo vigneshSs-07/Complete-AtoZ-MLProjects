{
 "cells": [
  {
   "cell_type": "code",
   "execution_count": 1,
   "metadata": {},
   "outputs": [],
   "source": [
    "#import_librariesa\n",
    "import pandas as pd\n",
    "import numpy as np\n",
    "import os\n",
    "import warnings\n",
    "warnings.filterwarnings('ignore')\n",
    "pd.set_option(\"display.max_colwidth\", None)\n",
    "import matplotlib.pyplot as plt  \n",
    "import seaborn as sns\n",
    "%matplotlib inline"
   ]
  },
  {
   "cell_type": "markdown",
   "metadata": {},
   "source": [
    "# Modify in CSV File"
   ]
  },
  {
   "cell_type": "code",
   "execution_count": 2,
   "metadata": {},
   "outputs": [
    {
     "data": {
      "text/html": [
       "<div>\n",
       "<style scoped>\n",
       "    .dataframe tbody tr th:only-of-type {\n",
       "        vertical-align: middle;\n",
       "    }\n",
       "\n",
       "    .dataframe tbody tr th {\n",
       "        vertical-align: top;\n",
       "    }\n",
       "\n",
       "    .dataframe thead th {\n",
       "        text-align: right;\n",
       "    }\n",
       "</style>\n",
       "<table border=\"1\" class=\"dataframe\">\n",
       "  <thead>\n",
       "    <tr style=\"text-align: right;\">\n",
       "      <th></th>\n",
       "      <th>S_num</th>\n",
       "      <th>Product</th>\n",
       "      <th>Feedback</th>\n",
       "      <th>Item_id</th>\n",
       "      <th>Size</th>\n",
       "      <th>User_id</th>\n",
       "      <th>Category</th>\n",
       "      <th>Size_convention</th>\n",
       "      <th>Sub_category</th>\n",
       "      <th>Us_size</th>\n",
       "      <th>Purchase_date</th>\n",
       "      <th>age</th>\n",
       "      <th>height</th>\n",
       "      <th>weight</th>\n",
       "    </tr>\n",
       "  </thead>\n",
       "  <tbody>\n",
       "    <tr>\n",
       "      <th>0</th>\n",
       "      <td>0.0</td>\n",
       "      <td>romper</td>\n",
       "      <td>fit</td>\n",
       "      <td>2260466.0</td>\n",
       "      <td>14.0</td>\n",
       "      <td>420272.0</td>\n",
       "      <td>Women's Topwear</td>\n",
       "      <td>Num</td>\n",
       "      <td>Dresses</td>\n",
       "      <td>14</td>\n",
       "      <td>5-Sep-19</td>\n",
       "      <td>28.0</td>\n",
       "      <td>5' 8\"</td>\n",
       "      <td>137lbs</td>\n",
       "    </tr>\n",
       "    <tr>\n",
       "      <th>1</th>\n",
       "      <td>1.0</td>\n",
       "      <td>gown</td>\n",
       "      <td>fit</td>\n",
       "      <td>153475.0</td>\n",
       "      <td>12.0</td>\n",
       "      <td>273551.0</td>\n",
       "      <td>Women's Topwear</td>\n",
       "      <td>Num</td>\n",
       "      <td>Dresses</td>\n",
       "      <td>12</td>\n",
       "      <td>12-Dec-19</td>\n",
       "      <td>36.0</td>\n",
       "      <td>5' 6\"</td>\n",
       "      <td>132lbs</td>\n",
       "    </tr>\n",
       "    <tr>\n",
       "      <th>2</th>\n",
       "      <td>2.0</td>\n",
       "      <td>sheath</td>\n",
       "      <td>fit</td>\n",
       "      <td>1063761.0</td>\n",
       "      <td>4.0</td>\n",
       "      <td>360448.0</td>\n",
       "      <td>Women's Topwear</td>\n",
       "      <td>Num</td>\n",
       "      <td>Dresses</td>\n",
       "      <td>4</td>\n",
       "      <td>7-May-19</td>\n",
       "      <td>116.0</td>\n",
       "      <td>5' 4\"</td>\n",
       "      <td>NaN</td>\n",
       "    </tr>\n",
       "    <tr>\n",
       "      <th>3</th>\n",
       "      <td>3.0</td>\n",
       "      <td>dress</td>\n",
       "      <td>fit</td>\n",
       "      <td>126335.0</td>\n",
       "      <td>8.0</td>\n",
       "      <td>909926.0</td>\n",
       "      <td>Women's Topwear</td>\n",
       "      <td>Num</td>\n",
       "      <td>Dresses</td>\n",
       "      <td>8</td>\n",
       "      <td>19-Jul-19</td>\n",
       "      <td>34.0</td>\n",
       "      <td>5' 5\"</td>\n",
       "      <td>135lbs</td>\n",
       "    </tr>\n",
       "    <tr>\n",
       "      <th>4</th>\n",
       "      <td>4.0</td>\n",
       "      <td>gown</td>\n",
       "      <td>fit</td>\n",
       "      <td>616682.0</td>\n",
       "      <td>12.0</td>\n",
       "      <td>151944.0</td>\n",
       "      <td>Women's Topwear</td>\n",
       "      <td>Num</td>\n",
       "      <td>Dresses</td>\n",
       "      <td>12</td>\n",
       "      <td>31-Aug-19</td>\n",
       "      <td>27.0</td>\n",
       "      <td>5' 9\"</td>\n",
       "      <td>145lbs</td>\n",
       "    </tr>\n",
       "  </tbody>\n",
       "</table>\n",
       "</div>"
      ],
      "text/plain": [
       "   S_num Product Feedback    Item_id  Size   User_id         Category  \\\n",
       "0    0.0  romper      fit  2260466.0  14.0  420272.0  Women's Topwear   \n",
       "1    1.0    gown      fit   153475.0  12.0  273551.0  Women's Topwear   \n",
       "2    2.0  sheath      fit  1063761.0   4.0  360448.0  Women's Topwear   \n",
       "3    3.0   dress      fit   126335.0   8.0  909926.0  Women's Topwear   \n",
       "4    4.0    gown      fit   616682.0  12.0  151944.0  Women's Topwear   \n",
       "\n",
       "  Size_convention Sub_category Us_size Purchase_date    age height  weight  \n",
       "0             Num      Dresses      14      5-Sep-19   28.0  5' 8\"  137lbs  \n",
       "1             Num      Dresses      12     12-Dec-19   36.0  5' 6\"  132lbs  \n",
       "2             Num      Dresses       4      7-May-19  116.0  5' 4\"     NaN  \n",
       "3             Num      Dresses       8     19-Jul-19   34.0  5' 5\"  135lbs  \n",
       "4             Num      Dresses      12     31-Aug-19   27.0  5' 9\"  145lbs  "
      ]
     },
     "execution_count": 2,
     "metadata": {},
     "output_type": "execute_result"
    }
   ],
   "source": [
    "Customer_Purchase_History_data = pd.read_csv('customer_purchase_history.csv')\n",
    "Customer_Purchase_History_data.head()"
   ]
  },
  {
   "cell_type": "code",
   "execution_count": 3,
   "metadata": {},
   "outputs": [],
   "source": [
    "Unique_customer_customer01 = Customer_Purchase_History_data[Customer_Purchase_History_data['User_id']== 691468]\n",
    "Unique_customer_customer02 = Customer_Purchase_History_data[Customer_Purchase_History_data['User_id']== 32925]"
   ]
  },
  {
   "cell_type": "code",
   "execution_count": 140,
   "metadata": {},
   "outputs": [
    {
     "data": {
      "text/html": [
       "<div>\n",
       "<style scoped>\n",
       "    .dataframe tbody tr th:only-of-type {\n",
       "        vertical-align: middle;\n",
       "    }\n",
       "\n",
       "    .dataframe tbody tr th {\n",
       "        vertical-align: top;\n",
       "    }\n",
       "\n",
       "    .dataframe thead th {\n",
       "        text-align: right;\n",
       "    }\n",
       "</style>\n",
       "<table border=\"1\" class=\"dataframe\">\n",
       "  <thead>\n",
       "    <tr style=\"text-align: right;\">\n",
       "      <th></th>\n",
       "      <th>Product</th>\n",
       "      <th>Feedback</th>\n",
       "      <th>Size</th>\n",
       "      <th>age</th>\n",
       "      <th>height</th>\n",
       "      <th>weight</th>\n",
       "    </tr>\n",
       "  </thead>\n",
       "  <tbody>\n",
       "    <tr>\n",
       "      <th>727</th>\n",
       "      <td>blazer</td>\n",
       "      <td>large</td>\n",
       "      <td>8.0</td>\n",
       "      <td>25.0</td>\n",
       "      <td>5' 6\"</td>\n",
       "      <td>145lbs</td>\n",
       "    </tr>\n",
       "    <tr>\n",
       "      <th>976</th>\n",
       "      <td>dress</td>\n",
       "      <td>large</td>\n",
       "      <td>4.0</td>\n",
       "      <td>28.0</td>\n",
       "      <td>5' 6\"</td>\n",
       "      <td>122lbs</td>\n",
       "    </tr>\n",
       "    <tr>\n",
       "      <th>1168</th>\n",
       "      <td>dress</td>\n",
       "      <td>fit</td>\n",
       "      <td>8.0</td>\n",
       "      <td>45.0</td>\n",
       "      <td>5' 1\"</td>\n",
       "      <td>162lbs</td>\n",
       "    </tr>\n",
       "    <tr>\n",
       "      <th>1335</th>\n",
       "      <td>dress</td>\n",
       "      <td>large</td>\n",
       "      <td>4.0</td>\n",
       "      <td>33.0</td>\n",
       "      <td>5' 4\"</td>\n",
       "      <td>155lbs</td>\n",
       "    </tr>\n",
       "    <tr>\n",
       "      <th>1684</th>\n",
       "      <td>dress</td>\n",
       "      <td>large</td>\n",
       "      <td>8.0</td>\n",
       "      <td>28.0</td>\n",
       "      <td>5' 11\"</td>\n",
       "      <td>161lbs</td>\n",
       "    </tr>\n",
       "    <tr>\n",
       "      <th>...</th>\n",
       "      <td>...</td>\n",
       "      <td>...</td>\n",
       "      <td>...</td>\n",
       "      <td>...</td>\n",
       "      <td>...</td>\n",
       "      <td>...</td>\n",
       "    </tr>\n",
       "    <tr>\n",
       "      <th>182084</th>\n",
       "      <td>dress</td>\n",
       "      <td>small</td>\n",
       "      <td>12.0</td>\n",
       "      <td>40.0</td>\n",
       "      <td>5' 4\"</td>\n",
       "      <td>190lbs</td>\n",
       "    </tr>\n",
       "    <tr>\n",
       "      <th>182317</th>\n",
       "      <td>dress</td>\n",
       "      <td>large</td>\n",
       "      <td>8.0</td>\n",
       "      <td>35.0</td>\n",
       "      <td>5' 8\"</td>\n",
       "      <td>150lbs</td>\n",
       "    </tr>\n",
       "    <tr>\n",
       "      <th>182856</th>\n",
       "      <td>dress</td>\n",
       "      <td>fit</td>\n",
       "      <td>8.0</td>\n",
       "      <td>50.0</td>\n",
       "      <td>5' 2\"</td>\n",
       "      <td>135lbs</td>\n",
       "    </tr>\n",
       "    <tr>\n",
       "      <th>183241</th>\n",
       "      <td>dress</td>\n",
       "      <td>fit</td>\n",
       "      <td>8.0</td>\n",
       "      <td>32.0</td>\n",
       "      <td>5' 4\"</td>\n",
       "      <td>145lbs</td>\n",
       "    </tr>\n",
       "    <tr>\n",
       "      <th>183496</th>\n",
       "      <td>dress</td>\n",
       "      <td>small</td>\n",
       "      <td>12.0</td>\n",
       "      <td>27.0</td>\n",
       "      <td>5' 2\"</td>\n",
       "      <td>105lbs</td>\n",
       "    </tr>\n",
       "  </tbody>\n",
       "</table>\n",
       "<p>435 rows × 6 columns</p>\n",
       "</div>"
      ],
      "text/plain": [
       "       Product Feedback  Size   age  height  weight\n",
       "727     blazer    large   8.0  25.0   5' 6\"  145lbs\n",
       "976      dress    large   4.0  28.0   5' 6\"  122lbs\n",
       "1168     dress      fit   8.0  45.0   5' 1\"  162lbs\n",
       "1335     dress    large   4.0  33.0   5' 4\"  155lbs\n",
       "1684     dress    large   8.0  28.0  5' 11\"  161lbs\n",
       "...        ...      ...   ...   ...     ...     ...\n",
       "182084   dress    small  12.0  40.0   5' 4\"  190lbs\n",
       "182317   dress    large   8.0  35.0   5' 8\"  150lbs\n",
       "182856   dress      fit   8.0  50.0   5' 2\"  135lbs\n",
       "183241   dress      fit   8.0  32.0   5' 4\"  145lbs\n",
       "183496   dress    small  12.0  27.0   5' 2\"  105lbs\n",
       "\n",
       "[435 rows x 6 columns]"
      ]
     },
     "execution_count": 140,
     "metadata": {},
     "output_type": "execute_result"
    }
   ],
   "source": [
    "Unique_Customer_df = Unique_customer_customer01.drop(['S_num', 'Item_id','User_id','Category','Size_convention','Sub_category','Us_size','Purchase_date'], axis =1)\n",
    "Unique_Customer_df"
   ]
  },
  {
   "cell_type": "code",
   "execution_count": 139,
   "metadata": {},
   "outputs": [],
   "source": [
    "#Unique_customer2 = Unique_customer_customer02.drop(['S_num', 'Item_id','User_id','Category','Size_convention','Sub_category','Us_size','Purchase_date'], axis =1)\n",
    "#Unique_customer2"
   ]
  },
  {
   "cell_type": "code",
   "execution_count": 138,
   "metadata": {},
   "outputs": [],
   "source": [
    "#Unique_Customer_df = pd.concat([Unique_customer1, Unique_customer2])"
   ]
  },
  {
   "cell_type": "code",
   "execution_count": 141,
   "metadata": {},
   "outputs": [
    {
     "data": {
      "text/plain": [
       "Product      0\n",
       "Feedback     0\n",
       "Size         0\n",
       "age          0\n",
       "height       2\n",
       "weight      50\n",
       "dtype: int64"
      ]
     },
     "execution_count": 141,
     "metadata": {},
     "output_type": "execute_result"
    }
   ],
   "source": [
    "Unique_Customer_df.isnull().sum()"
   ]
  },
  {
   "cell_type": "code",
   "execution_count": 142,
   "metadata": {},
   "outputs": [],
   "source": [
    "Unique_Customer_df.weight.fillna(100,inplace=True)\n",
    "Unique_Customer_df.age.fillna(50,inplace=True)\n",
    "Unique_Customer_df.height.fillna(0,inplace=True)"
   ]
  },
  {
   "cell_type": "code",
   "execution_count": 143,
   "metadata": {},
   "outputs": [
    {
     "data": {
      "text/plain": [
       "Product     0\n",
       "Feedback    0\n",
       "Size        0\n",
       "age         0\n",
       "height      0\n",
       "weight      0\n",
       "dtype: int64"
      ]
     },
     "execution_count": 143,
     "metadata": {},
     "output_type": "execute_result"
    }
   ],
   "source": [
    "Unique_Customer_df.isnull().sum()"
   ]
  },
  {
   "cell_type": "code",
   "execution_count": 11,
   "metadata": {},
   "outputs": [
    {
     "data": {
      "text/plain": [
       "Product      object\n",
       "Feedback     object\n",
       "Size        float64\n",
       "age         float64\n",
       "height       object\n",
       "weight       object\n",
       "dtype: object"
      ]
     },
     "execution_count": 11,
     "metadata": {},
     "output_type": "execute_result"
    }
   ],
   "source": [
    "Unique_Customer_df.dtypes"
   ]
  },
  {
   "cell_type": "code",
   "execution_count": 145,
   "metadata": {},
   "outputs": [],
   "source": [
    "dict_feedback={'fit':0, 'small' :1, 'large':2}\n",
    "Unique_Customer_df['Feedback'] = Unique_Customer_df['Feedback'].map(dict_feedback)"
   ]
  },
  {
   "cell_type": "code",
   "execution_count": 146,
   "metadata": {},
   "outputs": [
    {
     "data": {
      "image/png": "[encoded data removed]",
      "text/plain": [
       "<Figure size 432x288 with 1 Axes>"
      ]
     },
     "metadata": {},
     "output_type": "display_data"
    }
   ],
   "source": [
    "labels = 'Fit', 'Small' , 'Large'\n",
    "sizes = Unique_Customer_df['Feedback'].value_counts()  #Imbalanced_Dataset\n",
    "colors = ['red', 'blue', 'yellow']\n",
    "patches = plt.pie(sizes, labels= labels, autopct='%1.1f%%', radius=1400,colors = colors, shadow = True)\n",
    "plt.axis('equal')\n",
    "plt.show()"
   ]
  },
  {
   "cell_type": "code",
   "execution_count": 147,
   "metadata": {},
   "outputs": [
    {
     "data": {
      "text/plain": [
       "Product      object\n",
       "Feedback      int64\n",
       "Size        float64\n",
       "age         float64\n",
       "height       object\n",
       "weight       object\n",
       "dtype: object"
      ]
     },
     "execution_count": 147,
     "metadata": {},
     "output_type": "execute_result"
    }
   ],
   "source": [
    "Unique_Customer_df.dtypes"
   ]
  },
  {
   "cell_type": "code",
   "execution_count": 148,
   "metadata": {},
   "outputs": [
    {
     "data": {
      "text/plain": [
       "727        8\n",
       "976        4\n",
       "1168       8\n",
       "1335       4\n",
       "1684       8\n",
       "          ..\n",
       "182084    12\n",
       "182317     8\n",
       "182856     8\n",
       "183241     8\n",
       "183496    12\n",
       "Name: Size, Length: 435, dtype: int32"
      ]
     },
     "execution_count": 148,
     "metadata": {},
     "output_type": "execute_result"
    }
   ],
   "source": [
    "Unique_Customer_df['age'].astype(int)\n",
    "Unique_Customer_df['Size'].astype(int)"
   ]
  },
  {
   "cell_type": "code",
   "execution_count": 149,
   "metadata": {},
   "outputs": [],
   "source": [
    "Unique_Customer_df['height'] = Unique_Customer_df['height'].str.replace(\" \",'')\n",
    "Unique_Customer_df['height'] = Unique_Customer_df['height'].str.replace(\"\\\"\",'')\n",
    "Unique_Customer_df['height'] = Unique_Customer_df['height'].str.replace(\"'\", \".\")"
   ]
  },
  {
   "cell_type": "code",
   "execution_count": 150,
   "metadata": {},
   "outputs": [],
   "source": [
    "def convert_height(height):\n",
    "    \n",
    "        height = str(height).split(\".\")\n",
    "        feet = str(height[0])\n",
    "        try :\n",
    "            inches = str(height[1])\n",
    "        except :\n",
    "            inches = 0\n",
    "        return (12*int(feet)) +int(inches)"
   ]
  },
  {
   "cell_type": "code",
   "execution_count": 151,
   "metadata": {},
   "outputs": [
    {
     "data": {
      "text/plain": [
       "array(['5.6', '5.1', '5.4', '5.11', '5.5', '5.7', '5.3', '5.9', '5.2',\n",
       "       '5.0', '5.8', '5.10', nan, '6.1', '6.0', '6.2'], dtype=object)"
      ]
     },
     "execution_count": 151,
     "metadata": {},
     "output_type": "execute_result"
    }
   ],
   "source": [
    "Unique_Customer_df['height'].unique() #= Unique_Customer_df['height'].apply(lambda x:convert_height(x))"
   ]
  },
  {
   "cell_type": "code",
   "execution_count": 152,
   "metadata": {},
   "outputs": [],
   "source": [
    "Unique_Customer_df.height.fillna(0,inplace=True)"
   ]
  },
  {
   "cell_type": "code",
   "execution_count": 153,
   "metadata": {},
   "outputs": [],
   "source": [
    "Unique_Customer_df['height']= Unique_Customer_df['height'].apply(lambda x:convert_height(x))"
   ]
  },
  {
   "cell_type": "code",
   "execution_count": 154,
   "metadata": {},
   "outputs": [],
   "source": [
    "Unique_Customer_df['weight'] = Unique_Customer_df['weight'].str.replace('lbs', ' ')"
   ]
  },
  {
   "cell_type": "code",
   "execution_count": 155,
   "metadata": {},
   "outputs": [
    {
     "data": {
      "text/plain": [
       "array(['145 ', '122 ', '162 ', '155 ', '161 ', '180 ', '152 ', '130 ',\n",
       "       '140 ', '115 ', '117 ', '135 ', nan, '160 ', '147 ', '134 ',\n",
       "       '128 ', '120 ', '170 ', '109 ', '165 ', '150 ', '110 ', '138 ',\n",
       "       '127 ', '125 ', '246 ', '175 ', '148 ', '112 ', '118 ', '200 ',\n",
       "       '153 ', '215 ', '220 ', '126 ', '116 ', '154 ', '132 ', '168 ',\n",
       "       '142 ', '141 ', '105 ', '240 ', '143 ', '113 ', '166 ', '108 ',\n",
       "       '100 ', '197 ', '123 ', '163 ', '131 ', '210 ', '225 ', '129 ',\n",
       "       '195 ', '133 ', '185 ', '158 ', '124 ', '139 ', '190 '],\n",
       "      dtype=object)"
      ]
     },
     "execution_count": 155,
     "metadata": {},
     "output_type": "execute_result"
    }
   ],
   "source": [
    "Unique_Customer_df['weight'].unique()"
   ]
  },
  {
   "cell_type": "code",
   "execution_count": 156,
   "metadata": {},
   "outputs": [],
   "source": [
    "Unique_Customer_df.weight.fillna(0,inplace=True)"
   ]
  },
  {
   "cell_type": "code",
   "execution_count": 157,
   "metadata": {},
   "outputs": [
    {
     "data": {
      "text/plain": [
       "array(['145 ', '122 ', '162 ', '155 ', '161 ', '180 ', '152 ', '130 ',\n",
       "       '140 ', '115 ', '117 ', '135 ', 0, '160 ', '147 ', '134 ', '128 ',\n",
       "       '120 ', '170 ', '109 ', '165 ', '150 ', '110 ', '138 ', '127 ',\n",
       "       '125 ', '246 ', '175 ', '148 ', '112 ', '118 ', '200 ', '153 ',\n",
       "       '215 ', '220 ', '126 ', '116 ', '154 ', '132 ', '168 ', '142 ',\n",
       "       '141 ', '105 ', '240 ', '143 ', '113 ', '166 ', '108 ', '100 ',\n",
       "       '197 ', '123 ', '163 ', '131 ', '210 ', '225 ', '129 ', '195 ',\n",
       "       '133 ', '185 ', '158 ', '124 ', '139 ', '190 '], dtype=object)"
      ]
     },
     "execution_count": 157,
     "metadata": {},
     "output_type": "execute_result"
    }
   ],
   "source": [
    "Unique_Customer_df['weight'].unique()"
   ]
  },
  {
   "cell_type": "code",
   "execution_count": 158,
   "metadata": {},
   "outputs": [],
   "source": [
    "Unique_Customer_df['weight'] = Unique_Customer_df['weight'].astype(int)"
   ]
  },
  {
   "cell_type": "code",
   "execution_count": 159,
   "metadata": {},
   "outputs": [],
   "source": [
    "Unique_Customer_df['Size'] = Unique_Customer_df['Size'].astype(int)"
   ]
  },
  {
   "cell_type": "code",
   "execution_count": 160,
   "metadata": {},
   "outputs": [],
   "source": [
    "Unique_Customer_df['age'] = Unique_Customer_df['age'].astype(int)"
   ]
  },
  {
   "cell_type": "code",
   "execution_count": 161,
   "metadata": {},
   "outputs": [
    {
     "data": {
      "text/plain": [
       "Product     object\n",
       "Feedback     int64\n",
       "Size         int32\n",
       "age          int32\n",
       "height       int64\n",
       "weight       int32\n",
       "dtype: object"
      ]
     },
     "execution_count": 161,
     "metadata": {},
     "output_type": "execute_result"
    }
   ],
   "source": [
    "Unique_Customer_df.dtypes  #New_One"
   ]
  },
  {
   "cell_type": "code",
   "execution_count": 162,
   "metadata": {},
   "outputs": [],
   "source": [
    "Unique_Customer_df = pd.get_dummies(Unique_Customer_df, columns=['Product'])"
   ]
  },
  {
   "cell_type": "code",
   "execution_count": 163,
   "metadata": {},
   "outputs": [
    {
     "data": {
      "text/html": [
       "<div>\n",
       "<style scoped>\n",
       "    .dataframe tbody tr th:only-of-type {\n",
       "        vertical-align: middle;\n",
       "    }\n",
       "\n",
       "    .dataframe tbody tr th {\n",
       "        vertical-align: top;\n",
       "    }\n",
       "\n",
       "    .dataframe thead th {\n",
       "        text-align: right;\n",
       "    }\n",
       "</style>\n",
       "<table border=\"1\" class=\"dataframe\">\n",
       "  <thead>\n",
       "    <tr style=\"text-align: right;\">\n",
       "      <th></th>\n",
       "      <th>Feedback</th>\n",
       "      <th>Size</th>\n",
       "      <th>age</th>\n",
       "      <th>height</th>\n",
       "      <th>weight</th>\n",
       "      <th>Product_blazer</th>\n",
       "      <th>Product_blouse</th>\n",
       "      <th>Product_blouson</th>\n",
       "      <th>Product_cape</th>\n",
       "      <th>Product_dress</th>\n",
       "      <th>...</th>\n",
       "      <th>Product_jumpsuit</th>\n",
       "      <th>Product_maxi</th>\n",
       "      <th>Product_midi</th>\n",
       "      <th>Product_romper</th>\n",
       "      <th>Product_sheath</th>\n",
       "      <th>Product_shift</th>\n",
       "      <th>Product_shirt</th>\n",
       "      <th>Product_shirtdress</th>\n",
       "      <th>Product_top</th>\n",
       "      <th>Product_tunic</th>\n",
       "    </tr>\n",
       "  </thead>\n",
       "  <tbody>\n",
       "    <tr>\n",
       "      <th>727</th>\n",
       "      <td>2</td>\n",
       "      <td>8</td>\n",
       "      <td>25</td>\n",
       "      <td>66</td>\n",
       "      <td>145</td>\n",
       "      <td>1</td>\n",
       "      <td>0</td>\n",
       "      <td>0</td>\n",
       "      <td>0</td>\n",
       "      <td>0</td>\n",
       "      <td>...</td>\n",
       "      <td>0</td>\n",
       "      <td>0</td>\n",
       "      <td>0</td>\n",
       "      <td>0</td>\n",
       "      <td>0</td>\n",
       "      <td>0</td>\n",
       "      <td>0</td>\n",
       "      <td>0</td>\n",
       "      <td>0</td>\n",
       "      <td>0</td>\n",
       "    </tr>\n",
       "    <tr>\n",
       "      <th>976</th>\n",
       "      <td>2</td>\n",
       "      <td>4</td>\n",
       "      <td>28</td>\n",
       "      <td>66</td>\n",
       "      <td>122</td>\n",
       "      <td>0</td>\n",
       "      <td>0</td>\n",
       "      <td>0</td>\n",
       "      <td>0</td>\n",
       "      <td>1</td>\n",
       "      <td>...</td>\n",
       "      <td>0</td>\n",
       "      <td>0</td>\n",
       "      <td>0</td>\n",
       "      <td>0</td>\n",
       "      <td>0</td>\n",
       "      <td>0</td>\n",
       "      <td>0</td>\n",
       "      <td>0</td>\n",
       "      <td>0</td>\n",
       "      <td>0</td>\n",
       "    </tr>\n",
       "    <tr>\n",
       "      <th>1168</th>\n",
       "      <td>0</td>\n",
       "      <td>8</td>\n",
       "      <td>45</td>\n",
       "      <td>61</td>\n",
       "      <td>162</td>\n",
       "      <td>0</td>\n",
       "      <td>0</td>\n",
       "      <td>0</td>\n",
       "      <td>0</td>\n",
       "      <td>1</td>\n",
       "      <td>...</td>\n",
       "      <td>0</td>\n",
       "      <td>0</td>\n",
       "      <td>0</td>\n",
       "      <td>0</td>\n",
       "      <td>0</td>\n",
       "      <td>0</td>\n",
       "      <td>0</td>\n",
       "      <td>0</td>\n",
       "      <td>0</td>\n",
       "      <td>0</td>\n",
       "    </tr>\n",
       "    <tr>\n",
       "      <th>1335</th>\n",
       "      <td>2</td>\n",
       "      <td>4</td>\n",
       "      <td>33</td>\n",
       "      <td>64</td>\n",
       "      <td>155</td>\n",
       "      <td>0</td>\n",
       "      <td>0</td>\n",
       "      <td>0</td>\n",
       "      <td>0</td>\n",
       "      <td>1</td>\n",
       "      <td>...</td>\n",
       "      <td>0</td>\n",
       "      <td>0</td>\n",
       "      <td>0</td>\n",
       "      <td>0</td>\n",
       "      <td>0</td>\n",
       "      <td>0</td>\n",
       "      <td>0</td>\n",
       "      <td>0</td>\n",
       "      <td>0</td>\n",
       "      <td>0</td>\n",
       "    </tr>\n",
       "    <tr>\n",
       "      <th>1684</th>\n",
       "      <td>2</td>\n",
       "      <td>8</td>\n",
       "      <td>28</td>\n",
       "      <td>71</td>\n",
       "      <td>161</td>\n",
       "      <td>0</td>\n",
       "      <td>0</td>\n",
       "      <td>0</td>\n",
       "      <td>0</td>\n",
       "      <td>1</td>\n",
       "      <td>...</td>\n",
       "      <td>0</td>\n",
       "      <td>0</td>\n",
       "      <td>0</td>\n",
       "      <td>0</td>\n",
       "      <td>0</td>\n",
       "      <td>0</td>\n",
       "      <td>0</td>\n",
       "      <td>0</td>\n",
       "      <td>0</td>\n",
       "      <td>0</td>\n",
       "    </tr>\n",
       "  </tbody>\n",
       "</table>\n",
       "<p>5 rows × 22 columns</p>\n",
       "</div>"
      ],
      "text/plain": [
       "      Feedback  Size  age  height  weight  Product_blazer  Product_blouse  \\\n",
       "727          2     8   25      66     145               1               0   \n",
       "976          2     4   28      66     122               0               0   \n",
       "1168         0     8   45      61     162               0               0   \n",
       "1335         2     4   33      64     155               0               0   \n",
       "1684         2     8   28      71     161               0               0   \n",
       "\n",
       "      Product_blouson  Product_cape  Product_dress  ...  Product_jumpsuit  \\\n",
       "727                 0             0              0  ...                 0   \n",
       "976                 0             0              1  ...                 0   \n",
       "1168                0             0              1  ...                 0   \n",
       "1335                0             0              1  ...                 0   \n",
       "1684                0             0              1  ...                 0   \n",
       "\n",
       "      Product_maxi  Product_midi  Product_romper  Product_sheath  \\\n",
       "727              0             0               0               0   \n",
       "976              0             0               0               0   \n",
       "1168             0             0               0               0   \n",
       "1335             0             0               0               0   \n",
       "1684             0             0               0               0   \n",
       "\n",
       "      Product_shift  Product_shirt  Product_shirtdress  Product_top  \\\n",
       "727               0              0                   0            0   \n",
       "976               0              0                   0            0   \n",
       "1168              0              0                   0            0   \n",
       "1335              0              0                   0            0   \n",
       "1684              0              0                   0            0   \n",
       "\n",
       "      Product_tunic  \n",
       "727               0  \n",
       "976               0  \n",
       "1168              0  \n",
       "1335              0  \n",
       "1684              0  \n",
       "\n",
       "[5 rows x 22 columns]"
      ]
     },
     "execution_count": 163,
     "metadata": {},
     "output_type": "execute_result"
    }
   ],
   "source": [
    "Unique_Customer_df.head()"
   ]
  },
  {
   "cell_type": "code",
   "execution_count": 164,
   "metadata": {},
   "outputs": [],
   "source": [
    "bins = [15,24,45,60,Unique_Customer_df.age.max()]\n",
    "labels = ['Young Adult', 'Adult','Older Adult','Senior']\n",
    "Unique_Customer_df[\"age\"] = pd.cut(Unique_Customer_df[\"age\"], bins, labels = labels)"
   ]
  },
  {
   "cell_type": "code",
   "execution_count": 165,
   "metadata": {},
   "outputs": [],
   "source": [
    "dict_age ={'Young Adult':0, 'Adult':1, 'Older Adult':2, 'Senior':3}\n",
    "Unique_Customer_df['age'] = Unique_Customer_df['age'].map(dict_age)"
   ]
  },
  {
   "cell_type": "code",
   "execution_count": 166,
   "metadata": {},
   "outputs": [],
   "source": [
    "# Feature Scaling\n",
    "from sklearn.preprocessing import StandardScaler\n",
    "standScaler = StandardScaler()\n",
    "columns_to_scale = ['Size', 'age', 'height', 'weight']\n",
    "Unique_Customer_df[columns_to_scale] = standScaler.fit_transform(Unique_Customer_df[columns_to_scale])"
   ]
  },
  {
   "cell_type": "code",
   "execution_count": 167,
   "metadata": {},
   "outputs": [
    {
     "data": {
      "text/html": [
       "<div>\n",
       "<style scoped>\n",
       "    .dataframe tbody tr th:only-of-type {\n",
       "        vertical-align: middle;\n",
       "    }\n",
       "\n",
       "    .dataframe tbody tr th {\n",
       "        vertical-align: top;\n",
       "    }\n",
       "\n",
       "    .dataframe thead th {\n",
       "        text-align: right;\n",
       "    }\n",
       "</style>\n",
       "<table border=\"1\" class=\"dataframe\">\n",
       "  <thead>\n",
       "    <tr style=\"text-align: right;\">\n",
       "      <th></th>\n",
       "      <th>Feedback</th>\n",
       "      <th>Size</th>\n",
       "      <th>age</th>\n",
       "      <th>height</th>\n",
       "      <th>weight</th>\n",
       "      <th>Product_blazer</th>\n",
       "      <th>Product_blouse</th>\n",
       "      <th>Product_blouson</th>\n",
       "      <th>Product_cape</th>\n",
       "      <th>Product_dress</th>\n",
       "      <th>...</th>\n",
       "      <th>Product_jumpsuit</th>\n",
       "      <th>Product_maxi</th>\n",
       "      <th>Product_midi</th>\n",
       "      <th>Product_romper</th>\n",
       "      <th>Product_sheath</th>\n",
       "      <th>Product_shift</th>\n",
       "      <th>Product_shirt</th>\n",
       "      <th>Product_shirtdress</th>\n",
       "      <th>Product_top</th>\n",
       "      <th>Product_tunic</th>\n",
       "    </tr>\n",
       "  </thead>\n",
       "  <tbody>\n",
       "    <tr>\n",
       "      <th>727</th>\n",
       "      <td>2</td>\n",
       "      <td>0.155648</td>\n",
       "      <td>-0.097189</td>\n",
       "      <td>0.181342</td>\n",
       "      <td>0.459951</td>\n",
       "      <td>1</td>\n",
       "      <td>0</td>\n",
       "      <td>0</td>\n",
       "      <td>0</td>\n",
       "      <td>0</td>\n",
       "      <td>...</td>\n",
       "      <td>0</td>\n",
       "      <td>0</td>\n",
       "      <td>0</td>\n",
       "      <td>0</td>\n",
       "      <td>0</td>\n",
       "      <td>0</td>\n",
       "      <td>0</td>\n",
       "      <td>0</td>\n",
       "      <td>0</td>\n",
       "      <td>0</td>\n",
       "    </tr>\n",
       "    <tr>\n",
       "      <th>976</th>\n",
       "      <td>2</td>\n",
       "      <td>-1.127892</td>\n",
       "      <td>-0.097189</td>\n",
       "      <td>0.181342</td>\n",
       "      <td>-0.009765</td>\n",
       "      <td>0</td>\n",
       "      <td>0</td>\n",
       "      <td>0</td>\n",
       "      <td>0</td>\n",
       "      <td>1</td>\n",
       "      <td>...</td>\n",
       "      <td>0</td>\n",
       "      <td>0</td>\n",
       "      <td>0</td>\n",
       "      <td>0</td>\n",
       "      <td>0</td>\n",
       "      <td>0</td>\n",
       "      <td>0</td>\n",
       "      <td>0</td>\n",
       "      <td>0</td>\n",
       "      <td>0</td>\n",
       "    </tr>\n",
       "    <tr>\n",
       "      <th>1168</th>\n",
       "      <td>0</td>\n",
       "      <td>0.155648</td>\n",
       "      <td>-0.097189</td>\n",
       "      <td>-0.790131</td>\n",
       "      <td>0.807132</td>\n",
       "      <td>0</td>\n",
       "      <td>0</td>\n",
       "      <td>0</td>\n",
       "      <td>0</td>\n",
       "      <td>1</td>\n",
       "      <td>...</td>\n",
       "      <td>0</td>\n",
       "      <td>0</td>\n",
       "      <td>0</td>\n",
       "      <td>0</td>\n",
       "      <td>0</td>\n",
       "      <td>0</td>\n",
       "      <td>0</td>\n",
       "      <td>0</td>\n",
       "      <td>0</td>\n",
       "      <td>0</td>\n",
       "    </tr>\n",
       "    <tr>\n",
       "      <th>1335</th>\n",
       "      <td>2</td>\n",
       "      <td>-1.127892</td>\n",
       "      <td>-0.097189</td>\n",
       "      <td>-0.207248</td>\n",
       "      <td>0.664175</td>\n",
       "      <td>0</td>\n",
       "      <td>0</td>\n",
       "      <td>0</td>\n",
       "      <td>0</td>\n",
       "      <td>1</td>\n",
       "      <td>...</td>\n",
       "      <td>0</td>\n",
       "      <td>0</td>\n",
       "      <td>0</td>\n",
       "      <td>0</td>\n",
       "      <td>0</td>\n",
       "      <td>0</td>\n",
       "      <td>0</td>\n",
       "      <td>0</td>\n",
       "      <td>0</td>\n",
       "      <td>0</td>\n",
       "    </tr>\n",
       "    <tr>\n",
       "      <th>1684</th>\n",
       "      <td>2</td>\n",
       "      <td>0.155648</td>\n",
       "      <td>-0.097189</td>\n",
       "      <td>1.152814</td>\n",
       "      <td>0.786709</td>\n",
       "      <td>0</td>\n",
       "      <td>0</td>\n",
       "      <td>0</td>\n",
       "      <td>0</td>\n",
       "      <td>1</td>\n",
       "      <td>...</td>\n",
       "      <td>0</td>\n",
       "      <td>0</td>\n",
       "      <td>0</td>\n",
       "      <td>0</td>\n",
       "      <td>0</td>\n",
       "      <td>0</td>\n",
       "      <td>0</td>\n",
       "      <td>0</td>\n",
       "      <td>0</td>\n",
       "      <td>0</td>\n",
       "    </tr>\n",
       "    <tr>\n",
       "      <th>...</th>\n",
       "      <td>...</td>\n",
       "      <td>...</td>\n",
       "      <td>...</td>\n",
       "      <td>...</td>\n",
       "      <td>...</td>\n",
       "      <td>...</td>\n",
       "      <td>...</td>\n",
       "      <td>...</td>\n",
       "      <td>...</td>\n",
       "      <td>...</td>\n",
       "      <td>...</td>\n",
       "      <td>...</td>\n",
       "      <td>...</td>\n",
       "      <td>...</td>\n",
       "      <td>...</td>\n",
       "      <td>...</td>\n",
       "      <td>...</td>\n",
       "      <td>...</td>\n",
       "      <td>...</td>\n",
       "      <td>...</td>\n",
       "      <td>...</td>\n",
       "    </tr>\n",
       "    <tr>\n",
       "      <th>182084</th>\n",
       "      <td>1</td>\n",
       "      <td>1.439187</td>\n",
       "      <td>-0.097189</td>\n",
       "      <td>-0.207248</td>\n",
       "      <td>1.378960</td>\n",
       "      <td>0</td>\n",
       "      <td>0</td>\n",
       "      <td>0</td>\n",
       "      <td>0</td>\n",
       "      <td>1</td>\n",
       "      <td>...</td>\n",
       "      <td>0</td>\n",
       "      <td>0</td>\n",
       "      <td>0</td>\n",
       "      <td>0</td>\n",
       "      <td>0</td>\n",
       "      <td>0</td>\n",
       "      <td>0</td>\n",
       "      <td>0</td>\n",
       "      <td>0</td>\n",
       "      <td>0</td>\n",
       "    </tr>\n",
       "    <tr>\n",
       "      <th>182317</th>\n",
       "      <td>2</td>\n",
       "      <td>0.155648</td>\n",
       "      <td>-0.097189</td>\n",
       "      <td>0.569931</td>\n",
       "      <td>0.562063</td>\n",
       "      <td>0</td>\n",
       "      <td>0</td>\n",
       "      <td>0</td>\n",
       "      <td>0</td>\n",
       "      <td>1</td>\n",
       "      <td>...</td>\n",
       "      <td>0</td>\n",
       "      <td>0</td>\n",
       "      <td>0</td>\n",
       "      <td>0</td>\n",
       "      <td>0</td>\n",
       "      <td>0</td>\n",
       "      <td>0</td>\n",
       "      <td>0</td>\n",
       "      <td>0</td>\n",
       "      <td>0</td>\n",
       "    </tr>\n",
       "    <tr>\n",
       "      <th>182856</th>\n",
       "      <td>0</td>\n",
       "      <td>0.155648</td>\n",
       "      <td>2.389703</td>\n",
       "      <td>-0.595837</td>\n",
       "      <td>0.255726</td>\n",
       "      <td>0</td>\n",
       "      <td>0</td>\n",
       "      <td>0</td>\n",
       "      <td>0</td>\n",
       "      <td>1</td>\n",
       "      <td>...</td>\n",
       "      <td>0</td>\n",
       "      <td>0</td>\n",
       "      <td>0</td>\n",
       "      <td>0</td>\n",
       "      <td>0</td>\n",
       "      <td>0</td>\n",
       "      <td>0</td>\n",
       "      <td>0</td>\n",
       "      <td>0</td>\n",
       "      <td>0</td>\n",
       "    </tr>\n",
       "    <tr>\n",
       "      <th>183241</th>\n",
       "      <td>0</td>\n",
       "      <td>0.155648</td>\n",
       "      <td>-0.097189</td>\n",
       "      <td>-0.207248</td>\n",
       "      <td>0.459951</td>\n",
       "      <td>0</td>\n",
       "      <td>0</td>\n",
       "      <td>0</td>\n",
       "      <td>0</td>\n",
       "      <td>1</td>\n",
       "      <td>...</td>\n",
       "      <td>0</td>\n",
       "      <td>0</td>\n",
       "      <td>0</td>\n",
       "      <td>0</td>\n",
       "      <td>0</td>\n",
       "      <td>0</td>\n",
       "      <td>0</td>\n",
       "      <td>0</td>\n",
       "      <td>0</td>\n",
       "      <td>0</td>\n",
       "    </tr>\n",
       "    <tr>\n",
       "      <th>183496</th>\n",
       "      <td>1</td>\n",
       "      <td>1.439187</td>\n",
       "      <td>-0.097189</td>\n",
       "      <td>-0.595837</td>\n",
       "      <td>-0.356946</td>\n",
       "      <td>0</td>\n",
       "      <td>0</td>\n",
       "      <td>0</td>\n",
       "      <td>0</td>\n",
       "      <td>1</td>\n",
       "      <td>...</td>\n",
       "      <td>0</td>\n",
       "      <td>0</td>\n",
       "      <td>0</td>\n",
       "      <td>0</td>\n",
       "      <td>0</td>\n",
       "      <td>0</td>\n",
       "      <td>0</td>\n",
       "      <td>0</td>\n",
       "      <td>0</td>\n",
       "      <td>0</td>\n",
       "    </tr>\n",
       "  </tbody>\n",
       "</table>\n",
       "<p>435 rows × 22 columns</p>\n",
       "</div>"
      ],
      "text/plain": [
       "        Feedback      Size       age    height    weight  Product_blazer  \\\n",
       "727            2  0.155648 -0.097189  0.181342  0.459951               1   \n",
       "976            2 -1.127892 -0.097189  0.181342 -0.009765               0   \n",
       "1168           0  0.155648 -0.097189 -0.790131  0.807132               0   \n",
       "1335           2 -1.127892 -0.097189 -0.207248  0.664175               0   \n",
       "1684           2  0.155648 -0.097189  1.152814  0.786709               0   \n",
       "...          ...       ...       ...       ...       ...             ...   \n",
       "182084         1  1.439187 -0.097189 -0.207248  1.378960               0   \n",
       "182317         2  0.155648 -0.097189  0.569931  0.562063               0   \n",
       "182856         0  0.155648  2.389703 -0.595837  0.255726               0   \n",
       "183241         0  0.155648 -0.097189 -0.207248  0.459951               0   \n",
       "183496         1  1.439187 -0.097189 -0.595837 -0.356946               0   \n",
       "\n",
       "        Product_blouse  Product_blouson  Product_cape  Product_dress  ...  \\\n",
       "727                  0                0             0              0  ...   \n",
       "976                  0                0             0              1  ...   \n",
       "1168                 0                0             0              1  ...   \n",
       "1335                 0                0             0              1  ...   \n",
       "1684                 0                0             0              1  ...   \n",
       "...                ...              ...           ...            ...  ...   \n",
       "182084               0                0             0              1  ...   \n",
       "182317               0                0             0              1  ...   \n",
       "182856               0                0             0              1  ...   \n",
       "183241               0                0             0              1  ...   \n",
       "183496               0                0             0              1  ...   \n",
       "\n",
       "        Product_jumpsuit  Product_maxi  Product_midi  Product_romper  \\\n",
       "727                    0             0             0               0   \n",
       "976                    0             0             0               0   \n",
       "1168                   0             0             0               0   \n",
       "1335                   0             0             0               0   \n",
       "1684                   0             0             0               0   \n",
       "...                  ...           ...           ...             ...   \n",
       "182084                 0             0             0               0   \n",
       "182317                 0             0             0               0   \n",
       "182856                 0             0             0               0   \n",
       "183241                 0             0             0               0   \n",
       "183496                 0             0             0               0   \n",
       "\n",
       "        Product_sheath  Product_shift  Product_shirt  Product_shirtdress  \\\n",
       "727                  0              0              0                   0   \n",
       "976                  0              0              0                   0   \n",
       "1168                 0              0              0                   0   \n",
       "1335                 0              0              0                   0   \n",
       "1684                 0              0              0                   0   \n",
       "...                ...            ...            ...                 ...   \n",
       "182084               0              0              0                   0   \n",
       "182317               0              0              0                   0   \n",
       "182856               0              0              0                   0   \n",
       "183241               0              0              0                   0   \n",
       "183496               0              0              0                   0   \n",
       "\n",
       "        Product_top  Product_tunic  \n",
       "727               0              0  \n",
       "976               0              0  \n",
       "1168              0              0  \n",
       "1335              0              0  \n",
       "1684              0              0  \n",
       "...             ...            ...  \n",
       "182084            0              0  \n",
       "182317            0              0  \n",
       "182856            0              0  \n",
       "183241            0              0  \n",
       "183496            0              0  \n",
       "\n",
       "[435 rows x 22 columns]"
      ]
     },
     "execution_count": 167,
     "metadata": {},
     "output_type": "execute_result"
    }
   ],
   "source": [
    "Unique_Customer_df"
   ]
  },
  {
   "cell_type": "code",
   "execution_count": 168,
   "metadata": {},
   "outputs": [],
   "source": [
    "X1 = Unique_Customer_df.drop(['Feedback'], axis =1)\n",
    "y1 = Unique_Customer_df['Feedback']"
   ]
  },
  {
   "cell_type": "code",
   "execution_count": 169,
   "metadata": {},
   "outputs": [],
   "source": [
    "from sklearn.model_selection import train_test_split\n",
    "X1_train, X1_test, y1_train, y1_test = train_test_split(X1, y1, test_size = 0.4)"
   ]
  },
  {
   "cell_type": "markdown",
   "metadata": {},
   "source": [
    "# Logistic Regression for MultiClass Classification"
   ]
  },
  {
   "cell_type": "code",
   "execution_count": 205,
   "metadata": {},
   "outputs": [
    {
     "name": "stdout",
     "output_type": "stream",
     "text": [
      "Misclassified samples: 50\n",
      "Accuracy: 0.71\n",
      "Training dataset (261, 21) and testing dataset (174, 21)\n"
     ]
    }
   ],
   "source": [
    "from sklearn.linear_model import LogisticRegression   #is not a perfect fit #691468\n",
    "logreg = LogisticRegression(multi_class='ovr')  #ovo \"ValueError: multi_class should be 'multinomial', 'ovr' or 'auto'. Got ovo\"\n",
    "\n",
    "#fit data\n",
    "logreg.fit(X1_train,y1_train)\n",
    "\n",
    "#Predicting_over_train\n",
    "y_pred = logreg.predict(X1_train)\n",
    "#print(\"Predicting over train set\",y_pred)\n",
    "\n",
    "#Predicting over test\n",
    "test_pred = logreg.predict(X1_test)\n",
    "#print('predicting over test set',test_pred)\n",
    "\n",
    "count_misclassified = (y1_test != test_pred).sum()\n",
    "print('Misclassified samples: {}'.format(count_misclassified))\n",
    "\n",
    "from sklearn import metrics\n",
    "accuracy = metrics.accuracy_score(y1_test , test_pred)\n",
    "print('Accuracy: {:.2f}'.format(accuracy))\n",
    "\n",
    "print('Training dataset {} and testing dataset {}'.format(X1_train.shape,X1_test.shape))"
   ]
  },
  {
   "cell_type": "code",
   "execution_count": 206,
   "metadata": {},
   "outputs": [
    {
     "name": "stdout",
     "output_type": "stream",
     "text": [
      "Misclassified samples: 50\n",
      "Accuracy: 0.71\n",
      "Training dataset (261, 21) and testing dataset (174, 21)\n"
     ]
    }
   ],
   "source": [
    "from sklearn.multiclass import OneVsRestClassifier\n",
    "from sklearn.linear_model import LogisticRegression   #is not a perfect fit #691468\n",
    "logreg = LogisticRegression()\n",
    "\n",
    "#Implementing OVR\n",
    "ovr = OneVsRestClassifier(logreg)\n",
    "\n",
    "#fit data\n",
    "ovr.fit(X1_train,y1_train)\n",
    "\n",
    "#Predicting_over_train\n",
    "y_pred = ovr.predict(X1_train)\n",
    "#print(\"Predicting over train set\",y_pred)\n",
    "\n",
    "#Predicting over test\n",
    "test_pred = ovr.predict(X1_test)\n",
    "#print('predicting over test set',test_pred)\n",
    "\n",
    "count_misclassified = (y1_test != test_pred).sum()\n",
    "print('Misclassified samples: {}'.format(count_misclassified))\n",
    "\n",
    "from sklearn import metrics\n",
    "accuracy = metrics.accuracy_score(y1_test , test_pred)\n",
    "print('Accuracy: {:.2f}'.format(accuracy))\n",
    "\n",
    "print('Training dataset {} and testing dataset {}'.format(X1_train.shape,X1_test.shape))"
   ]
  },
  {
   "cell_type": "markdown",
   "metadata": {},
   "source": [
    "# LogisticRegression"
   ]
  },
  {
   "cell_type": "code",
   "execution_count": 170,
   "metadata": {},
   "outputs": [
    {
     "name": "stdout",
     "output_type": "stream",
     "text": [
      "Misclassified samples: 52\n",
      "Accuracy: 0.70\n",
      "Training dataset (261, 21) and testing dataset (174, 21)\n"
     ]
    }
   ],
   "source": [
    "from sklearn.linear_model import LogisticRegression   #is not a perfect fit #691468\n",
    "logreg = LogisticRegression()\n",
    "\n",
    "#fit data\n",
    "logreg.fit(X1_train,y1_train)\n",
    "\n",
    "#Predicting_over_train\n",
    "y_pred = logreg.predict(X1_train)\n",
    "#print(\"Predicting over train set\",y_pred)\n",
    "\n",
    "#Predicting over test\n",
    "test_pred = logreg.predict(X1_test)\n",
    "#print('predicting over test set',test_pred)\n",
    "\n",
    "count_misclassified = (y1_test != test_pred).sum()\n",
    "print('Misclassified samples: {}'.format(count_misclassified))\n",
    "\n",
    "from sklearn import metrics\n",
    "accuracy = metrics.accuracy_score(y1_test , test_pred)\n",
    "print('Accuracy: {:.2f}'.format(accuracy))\n",
    "\n",
    "print('Training dataset {} and testing dataset {}'.format(X1_train.shape,X1_test.shape))"
   ]
  },
  {
   "cell_type": "code",
   "execution_count": 171,
   "metadata": {},
   "outputs": [
    {
     "data": {
      "text/plain": [
       "array([0, 1, 0, 0, 2, 0, 2, 2, 2, 0, 2, 0, 0, 0, 2, 0, 2, 0, 0, 2, 0, 0,\n",
       "       0, 0, 1, 0, 2, 0, 0, 0, 2, 0, 1, 0, 2, 0, 2, 0, 0, 0, 0, 0, 0, 0,\n",
       "       0, 0, 0, 0, 0, 0, 2, 0, 0, 0, 0, 0, 0, 2, 2, 0, 0, 0, 0, 0, 0, 0,\n",
       "       0, 2, 2, 0, 0, 0, 0, 2, 0, 0, 2, 0, 2, 2, 0, 2, 0, 0, 0, 0, 0, 0,\n",
       "       2, 0, 2, 0, 2, 0, 0, 0, 0, 0, 0, 0, 0, 0, 2, 2, 2, 0, 0, 1, 0, 0,\n",
       "       2, 0, 2, 0, 2, 2, 1, 2, 2, 0, 0, 2, 0, 0, 0, 2, 0, 0, 0, 0, 0, 2,\n",
       "       0, 2, 0, 0, 0, 0, 2, 2, 0, 1, 0, 0, 0, 0, 2, 0, 2, 0, 0, 2, 2, 0,\n",
       "       2, 2, 0, 2, 0, 0, 0, 0, 0, 0, 2, 0, 0, 1, 0, 0, 0, 0, 0, 0],\n",
       "      dtype=int64)"
      ]
     },
     "execution_count": 171,
     "metadata": {},
     "output_type": "execute_result"
    }
   ],
   "source": [
    "#predicted Values\n",
    "test_pred"
   ]
  },
  {
   "cell_type": "code",
   "execution_count": 172,
   "metadata": {},
   "outputs": [
    {
     "data": {
      "text/html": [
       "<div>\n",
       "<style scoped>\n",
       "    .dataframe tbody tr th:only-of-type {\n",
       "        vertical-align: middle;\n",
       "    }\n",
       "\n",
       "    .dataframe tbody tr th {\n",
       "        vertical-align: top;\n",
       "    }\n",
       "\n",
       "    .dataframe thead th {\n",
       "        text-align: right;\n",
       "    }\n",
       "</style>\n",
       "<table border=\"1\" class=\"dataframe\">\n",
       "  <thead>\n",
       "    <tr style=\"text-align: right;\">\n",
       "      <th></th>\n",
       "      <th>Size</th>\n",
       "      <th>age</th>\n",
       "      <th>height</th>\n",
       "      <th>weight</th>\n",
       "      <th>Product_blazer</th>\n",
       "      <th>Product_blouse</th>\n",
       "      <th>Product_blouson</th>\n",
       "      <th>Product_cape</th>\n",
       "      <th>Product_dress</th>\n",
       "      <th>Product_gown</th>\n",
       "      <th>...</th>\n",
       "      <th>Product_jumpsuit</th>\n",
       "      <th>Product_maxi</th>\n",
       "      <th>Product_midi</th>\n",
       "      <th>Product_romper</th>\n",
       "      <th>Product_sheath</th>\n",
       "      <th>Product_shift</th>\n",
       "      <th>Product_shirt</th>\n",
       "      <th>Product_shirtdress</th>\n",
       "      <th>Product_top</th>\n",
       "      <th>Product_tunic</th>\n",
       "    </tr>\n",
       "  </thead>\n",
       "  <tbody>\n",
       "    <tr>\n",
       "      <th>18634</th>\n",
       "      <td>1.439187</td>\n",
       "      <td>2.389703</td>\n",
       "      <td>-0.012953</td>\n",
       "      <td>-0.050610</td>\n",
       "      <td>0</td>\n",
       "      <td>0</td>\n",
       "      <td>0</td>\n",
       "      <td>0</td>\n",
       "      <td>1</td>\n",
       "      <td>0</td>\n",
       "      <td>...</td>\n",
       "      <td>0</td>\n",
       "      <td>0</td>\n",
       "      <td>0</td>\n",
       "      <td>0</td>\n",
       "      <td>0</td>\n",
       "      <td>0</td>\n",
       "      <td>0</td>\n",
       "      <td>0</td>\n",
       "      <td>0</td>\n",
       "      <td>0</td>\n",
       "    </tr>\n",
       "    <tr>\n",
       "      <th>28831</th>\n",
       "      <td>2.080956</td>\n",
       "      <td>-0.097189</td>\n",
       "      <td>0.375636</td>\n",
       "      <td>-0.152722</td>\n",
       "      <td>0</td>\n",
       "      <td>0</td>\n",
       "      <td>0</td>\n",
       "      <td>0</td>\n",
       "      <td>1</td>\n",
       "      <td>0</td>\n",
       "      <td>...</td>\n",
       "      <td>0</td>\n",
       "      <td>0</td>\n",
       "      <td>0</td>\n",
       "      <td>0</td>\n",
       "      <td>0</td>\n",
       "      <td>0</td>\n",
       "      <td>0</td>\n",
       "      <td>0</td>\n",
       "      <td>0</td>\n",
       "      <td>0</td>\n",
       "    </tr>\n",
       "    <tr>\n",
       "      <th>153387</th>\n",
       "      <td>1.439187</td>\n",
       "      <td>2.389703</td>\n",
       "      <td>-0.207248</td>\n",
       "      <td>-2.501301</td>\n",
       "      <td>0</td>\n",
       "      <td>0</td>\n",
       "      <td>0</td>\n",
       "      <td>0</td>\n",
       "      <td>1</td>\n",
       "      <td>0</td>\n",
       "      <td>...</td>\n",
       "      <td>0</td>\n",
       "      <td>0</td>\n",
       "      <td>0</td>\n",
       "      <td>0</td>\n",
       "      <td>0</td>\n",
       "      <td>0</td>\n",
       "      <td>0</td>\n",
       "      <td>0</td>\n",
       "      <td>0</td>\n",
       "      <td>0</td>\n",
       "    </tr>\n",
       "    <tr>\n",
       "      <th>47731</th>\n",
       "      <td>1.439187</td>\n",
       "      <td>-0.097189</td>\n",
       "      <td>-0.012953</td>\n",
       "      <td>0.255726</td>\n",
       "      <td>0</td>\n",
       "      <td>0</td>\n",
       "      <td>0</td>\n",
       "      <td>0</td>\n",
       "      <td>1</td>\n",
       "      <td>0</td>\n",
       "      <td>...</td>\n",
       "      <td>0</td>\n",
       "      <td>0</td>\n",
       "      <td>0</td>\n",
       "      <td>0</td>\n",
       "      <td>0</td>\n",
       "      <td>0</td>\n",
       "      <td>0</td>\n",
       "      <td>0</td>\n",
       "      <td>0</td>\n",
       "      <td>0</td>\n",
       "    </tr>\n",
       "    <tr>\n",
       "      <th>72086</th>\n",
       "      <td>-1.127892</td>\n",
       "      <td>-0.097189</td>\n",
       "      <td>0.569931</td>\n",
       "      <td>-2.501301</td>\n",
       "      <td>0</td>\n",
       "      <td>0</td>\n",
       "      <td>0</td>\n",
       "      <td>0</td>\n",
       "      <td>1</td>\n",
       "      <td>0</td>\n",
       "      <td>...</td>\n",
       "      <td>0</td>\n",
       "      <td>0</td>\n",
       "      <td>0</td>\n",
       "      <td>0</td>\n",
       "      <td>0</td>\n",
       "      <td>0</td>\n",
       "      <td>0</td>\n",
       "      <td>0</td>\n",
       "      <td>0</td>\n",
       "      <td>0</td>\n",
       "    </tr>\n",
       "    <tr>\n",
       "      <th>...</th>\n",
       "      <td>...</td>\n",
       "      <td>...</td>\n",
       "      <td>...</td>\n",
       "      <td>...</td>\n",
       "      <td>...</td>\n",
       "      <td>...</td>\n",
       "      <td>...</td>\n",
       "      <td>...</td>\n",
       "      <td>...</td>\n",
       "      <td>...</td>\n",
       "      <td>...</td>\n",
       "      <td>...</td>\n",
       "      <td>...</td>\n",
       "      <td>...</td>\n",
       "      <td>...</td>\n",
       "      <td>...</td>\n",
       "      <td>...</td>\n",
       "      <td>...</td>\n",
       "      <td>...</td>\n",
       "      <td>...</td>\n",
       "      <td>...</td>\n",
       "    </tr>\n",
       "    <tr>\n",
       "      <th>177290</th>\n",
       "      <td>0.155648</td>\n",
       "      <td>-0.097189</td>\n",
       "      <td>0.569931</td>\n",
       "      <td>0.868399</td>\n",
       "      <td>0</td>\n",
       "      <td>0</td>\n",
       "      <td>0</td>\n",
       "      <td>0</td>\n",
       "      <td>1</td>\n",
       "      <td>0</td>\n",
       "      <td>...</td>\n",
       "      <td>0</td>\n",
       "      <td>0</td>\n",
       "      <td>0</td>\n",
       "      <td>0</td>\n",
       "      <td>0</td>\n",
       "      <td>0</td>\n",
       "      <td>0</td>\n",
       "      <td>0</td>\n",
       "      <td>0</td>\n",
       "      <td>0</td>\n",
       "    </tr>\n",
       "    <tr>\n",
       "      <th>65716</th>\n",
       "      <td>0.155648</td>\n",
       "      <td>-0.097189</td>\n",
       "      <td>0.181342</td>\n",
       "      <td>0.153614</td>\n",
       "      <td>0</td>\n",
       "      <td>0</td>\n",
       "      <td>0</td>\n",
       "      <td>0</td>\n",
       "      <td>1</td>\n",
       "      <td>0</td>\n",
       "      <td>...</td>\n",
       "      <td>0</td>\n",
       "      <td>0</td>\n",
       "      <td>0</td>\n",
       "      <td>0</td>\n",
       "      <td>0</td>\n",
       "      <td>0</td>\n",
       "      <td>0</td>\n",
       "      <td>0</td>\n",
       "      <td>0</td>\n",
       "      <td>0</td>\n",
       "    </tr>\n",
       "    <tr>\n",
       "      <th>126228</th>\n",
       "      <td>0.155648</td>\n",
       "      <td>-0.097189</td>\n",
       "      <td>0.764225</td>\n",
       "      <td>0.562063</td>\n",
       "      <td>0</td>\n",
       "      <td>0</td>\n",
       "      <td>0</td>\n",
       "      <td>0</td>\n",
       "      <td>1</td>\n",
       "      <td>0</td>\n",
       "      <td>...</td>\n",
       "      <td>0</td>\n",
       "      <td>0</td>\n",
       "      <td>0</td>\n",
       "      <td>0</td>\n",
       "      <td>0</td>\n",
       "      <td>0</td>\n",
       "      <td>0</td>\n",
       "      <td>0</td>\n",
       "      <td>0</td>\n",
       "      <td>0</td>\n",
       "    </tr>\n",
       "    <tr>\n",
       "      <th>121450</th>\n",
       "      <td>0.155648</td>\n",
       "      <td>-0.097189</td>\n",
       "      <td>0.181342</td>\n",
       "      <td>0.255726</td>\n",
       "      <td>0</td>\n",
       "      <td>0</td>\n",
       "      <td>0</td>\n",
       "      <td>0</td>\n",
       "      <td>1</td>\n",
       "      <td>0</td>\n",
       "      <td>...</td>\n",
       "      <td>0</td>\n",
       "      <td>0</td>\n",
       "      <td>0</td>\n",
       "      <td>0</td>\n",
       "      <td>0</td>\n",
       "      <td>0</td>\n",
       "      <td>0</td>\n",
       "      <td>0</td>\n",
       "      <td>0</td>\n",
       "      <td>0</td>\n",
       "    </tr>\n",
       "    <tr>\n",
       "      <th>29894</th>\n",
       "      <td>0.155648</td>\n",
       "      <td>-0.097189</td>\n",
       "      <td>-0.401542</td>\n",
       "      <td>-0.152722</td>\n",
       "      <td>0</td>\n",
       "      <td>0</td>\n",
       "      <td>0</td>\n",
       "      <td>0</td>\n",
       "      <td>1</td>\n",
       "      <td>0</td>\n",
       "      <td>...</td>\n",
       "      <td>0</td>\n",
       "      <td>0</td>\n",
       "      <td>0</td>\n",
       "      <td>0</td>\n",
       "      <td>0</td>\n",
       "      <td>0</td>\n",
       "      <td>0</td>\n",
       "      <td>0</td>\n",
       "      <td>0</td>\n",
       "      <td>0</td>\n",
       "    </tr>\n",
       "  </tbody>\n",
       "</table>\n",
       "<p>174 rows × 21 columns</p>\n",
       "</div>"
      ],
      "text/plain": [
       "            Size       age    height    weight  Product_blazer  \\\n",
       "18634   1.439187  2.389703 -0.012953 -0.050610               0   \n",
       "28831   2.080956 -0.097189  0.375636 -0.152722               0   \n",
       "153387  1.439187  2.389703 -0.207248 -2.501301               0   \n",
       "47731   1.439187 -0.097189 -0.012953  0.255726               0   \n",
       "72086  -1.127892 -0.097189  0.569931 -2.501301               0   \n",
       "...          ...       ...       ...       ...             ...   \n",
       "177290  0.155648 -0.097189  0.569931  0.868399               0   \n",
       "65716   0.155648 -0.097189  0.181342  0.153614               0   \n",
       "126228  0.155648 -0.097189  0.764225  0.562063               0   \n",
       "121450  0.155648 -0.097189  0.181342  0.255726               0   \n",
       "29894   0.155648 -0.097189 -0.401542 -0.152722               0   \n",
       "\n",
       "        Product_blouse  Product_blouson  Product_cape  Product_dress  \\\n",
       "18634                0                0             0              1   \n",
       "28831                0                0             0              1   \n",
       "153387               0                0             0              1   \n",
       "47731                0                0             0              1   \n",
       "72086                0                0             0              1   \n",
       "...                ...              ...           ...            ...   \n",
       "177290               0                0             0              1   \n",
       "65716                0                0             0              1   \n",
       "126228               0                0             0              1   \n",
       "121450               0                0             0              1   \n",
       "29894                0                0             0              1   \n",
       "\n",
       "        Product_gown  ...  Product_jumpsuit  Product_maxi  Product_midi  \\\n",
       "18634              0  ...                 0             0             0   \n",
       "28831              0  ...                 0             0             0   \n",
       "153387             0  ...                 0             0             0   \n",
       "47731              0  ...                 0             0             0   \n",
       "72086              0  ...                 0             0             0   \n",
       "...              ...  ...               ...           ...           ...   \n",
       "177290             0  ...                 0             0             0   \n",
       "65716              0  ...                 0             0             0   \n",
       "126228             0  ...                 0             0             0   \n",
       "121450             0  ...                 0             0             0   \n",
       "29894              0  ...                 0             0             0   \n",
       "\n",
       "        Product_romper  Product_sheath  Product_shift  Product_shirt  \\\n",
       "18634                0               0              0              0   \n",
       "28831                0               0              0              0   \n",
       "153387               0               0              0              0   \n",
       "47731                0               0              0              0   \n",
       "72086                0               0              0              0   \n",
       "...                ...             ...            ...            ...   \n",
       "177290               0               0              0              0   \n",
       "65716                0               0              0              0   \n",
       "126228               0               0              0              0   \n",
       "121450               0               0              0              0   \n",
       "29894                0               0              0              0   \n",
       "\n",
       "        Product_shirtdress  Product_top  Product_tunic  \n",
       "18634                    0            0              0  \n",
       "28831                    0            0              0  \n",
       "153387                   0            0              0  \n",
       "47731                    0            0              0  \n",
       "72086                    0            0              0  \n",
       "...                    ...          ...            ...  \n",
       "177290                   0            0              0  \n",
       "65716                    0            0              0  \n",
       "126228                   0            0              0  \n",
       "121450                   0            0              0  \n",
       "29894                    0            0              0  \n",
       "\n",
       "[174 rows x 21 columns]"
      ]
     },
     "execution_count": 172,
     "metadata": {},
     "output_type": "execute_result"
    }
   ],
   "source": [
    "X1_test"
   ]
  },
  {
   "cell_type": "code",
   "execution_count": 173,
   "metadata": {},
   "outputs": [
    {
     "data": {
      "text/plain": [
       "18634     0\n",
       "28831     1\n",
       "153387    1\n",
       "47731     0\n",
       "72086     2\n",
       "         ..\n",
       "177290    0\n",
       "65716     0\n",
       "126228    0\n",
       "121450    2\n",
       "29894     0\n",
       "Name: Feedback, Length: 174, dtype: int64"
      ]
     },
     "execution_count": 173,
     "metadata": {},
     "output_type": "execute_result"
    }
   ],
   "source": [
    "y1_test"
   ]
  },
  {
   "cell_type": "code",
   "execution_count": 174,
   "metadata": {},
   "outputs": [
    {
     "name": "stdout",
     "output_type": "stream",
     "text": [
      "The train_score is 0.7739463601532567 and the test_score is0.7011494252873564\n"
     ]
    }
   ],
   "source": [
    "train_score = logreg.score(X1_train, y1_train)  #Poor Model\n",
    "test_score = logreg.score(X1_test, y1_test)\n",
    "print('The train_score is {} and the test_score is{}'.format(train_score, test_score))"
   ]
  },
  {
   "cell_type": "markdown",
   "metadata": {},
   "source": [
    "# DecisionTreeClassifier"
   ]
  },
  {
   "cell_type": "code",
   "execution_count": 175,
   "metadata": {},
   "outputs": [
    {
     "name": "stdout",
     "output_type": "stream",
     "text": [
      "Misclassified samples: 68\n",
      "Accuracy: 0.61\n",
      "Training dataset (261, 21) and testing dataset (174, 21)\n"
     ]
    }
   ],
   "source": [
    "# Importing essential libraries\n",
    "from sklearn.tree import DecisionTreeClassifier\n",
    "DTC = DecisionTreeClassifier()\n",
    "\n",
    "#fit the data\n",
    "DTC.fit(X1_train,y1_train)\n",
    "\n",
    "#Predicting_over_train\n",
    "y_pred = DTC.predict(X1_train)\n",
    "#print(\"Predicting over train set\",y_pred)\n",
    "\n",
    "#Predicting over test\n",
    "test_pred = DTC.predict(X1_test)\n",
    "#print('predicting over test set',test_pred)\n",
    "\n",
    "count_misclassified = (y1_test != test_pred).sum()\n",
    "print('Misclassified samples: {}'.format(count_misclassified))\n",
    "\n",
    "from sklearn import metrics\n",
    "accuracy = metrics.accuracy_score(y1_test , test_pred)\n",
    "print('Accuracy: {:.2f}'.format(accuracy))\n",
    "\n",
    "print('Training dataset {} and testing dataset {}'.format(X1_train.shape,X1_test.shape))"
   ]
  },
  {
   "cell_type": "code",
   "execution_count": 176,
   "metadata": {},
   "outputs": [
    {
     "name": "stdout",
     "output_type": "stream",
     "text": [
      "The train_score is 0.9655172413793104 and the test_score is0.6091954022988506\n"
     ]
    }
   ],
   "source": [
    "train_score = DTC.score(X1_train, y1_train)  #Overfitting Model(Bias Model)\n",
    "test_score = DTC.score(X1_test, y1_test)\n",
    "print('The train_score is {} and the test_score is{}'.format(train_score, test_score))"
   ]
  },
  {
   "cell_type": "markdown",
   "metadata": {},
   "source": [
    "# Random Forest"
   ]
  },
  {
   "cell_type": "code",
   "execution_count": 177,
   "metadata": {},
   "outputs": [
    {
     "name": "stdout",
     "output_type": "stream",
     "text": [
      "Misclassified samples: 58\n",
      "Accuracy: 0.67\n",
      "Training dataset (261, 21) and testing dataset (174, 21)\n"
     ]
    }
   ],
   "source": [
    "# Importing essential libraries\n",
    "from sklearn.ensemble import RandomForestClassifier\n",
    "RFC = RandomForestClassifier(criterion='gini')\n",
    "\n",
    "#fit the data\n",
    "RFC.fit(X1_train,y1_train)\n",
    "\n",
    "#Predicting_over_train\n",
    "y_pred = RFC.predict(X1_train)\n",
    "#print(\"Predicting over train set\",y_pred)\n",
    "\n",
    "#Predicting over test\n",
    "test_pred = RFC.predict(X1_test)\n",
    "#print('predicting over test set',test_pred)\n",
    "\n",
    "count_misclassified = (y1_test != test_pred).sum()\n",
    "print('Misclassified samples: {}'.format(count_misclassified))\n",
    "\n",
    "from sklearn import metrics\n",
    "accuracy = metrics.accuracy_score(y1_test , test_pred)\n",
    "print('Accuracy: {:.2f}'.format(accuracy))\n",
    "\n",
    "print('Training dataset {} and testing dataset {}'.format(X1_train.shape,X1_test.shape))"
   ]
  },
  {
   "cell_type": "code",
   "execution_count": 178,
   "metadata": {},
   "outputs": [
    {
     "name": "stdout",
     "output_type": "stream",
     "text": [
      "Misclassified samples: 51\n",
      "Accuracy: 0.71\n",
      "Training dataset (261, 21) and testing dataset (174, 21)\n"
     ]
    }
   ],
   "source": [
    "# Importing essential libraries\n",
    "from sklearn.ensemble import RandomForestClassifier\n",
    "RFC = RandomForestClassifier(criterion='entropy')\n",
    "\n",
    "#fit the data\n",
    "RFC.fit(X1_train,y1_train)\n",
    "\n",
    "#Predicting_over_train\n",
    "y_pred = RFC.predict(X1_train)\n",
    "#print(\"Predicting over train set\",y_pred)\n",
    "\n",
    "#Predicting over test\n",
    "test_pred = RFC.predict(X1_test)\n",
    "#print('predicting over test set',test_pred)\n",
    "\n",
    "count_misclassified = (y1_test != test_pred).sum()\n",
    "print('Misclassified samples: {}'.format(count_misclassified))\n",
    "\n",
    "from sklearn import metrics\n",
    "accuracy = metrics.accuracy_score(y1_test , test_pred)\n",
    "print('Accuracy: {:.2f}'.format(accuracy))\n",
    "\n",
    "print('Training dataset {} and testing dataset {}'.format(X1_train.shape,X1_test.shape))"
   ]
  },
  {
   "cell_type": "code",
   "execution_count": 179,
   "metadata": {},
   "outputs": [
    {
     "name": "stdout",
     "output_type": "stream",
     "text": [
      "The train_score is 0.9655172413793104 and the test_score is0.7068965517241379\n"
     ]
    }
   ],
   "source": [
    "train_score = RFC.score(X1_train, y1_train)  #Overfitting Model(Bias Model)\n",
    "test_score = RFC.score(X1_test, y1_test)\n",
    "print('The train_score is {} and the test_score is{}'.format(train_score, test_score))"
   ]
  },
  {
   "cell_type": "markdown",
   "metadata": {},
   "source": [
    "# Support Vector Machine  for Multiclass classification"
   ]
  },
  {
   "cell_type": "code",
   "execution_count": 210,
   "metadata": {},
   "outputs": [
    {
     "name": "stdout",
     "output_type": "stream",
     "text": [
      "Misclassified samples: 52\n",
      "Accuracy: 0.70\n",
      "Training dataset (261, 21) and testing dataset (174, 21)\n"
     ]
    }
   ],
   "source": [
    "# Importing essential libraries\n",
    "from sklearn.svm import SVC\n",
    "svc = SVC(decision_function_shape='ovo')  #onevsone\n",
    "\n",
    "#fit the data\n",
    "svc.fit(X1_train,y1_train)\n",
    "\n",
    "#Predicting_over_train\n",
    "y_pred = svc.predict(X1_train)\n",
    "#print(\"Predicting over train set\",y_pred)\n",
    "\n",
    "#Predicting over test\n",
    "test_pred = svc.predict(X1_test)\n",
    "#print('predicting over test set',test_pred)\n",
    "\n",
    "count_misclassified = (y1_test != test_pred).sum()\n",
    "print('Misclassified samples: {}'.format(count_misclassified))\n",
    "\n",
    "from sklearn import metrics\n",
    "accuracy = metrics.accuracy_score(y1_test , test_pred)\n",
    "print('Accuracy: {:.2f}'.format(accuracy))\n",
    "\n",
    "print('Training dataset {} and testing dataset {}'.format(X1_train.shape,X1_test.shape))\n"
   ]
  },
  {
   "cell_type": "code",
   "execution_count": 211,
   "metadata": {},
   "outputs": [
    {
     "name": "stdout",
     "output_type": "stream",
     "text": [
      "Misclassified samples: 52\n",
      "Accuracy: 0.70\n",
      "Training dataset (261, 21) and testing dataset (174, 21)\n"
     ]
    }
   ],
   "source": [
    "# Importing essential libraries\n",
    "from sklearn.svm import SVC\n",
    "svc = SVC(decision_function_shape='ovr')  #onevsrest\n",
    "\n",
    "#fit the data\n",
    "svc.fit(X1_train,y1_train)\n",
    "\n",
    "#Predicting_over_train\n",
    "y_pred = svc.predict(X1_train)\n",
    "#print(\"Predicting over train set\",y_pred)\n",
    "\n",
    "#Predicting over test\n",
    "test_pred = svc.predict(X1_test)\n",
    "#print('predicting over test set',test_pred)\n",
    "\n",
    "count_misclassified = (y1_test != test_pred).sum()\n",
    "print('Misclassified samples: {}'.format(count_misclassified))\n",
    "\n",
    "from sklearn import metrics\n",
    "accuracy = metrics.accuracy_score(y1_test , test_pred)\n",
    "print('Accuracy: {:.2f}'.format(accuracy))\n",
    "\n",
    "print('Training dataset {} and testing dataset {}'.format(X1_train.shape,X1_test.shape))\n"
   ]
  },
  {
   "cell_type": "code",
   "execution_count": 208,
   "metadata": {},
   "outputs": [
    {
     "name": "stdout",
     "output_type": "stream",
     "text": [
      "Misclassified samples: 52\n",
      "Accuracy: 0.70\n",
      "Training dataset (261, 21) and testing dataset (174, 21)\n"
     ]
    }
   ],
   "source": [
    "# Importing essential libraries\n",
    "from sklearn.multiclass import OneVsOneClassifier\n",
    "from sklearn.svm import SVC\n",
    "svc = SVC()  #onevsrest\n",
    "\n",
    "# define ovo strategy\n",
    "ovo = OneVsOneClassifier(svc)\n",
    "\n",
    "#fit the data\n",
    "ovo.fit(X1_train,y1_train)\n",
    "\n",
    "#Predicting_over_train\n",
    "y_pred = ovo.predict(X1_train)\n",
    "#print(\"Predicting over train set\",y_pred)\n",
    "\n",
    "#Predicting over test\n",
    "test_pred = ovo.predict(X1_test)\n",
    "#print('predicting over test set',test_pred)\n",
    "\n",
    "count_misclassified = (y1_test != test_pred).sum()\n",
    "print('Misclassified samples: {}'.format(count_misclassified))\n",
    "\n",
    "from sklearn import metrics\n",
    "accuracy = metrics.accuracy_score(y1_test , test_pred)\n",
    "print('Accuracy: {:.2f}'.format(accuracy))\n",
    "\n",
    "print('Training dataset {} and testing dataset {}'.format(X1_train.shape,X1_test.shape))\n"
   ]
  },
  {
   "cell_type": "markdown",
   "metadata": {},
   "source": [
    "# Support Vector Machine "
   ]
  },
  {
   "cell_type": "code",
   "execution_count": 180,
   "metadata": {},
   "outputs": [
    {
     "name": "stdout",
     "output_type": "stream",
     "text": [
      "Misclassified samples: 52\n",
      "Accuracy: 0.70\n",
      "Training dataset (261, 21) and testing dataset (174, 21)\n"
     ]
    }
   ],
   "source": [
    "# Importing essential libraries\n",
    "from sklearn.svm import SVC\n",
    "svc = SVC()\n",
    "\n",
    "#fit the data\n",
    "svc.fit(X1_train,y1_train)\n",
    "\n",
    "#Predicting_over_train\n",
    "y_pred = svc.predict(X1_train)\n",
    "#print(\"Predicting over train set\",y_pred)\n",
    "\n",
    "#Predicting over test\n",
    "test_pred = svc.predict(X1_test)\n",
    "#print('predicting over test set',test_pred)\n",
    "\n",
    "count_misclassified = (y1_test != test_pred).sum()\n",
    "print('Misclassified samples: {}'.format(count_misclassified))\n",
    "\n",
    "from sklearn import metrics\n",
    "accuracy = metrics.accuracy_score(y1_test , test_pred)\n",
    "print('Accuracy: {:.2f}'.format(accuracy))\n",
    "\n",
    "print('Training dataset {} and testing dataset {}'.format(X1_train.shape,X1_test.shape))\n"
   ]
  },
  {
   "cell_type": "code",
   "execution_count": null,
   "metadata": {},
   "outputs": [],
   "source": []
  },
  {
   "cell_type": "code",
   "execution_count": null,
   "metadata": {},
   "outputs": [],
   "source": []
  },
  {
   "cell_type": "code",
   "execution_count": null,
   "metadata": {},
   "outputs": [],
   "source": []
  },
  {
   "cell_type": "code",
   "execution_count": null,
   "metadata": {},
   "outputs": [],
   "source": []
  },
  {
   "cell_type": "code",
   "execution_count": null,
   "metadata": {},
   "outputs": [],
   "source": []
  },
  {
   "cell_type": "code",
   "execution_count": null,
   "metadata": {},
   "outputs": [],
   "source": []
  },
  {
   "cell_type": "code",
   "execution_count": null,
   "metadata": {},
   "outputs": [],
   "source": []
  },
  {
   "cell_type": "code",
   "execution_count": null,
   "metadata": {},
   "outputs": [],
   "source": []
  },
  {
   "cell_type": "code",
   "execution_count": null,
   "metadata": {},
   "outputs": [],
   "source": []
  },
  {
   "cell_type": "code",
   "execution_count": null,
   "metadata": {},
   "outputs": [],
   "source": []
  },
  {
   "cell_type": "code",
   "execution_count": 66,
   "metadata": {},
   "outputs": [],
   "source": [
    "#Random Forest, Decision Trees, Naive Bayes, SVM, Latent Drichlet Allocation, Boosting, Bagging, Maximum Entropy\n",
    "#PCA  #https://reneshbedre.github.io/blog/pca_3d.html"
   ]
  },
  {
   "cell_type": "code",
   "execution_count": null,
   "metadata": {},
   "outputs": [],
   "source": []
  },
  {
   "cell_type": "code",
   "execution_count": null,
   "metadata": {},
   "outputs": [],
   "source": []
  },
  {
   "cell_type": "code",
   "execution_count": 181,
   "metadata": {},
   "outputs": [],
   "source": [
    "X = Unique_Customer_df.drop(['Feedback', 'weight'], axis =1)\n",
    "y = Unique_Customer_df['Feedback']"
   ]
  },
  {
   "cell_type": "code",
   "execution_count": 182,
   "metadata": {},
   "outputs": [],
   "source": [
    "train_x, test_x, train_y, test_y = train_test_split(X,y,test_size = 0.25, random_state =81)"
   ]
  },
  {
   "cell_type": "code",
   "execution_count": 183,
   "metadata": {},
   "outputs": [
    {
     "name": "stdout",
     "output_type": "stream",
     "text": [
      "Misclassified samples: 36\n",
      "Accuracy: 0.67\n",
      "Training dataset (326, 20) and testing dataset (109, 20)\n"
     ]
    }
   ],
   "source": [
    "from sklearn.linear_model import LogisticRegression   #is not a perfect fit #691468\n",
    "logreg = LogisticRegression()\n",
    "\n",
    "#fit data\n",
    "logreg.fit(train_x,train_y)\n",
    "\n",
    "#Predicting_over_train\n",
    "y_pred = logreg.predict(train_x)\n",
    "#print(\"Predicting over train set\",y_pred)\n",
    "\n",
    "#Predicting over test\n",
    "test_pred = logreg.predict(test_x)\n",
    "#print('predicting over test set',test_pred)\n",
    "\n",
    "count_misclassified = (test_y != test_pred).sum()\n",
    "print('Misclassified samples: {}'.format(count_misclassified))\n",
    "\n",
    "from sklearn import metrics\n",
    "accuracy = metrics.accuracy_score(test_y , test_pred)\n",
    "print('Accuracy: {:.2f}'.format(accuracy))\n",
    "\n",
    "print('Training dataset {} and testing dataset {}'.format(train_x.shape,test_x.shape))"
   ]
  },
  {
   "cell_type": "code",
   "execution_count": 184,
   "metadata": {},
   "outputs": [
    {
     "data": {
      "text/plain": [
       "PCA(copy=True, iterated_power='auto', n_components=2, random_state=None,\n",
       "    svd_solver='auto', tol=0.0, whiten=False)"
      ]
     },
     "execution_count": 184,
     "metadata": {},
     "output_type": "execute_result"
    }
   ],
   "source": [
    "from sklearn.decomposition import PCA\n",
    "pca = PCA(n_components = 2)\n",
    "pca.fit(X)"
   ]
  },
  {
   "cell_type": "code",
   "execution_count": 185,
   "metadata": {},
   "outputs": [],
   "source": [
    "x_pca = pca.transform(X)"
   ]
  },
  {
   "cell_type": "code",
   "execution_count": 186,
   "metadata": {},
   "outputs": [
    {
     "data": {
      "text/plain": [
       "(435, 20)"
      ]
     },
     "execution_count": 186,
     "metadata": {},
     "output_type": "execute_result"
    }
   ],
   "source": [
    "X.shape"
   ]
  },
  {
   "cell_type": "code",
   "execution_count": 187,
   "metadata": {},
   "outputs": [
    {
     "data": {
      "text/plain": [
       "(435, 2)"
      ]
     },
     "execution_count": 187,
     "metadata": {},
     "output_type": "execute_result"
    }
   ],
   "source": [
    "x_pca.shape"
   ]
  },
  {
   "cell_type": "code",
   "execution_count": 188,
   "metadata": {},
   "outputs": [
    {
     "data": {
      "text/plain": [
       "array([[-6.26080351e-01, -6.47016374e-01, -4.31817415e-01,\n",
       "        -1.63422436e-04, -2.32767135e-03,  3.52785617e-04,\n",
       "        -1.63797947e-03, -4.55000932e-02, -6.20793967e-03,\n",
       "         2.17294888e-03,  6.47443534e-03,  1.68839636e-02,\n",
       "         3.52785617e-04,  1.16134485e-02, -7.04540142e-03,\n",
       "         1.27510242e-02, -3.35491787e-04,  1.11756397e-02,\n",
       "        -8.44785489e-04,  2.28575338e-03],\n",
       "       [ 4.09248482e-01,  1.96499611e-01, -8.90240443e-01,\n",
       "        -3.10240334e-04, -1.52864178e-03,  9.16721279e-04,\n",
       "         1.11184433e-04,  1.96825244e-02,  2.83737570e-03,\n",
       "         8.36615938e-05,  9.56426114e-04,  1.98719579e-02,\n",
       "         9.16721279e-04, -9.72038864e-03,  3.06698368e-03,\n",
       "        -1.22527162e-02, -7.19227539e-04, -1.73087621e-02,\n",
       "        -1.85182094e-03, -4.75175887e-03]])"
      ]
     },
     "execution_count": 188,
     "metadata": {},
     "output_type": "execute_result"
    }
   ],
   "source": [
    "pca.components_"
   ]
  },
  {
   "cell_type": "code",
   "execution_count": 189,
   "metadata": {},
   "outputs": [],
   "source": [
    "df_comp = pd.DataFrame(pca.components_, columns= X.columns)"
   ]
  },
  {
   "cell_type": "code",
   "execution_count": 190,
   "metadata": {},
   "outputs": [
    {
     "data": {
      "text/html": [
       "<div>\n",
       "<style scoped>\n",
       "    .dataframe tbody tr th:only-of-type {\n",
       "        vertical-align: middle;\n",
       "    }\n",
       "\n",
       "    .dataframe tbody tr th {\n",
       "        vertical-align: top;\n",
       "    }\n",
       "\n",
       "    .dataframe thead th {\n",
       "        text-align: right;\n",
       "    }\n",
       "</style>\n",
       "<table border=\"1\" class=\"dataframe\">\n",
       "  <thead>\n",
       "    <tr style=\"text-align: right;\">\n",
       "      <th></th>\n",
       "      <th>Size</th>\n",
       "      <th>age</th>\n",
       "      <th>height</th>\n",
       "      <th>Product_blazer</th>\n",
       "      <th>Product_blouse</th>\n",
       "      <th>Product_blouson</th>\n",
       "      <th>Product_cape</th>\n",
       "      <th>Product_dress</th>\n",
       "      <th>Product_gown</th>\n",
       "      <th>Product_jacket</th>\n",
       "      <th>Product_jumpsuit</th>\n",
       "      <th>Product_maxi</th>\n",
       "      <th>Product_midi</th>\n",
       "      <th>Product_romper</th>\n",
       "      <th>Product_sheath</th>\n",
       "      <th>Product_shift</th>\n",
       "      <th>Product_shirt</th>\n",
       "      <th>Product_shirtdress</th>\n",
       "      <th>Product_top</th>\n",
       "      <th>Product_tunic</th>\n",
       "    </tr>\n",
       "  </thead>\n",
       "  <tbody>\n",
       "    <tr>\n",
       "      <th>0</th>\n",
       "      <td>-0.626080</td>\n",
       "      <td>-0.647016</td>\n",
       "      <td>-0.431817</td>\n",
       "      <td>-0.000163</td>\n",
       "      <td>-0.002328</td>\n",
       "      <td>0.000353</td>\n",
       "      <td>-0.001638</td>\n",
       "      <td>-0.045500</td>\n",
       "      <td>-0.006208</td>\n",
       "      <td>0.002173</td>\n",
       "      <td>0.006474</td>\n",
       "      <td>0.016884</td>\n",
       "      <td>0.000353</td>\n",
       "      <td>0.011613</td>\n",
       "      <td>-0.007045</td>\n",
       "      <td>0.012751</td>\n",
       "      <td>-0.000335</td>\n",
       "      <td>0.011176</td>\n",
       "      <td>-0.000845</td>\n",
       "      <td>0.002286</td>\n",
       "    </tr>\n",
       "    <tr>\n",
       "      <th>1</th>\n",
       "      <td>0.409248</td>\n",
       "      <td>0.196500</td>\n",
       "      <td>-0.890240</td>\n",
       "      <td>-0.000310</td>\n",
       "      <td>-0.001529</td>\n",
       "      <td>0.000917</td>\n",
       "      <td>0.000111</td>\n",
       "      <td>0.019683</td>\n",
       "      <td>0.002837</td>\n",
       "      <td>0.000084</td>\n",
       "      <td>0.000956</td>\n",
       "      <td>0.019872</td>\n",
       "      <td>0.000917</td>\n",
       "      <td>-0.009720</td>\n",
       "      <td>0.003067</td>\n",
       "      <td>-0.012253</td>\n",
       "      <td>-0.000719</td>\n",
       "      <td>-0.017309</td>\n",
       "      <td>-0.001852</td>\n",
       "      <td>-0.004752</td>\n",
       "    </tr>\n",
       "  </tbody>\n",
       "</table>\n",
       "</div>"
      ],
      "text/plain": [
       "       Size       age    height  Product_blazer  Product_blouse  \\\n",
       "0 -0.626080 -0.647016 -0.431817       -0.000163       -0.002328   \n",
       "1  0.409248  0.196500 -0.890240       -0.000310       -0.001529   \n",
       "\n",
       "   Product_blouson  Product_cape  Product_dress  Product_gown  Product_jacket  \\\n",
       "0         0.000353     -0.001638      -0.045500     -0.006208        0.002173   \n",
       "1         0.000917      0.000111       0.019683      0.002837        0.000084   \n",
       "\n",
       "   Product_jumpsuit  Product_maxi  Product_midi  Product_romper  \\\n",
       "0          0.006474      0.016884      0.000353        0.011613   \n",
       "1          0.000956      0.019872      0.000917       -0.009720   \n",
       "\n",
       "   Product_sheath  Product_shift  Product_shirt  Product_shirtdress  \\\n",
       "0       -0.007045       0.012751      -0.000335            0.011176   \n",
       "1        0.003067      -0.012253      -0.000719           -0.017309   \n",
       "\n",
       "   Product_top  Product_tunic  \n",
       "0    -0.000845       0.002286  \n",
       "1    -0.001852      -0.004752  "
      ]
     },
     "execution_count": 190,
     "metadata": {},
     "output_type": "execute_result"
    }
   ],
   "source": [
    "df_comp.head()"
   ]
  },
  {
   "cell_type": "code",
   "execution_count": null,
   "metadata": {},
   "outputs": [],
   "source": []
  },
  {
   "cell_type": "code",
   "execution_count": null,
   "metadata": {},
   "outputs": [],
   "source": []
  },
  {
   "cell_type": "code",
   "execution_count": null,
   "metadata": {},
   "outputs": [],
   "source": []
  },
  {
   "cell_type": "code",
   "execution_count": null,
   "metadata": {},
   "outputs": [],
   "source": []
  },
  {
   "cell_type": "code",
   "execution_count": null,
   "metadata": {},
   "outputs": [],
   "source": []
  },
  {
   "cell_type": "code",
   "execution_count": null,
   "metadata": {},
   "outputs": [],
   "source": []
  },
  {
   "cell_type": "code",
   "execution_count": null,
   "metadata": {},
   "outputs": [],
   "source": []
  }
 ],
 "metadata": {
  "kernelspec": {
   "display_name": "Python 3",
   "language": "python",
   "name": "python3"
  },
  "language_info": {
   "codemirror_mode": {
    "name": "ipython",
    "version": 3
   },
   "file_extension": ".py",
   "mimetype": "text/x-python",
   "name": "python",
   "nbconvert_exporter": "python",
   "pygments_lexer": "ipython3",
   "version": "3.7.7"
  }
 },
 "nbformat": 4,
 "nbformat_minor": 4
}
