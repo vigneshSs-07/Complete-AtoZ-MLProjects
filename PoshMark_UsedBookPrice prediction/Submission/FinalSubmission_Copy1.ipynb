{
 "cells": [
  {
   "cell_type": "raw",
   "metadata": {},
   "source": [
    "import zipfile\n",
    "with zipfile.ZipFile(\"ds-take-home-dataset.zip\",\"r\") as zip_ref:\n",
    "    zip_ref.extractall(\"targetdir\")"
   ]
  },
  {
   "cell_type": "raw",
   "metadata": {},
   "source": [
    "If you tried mulple approaches, how did you choose the final model?\n",
    "1. Data import - did you face any issues and if yes, how did you deal with them?\n",
    "\n",
    "Ans :  No, there was no issue while importing dataset into jupyter.\n",
    "\n",
    "2. Modeling dataset (before any train-validaon split) - how did you create the modelingdataset? Share any exploratory analysis you did to understand this dataset.\n",
    "\n",
    "Ans :With the attribues given attr2,attr3,attr4 were having more unique values, obvioulsy it will have outlier and plotted boxplot and historam to see how the data is dispersed. ANd to cutoff the values or to transform it using log.\n",
    "\n",
    "3. Feature engineering - Did you do any feature engineering? If yes, for each feature you\n",
    "created, menon the reasoning why it was created.\n",
    "\n",
    "Ans : Yes, I did on features such as (attr3,attr4,attr6) because the unique values are high and the unique values which contained least data was also high, So used dimwnsionality reduction technique and filtered the low occuring values.\n",
    "\n",
    "4.Did you do any treatment e.g. missing value, outliers etc.?\n",
    "\n",
    "Ans : Yes, There was missing values in columns(attr3,attr4 and attr5). Where I filled with the mean values for the column attr3,attr4.And for the attr5 I filled with 0,since it has only 3 unique values.\n",
    "\n",
    "5.Explain your train-validaon-test and/or cross-validaon split method\n",
    "\n",
    "Ans : I used Shufflesplit to do the split.\n",
    "\n",
    "6. What techniques do you want to try and why? These are the choices you make based on your understanding of the data even before trying any of the techniques\n",
    "\n",
    "Ans : It is clearly a regression problem. And from this data before exploring I was not able to infer anything from data.\n",
    "\n",
    "7. If you tried mulple approaches, how did you choose the final model?\n",
    "\n",
    "Ans : I tried it with multiple algorithms and I choosed final model on accuracy(minimum mse value) when compared with other tried models.\n",
    "\n",
    "8. How will you monitor such a model when deployed to producon? What will you log,\n",
    "how frequently and what all alerts will you configure to make sure that the model keeps\n",
    "running well in producon and any issues surface as quickly as possible?\n",
    "\n",
    "Ans : We can generate model report everyday and using powerBI we can look at model performance. If something is off we can fix and change the production model.\n",
    "\n",
    "we can deploy models using airflow  and can have scheduled jobs to execute model every day.If any issues it would trigger alert to mail, based on the alret message we can fix that. \n",
    "\n",
    "\n",
    "9. How ofen will you retrain the model? How would you decide that and how will the\n",
    "retraining work (e.g. data period used, model versioning, maintaining performance levels\n",
    "etc.)\n",
    "\n",
    "Ans : We can monitor regularly by taking report, If user feels that model is not performing upto expectations then we can consider other parameters and retrain model. We can review the performance every week and decide upon the health of model.\n",
    "\n",
    "10. If the product team comes back saying the performance is not good enough, what will\n",
    "be your response (backed by data)?\n",
    "\n",
    "Ans: We can explore data and see there is any change in any data and act accordingly.\n",
    "\n",
    "11.What is the biggest risk for this model when in producon? Do you think the model will\n",
    "perform as expected?\n",
    "\n",
    "Ans : If model is uninterpretable like Deep Learning , Random forest it is like a black box and it is highly difficult to interpert the outcomes.\n",
    "\n",
    "\n",
    "12. Would there be cases where the model may not be able to predict when in producon?\n",
    "If yes, in what scenario/s and how do you esmate the number of cases where model\n",
    "won’t be able to predict at all?\n",
    "\n",
    "Ans : In Production if there are changes in input variables, if it is complex numbers then model will throw issues. The n we need to analyse and handle that input as well.\n",
    "\n",
    "\n",
    "13.What else would you try to improve the model if you had more me?\n",
    "\n",
    "Ans :  I would have tried it with more data,possibly. Then with some advanced ensemble models like XGboost,lightgbm.. Then with performing more Feature Engineering on data columns like attr3,attr4,attr5."
   ]
  },
  {
   "cell_type": "code",
   "execution_count": 1,
   "metadata": {},
   "outputs": [],
   "source": [
    "import pandas as pd\n",
    "import numpy as np\n",
    "import matplotlib.pyplot as plt\n",
    "%matplotlib inline\n",
    "import seaborn as sns\n",
    "import warnings\n",
    "warnings.filterwarnings('ignore')\n",
    "pd.set_option('display.max_rows', 500)\n",
    "pd.set_option('display.max_columns', 500)\n",
    "pd.set_option('display.width', 1000)"
   ]
  },
  {
   "cell_type": "code",
   "execution_count": 2,
   "metadata": {},
   "outputs": [],
   "source": [
    "from sklearn.linear_model import LinearRegression\n",
    "from sklearn.model_selection import ShuffleSplit\n",
    "from sklearn.tree import DecisionTreeRegressor\n",
    "from sklearn.ensemble import RandomForestRegressor\n",
    "from sklearn.linear_model import Lasso, Ridge\n",
    "from sklearn.model_selection import GridSearchCV\n",
    "from sklearn.metrics import mean_squared_error"
   ]
  },
  {
   "cell_type": "code",
   "execution_count": 3,
   "metadata": {},
   "outputs": [
    {
     "data": {
      "text/html": [
       "<div>\n",
       "<style scoped>\n",
       "    .dataframe tbody tr th:only-of-type {\n",
       "        vertical-align: middle;\n",
       "    }\n",
       "\n",
       "    .dataframe tbody tr th {\n",
       "        vertical-align: top;\n",
       "    }\n",
       "\n",
       "    .dataframe thead th {\n",
       "        text-align: right;\n",
       "    }\n",
       "</style>\n",
       "<table border=\"1\" class=\"dataframe\">\n",
       "  <thead>\n",
       "    <tr style=\"text-align: right;\">\n",
       "      <th></th>\n",
       "      <th>id</th>\n",
       "      <th>attr1</th>\n",
       "      <th>attr2</th>\n",
       "      <th>attr3</th>\n",
       "      <th>attr4</th>\n",
       "      <th>attr5</th>\n",
       "      <th>attr6</th>\n",
       "      <th>title</th>\n",
       "      <th>sold_price</th>\n",
       "    </tr>\n",
       "  </thead>\n",
       "  <tbody>\n",
       "    <tr>\n",
       "      <th>0</th>\n",
       "      <td>742122</td>\n",
       "      <td>4</td>\n",
       "      <td>27</td>\n",
       "      <td>149.0</td>\n",
       "      <td>3808.0</td>\n",
       "      <td>1.0</td>\n",
       "      <td>99.0</td>\n",
       "      <td>one teaspoon bandit distressed denim shorts (23)</td>\n",
       "      <td>65.0</td>\n",
       "    </tr>\n",
       "    <tr>\n",
       "      <th>1</th>\n",
       "      <td>652751</td>\n",
       "      <td>4</td>\n",
       "      <td>3</td>\n",
       "      <td>89.0</td>\n",
       "      <td>1996.0</td>\n",
       "      <td>NaN</td>\n",
       "      <td>1500.0</td>\n",
       "      <td>gucci emily mini guccissima mini red leather bag</td>\n",
       "      <td>600.0</td>\n",
       "    </tr>\n",
       "    <tr>\n",
       "      <th>2</th>\n",
       "      <td>228229</td>\n",
       "      <td>4</td>\n",
       "      <td>26</td>\n",
       "      <td>301.0</td>\n",
       "      <td>5194.0</td>\n",
       "      <td>NaN</td>\n",
       "      <td>89.0</td>\n",
       "      <td>steve madden polka dot wedges 8.5 - wi06</td>\n",
       "      <td>12.0</td>\n",
       "    </tr>\n",
       "    <tr>\n",
       "      <th>3</th>\n",
       "      <td>645810</td>\n",
       "      <td>4</td>\n",
       "      <td>27</td>\n",
       "      <td>NaN</td>\n",
       "      <td>6335.0</td>\n",
       "      <td>NaN</td>\n",
       "      <td>0.0</td>\n",
       "      <td>crown &amp; ivy navy blue floral print shorts</td>\n",
       "      <td>12.0</td>\n",
       "    </tr>\n",
       "    <tr>\n",
       "      <th>4</th>\n",
       "      <td>854374</td>\n",
       "      <td>4</td>\n",
       "      <td>22</td>\n",
       "      <td>302.0</td>\n",
       "      <td>3606.0</td>\n",
       "      <td>2.0</td>\n",
       "      <td>45.0</td>\n",
       "      <td>grey wide leg dress pants</td>\n",
       "      <td>22.0</td>\n",
       "    </tr>\n",
       "  </tbody>\n",
       "</table>\n",
       "</div>"
      ],
      "text/plain": [
       "       id  attr1  attr2  attr3   attr4  attr5   attr6                                             title  sold_price\n",
       "0  742122      4     27  149.0  3808.0    1.0    99.0  one teaspoon bandit distressed denim shorts (23)        65.0\n",
       "1  652751      4      3   89.0  1996.0    NaN  1500.0  gucci emily mini guccissima mini red leather bag       600.0\n",
       "2  228229      4     26  301.0  5194.0    NaN    89.0          steve madden polka dot wedges 8.5 - wi06        12.0\n",
       "3  645810      4     27    NaN  6335.0    NaN     0.0         crown & ivy navy blue floral print shorts        12.0\n",
       "4  854374      4     22  302.0  3606.0    2.0    45.0                         grey wide leg dress pants        22.0"
      ]
     },
     "execution_count": 3,
     "metadata": {},
     "output_type": "execute_result"
    }
   ],
   "source": [
    "datasets = pd.read_csv('targetdir/ds-take-home-dataset.csv')\n",
    "datasets.head()"
   ]
  },
  {
   "cell_type": "code",
   "execution_count": 4,
   "metadata": {},
   "outputs": [],
   "source": [
    "datasets_id = datasets['id'][0:100]"
   ]
  },
  {
   "cell_type": "code",
   "execution_count": 5,
   "metadata": {},
   "outputs": [
    {
     "data": {
      "text/plain": [
       "(1029850, 9)"
      ]
     },
     "execution_count": 5,
     "metadata": {},
     "output_type": "execute_result"
    }
   ],
   "source": [
    "datasets.shape"
   ]
  },
  {
   "cell_type": "code",
   "execution_count": 6,
   "metadata": {},
   "outputs": [],
   "source": [
    "data_samples = datasets.copy()"
   ]
  },
  {
   "cell_type": "code",
   "execution_count": 7,
   "metadata": {},
   "outputs": [],
   "source": [
    "# Took a sample set of data from population\n",
    "Data_Sample = data_samples.sample(frac =0.1)"
   ]
  },
  {
   "cell_type": "code",
   "execution_count": 8,
   "metadata": {},
   "outputs": [
    {
     "data": {
      "text/plain": [
       "(102985, 9)"
      ]
     },
     "execution_count": 8,
     "metadata": {},
     "output_type": "execute_result"
    }
   ],
   "source": [
    "Data_Sample.shape"
   ]
  },
  {
   "cell_type": "code",
   "execution_count": 9,
   "metadata": {},
   "outputs": [
    {
     "name": "stdout",
     "output_type": "stream",
     "text": [
      "<class 'pandas.core.frame.DataFrame'>\n",
      "Int64Index: 102985 entries, 386706 to 801863\n",
      "Data columns (total 9 columns):\n",
      " #   Column      Non-Null Count   Dtype  \n",
      "---  ------      --------------   -----  \n",
      " 0   id          102985 non-null  int64  \n",
      " 1   attr1       102985 non-null  int64  \n",
      " 2   attr2       102985 non-null  int64  \n",
      " 3   attr3       84313 non-null   float64\n",
      " 4   attr4       86308 non-null   float64\n",
      " 5   attr5       49496 non-null   float64\n",
      " 6   attr6       102985 non-null  float64\n",
      " 7   title       102976 non-null  object \n",
      " 8   sold_price  102985 non-null  float64\n",
      "dtypes: float64(5), int64(3), object(1)\n",
      "memory usage: 7.9+ MB\n"
     ]
    }
   ],
   "source": [
    "Data_Sample.info()"
   ]
  },
  {
   "cell_type": "code",
   "execution_count": 10,
   "metadata": {},
   "outputs": [
    {
     "name": "stdout",
     "output_type": "stream",
     "text": [
      "The Number Of Unique values is id            102701\n",
      "attr1              4\n",
      "attr2             35\n",
      "attr3            292\n",
      "attr4           4154\n",
      "attr5              4\n",
      "attr6           1733\n",
      "title          94650\n",
      "sold_price      4081\n",
      "dtype: int64\n"
     ]
    }
   ],
   "source": [
    "print('The Number Of Unique values is', \n",
    "      Data_Sample.apply(lambda x : len(x.unique())))"
   ]
  },
  {
   "cell_type": "markdown",
   "metadata": {},
   "source": [
    "# Treating the Missing Values"
   ]
  },
  {
   "cell_type": "code",
   "execution_count": 11,
   "metadata": {},
   "outputs": [
    {
     "data": {
      "text/html": [
       "<div>\n",
       "<style scoped>\n",
       "    .dataframe tbody tr th:only-of-type {\n",
       "        vertical-align: middle;\n",
       "    }\n",
       "\n",
       "    .dataframe tbody tr th {\n",
       "        vertical-align: top;\n",
       "    }\n",
       "\n",
       "    .dataframe thead th {\n",
       "        text-align: right;\n",
       "    }\n",
       "</style>\n",
       "<table border=\"1\" class=\"dataframe\">\n",
       "  <thead>\n",
       "    <tr style=\"text-align: right;\">\n",
       "      <th></th>\n",
       "      <th>Missing values</th>\n",
       "      <th>0</th>\n",
       "    </tr>\n",
       "  </thead>\n",
       "  <tbody>\n",
       "    <tr>\n",
       "      <th>id</th>\n",
       "      <td>0</td>\n",
       "      <td>int64</td>\n",
       "    </tr>\n",
       "    <tr>\n",
       "      <th>attr1</th>\n",
       "      <td>0</td>\n",
       "      <td>int64</td>\n",
       "    </tr>\n",
       "    <tr>\n",
       "      <th>attr2</th>\n",
       "      <td>0</td>\n",
       "      <td>int64</td>\n",
       "    </tr>\n",
       "    <tr>\n",
       "      <th>attr3</th>\n",
       "      <td>18672</td>\n",
       "      <td>float64</td>\n",
       "    </tr>\n",
       "    <tr>\n",
       "      <th>attr4</th>\n",
       "      <td>16677</td>\n",
       "      <td>float64</td>\n",
       "    </tr>\n",
       "    <tr>\n",
       "      <th>attr5</th>\n",
       "      <td>53489</td>\n",
       "      <td>float64</td>\n",
       "    </tr>\n",
       "    <tr>\n",
       "      <th>attr6</th>\n",
       "      <td>0</td>\n",
       "      <td>float64</td>\n",
       "    </tr>\n",
       "    <tr>\n",
       "      <th>title</th>\n",
       "      <td>9</td>\n",
       "      <td>object</td>\n",
       "    </tr>\n",
       "    <tr>\n",
       "      <th>sold_price</th>\n",
       "      <td>0</td>\n",
       "      <td>float64</td>\n",
       "    </tr>\n",
       "  </tbody>\n",
       "</table>\n",
       "</div>"
      ],
      "text/plain": [
       "            Missing values        0\n",
       "id                       0    int64\n",
       "attr1                    0    int64\n",
       "attr2                    0    int64\n",
       "attr3                18672  float64\n",
       "attr4                16677  float64\n",
       "attr5                53489  float64\n",
       "attr6                    0  float64\n",
       "title                    9   object\n",
       "sold_price               0  float64"
      ]
     },
     "execution_count": 11,
     "metadata": {},
     "output_type": "execute_result"
    }
   ],
   "source": [
    "df1 = Data_Sample.isnull().sum().to_frame().rename(columns= {0 : 'Missing values'})\n",
    "df2 = Data_Sample.dtypes.to_frame().rename({1:'Dtypes'})\n",
    "df = pd.concat([df1,df2], axis =1)\n",
    "df"
   ]
  },
  {
   "cell_type": "code",
   "execution_count": 12,
   "metadata": {},
   "outputs": [],
   "source": [
    "#Filling Missing Values\n",
    "Data_Sample['attr3'] = Data_Sample['attr3'].fillna(Data_Sample['attr3'].mean())\n",
    "Data_Sample['attr4'] = Data_Sample['attr4'].fillna(Data_Sample['attr4'].mean())\n",
    "Data_Sample['attr5'] = Data_Sample['attr5'].fillna(0)\n",
    "Data_Sample.dropna(subset=['title'], inplace=True)"
   ]
  },
  {
   "cell_type": "code",
   "execution_count": 13,
   "metadata": {},
   "outputs": [
    {
     "data": {
      "text/plain": [
       "id            0\n",
       "attr1         0\n",
       "attr2         0\n",
       "attr3         0\n",
       "attr4         0\n",
       "attr5         0\n",
       "attr6         0\n",
       "title         0\n",
       "sold_price    0\n",
       "dtype: int64"
      ]
     },
     "execution_count": 13,
     "metadata": {},
     "output_type": "execute_result"
    }
   ],
   "source": [
    "Data_Sample.isnull().sum()"
   ]
  },
  {
   "cell_type": "code",
   "execution_count": 14,
   "metadata": {},
   "outputs": [],
   "source": [
    "Data_Sample['attr3'] = Data_Sample['attr3'].astype(int)\n",
    "Data_Sample['attr4'] = Data_Sample['attr4'].astype(int)\n",
    "Data_Sample['attr5'] = Data_Sample['attr5'].astype(int)\n",
    "Data_Sample['attr6'] = Data_Sample['attr6'].astype(int)\n",
    "Data_Sample['sold_price'] = Data_Sample['sold_price'].astype(int)"
   ]
  },
  {
   "cell_type": "code",
   "execution_count": 15,
   "metadata": {},
   "outputs": [],
   "source": [
    "Data_Sample_Withoutitle = Data_Sample.copy()"
   ]
  },
  {
   "cell_type": "code",
   "execution_count": 16,
   "metadata": {},
   "outputs": [],
   "source": [
    "Data_Sample_Withoutitle = Data_Sample[['attr1', 'attr2', 'attr3', 'attr4', 'attr5', 'attr6','sold_price']]"
   ]
  },
  {
   "cell_type": "markdown",
   "metadata": {},
   "source": [
    "# Histogram Plot"
   ]
  },
  {
   "cell_type": "code",
   "execution_count": 17,
   "metadata": {},
   "outputs": [
    {
     "data": {
      "image/png": "[encoded data removed]",
      "text/plain": [
       "<Figure size 1440x1440 with 7 Axes>"
      ]
     },
     "metadata": {
      "needs_background": "light"
     },
     "output_type": "display_data"
    }
   ],
   "source": [
    "plt.figure(figsize=(20,20))\n",
    "features = ['attr1', 'attr2', 'attr3', 'attr4', 'attr5', 'attr6', 'sold_price']\n",
    "for i in enumerate(features): \n",
    "    ax = plt.subplot(4, 2, i[0]+1)\n",
    "    plt.hist(x=i[1], data=Data_Sample_Withoutitle)\n",
    "    plt.xticks(rotation = 20)"
   ]
  },
  {
   "cell_type": "code",
   "execution_count": 18,
   "metadata": {},
   "outputs": [
    {
     "data": {
      "text/plain": [
       "<matplotlib.axes._subplots.AxesSubplot at 0x22a5258e448>"
      ]
     },
     "execution_count": 18,
     "metadata": {},
     "output_type": "execute_result"
    },
    {
     "data": {
      "image/png": "[encoded data removed]",
      "text/plain": [
       "<Figure size 720x432 with 1 Axes>"
      ]
     },
     "metadata": {
      "needs_background": "light"
     },
     "output_type": "display_data"
    }
   ],
   "source": [
    "plt.figure(figsize=(10,6))\n",
    "sns.distplot(np.log1p(Data_Sample['sold_price']))"
   ]
  },
  {
   "cell_type": "code",
   "execution_count": 19,
   "metadata": {},
   "outputs": [
    {
     "data": {
      "image/png": "[encoded data removed]",
      "text/plain": [
       "<Figure size 1152x432 with 2 Axes>"
      ]
     },
     "metadata": {
      "needs_background": "light"
     },
     "output_type": "display_data"
    }
   ],
   "source": [
    "fig, ax = plt.subplots(figsize = (16, 6))\n",
    "plt.subplot(1, 2, 1)\n",
    "plt.hist(Data_Sample['sold_price']);\n",
    "plt.title('Distribution of Price');\n",
    "plt.subplot(1, 2, 2)\n",
    "plt.hist(np.log1p(Data_Sample['sold_price']));\n",
    "plt.title('Distribution of log of revenue');"
   ]
  },
  {
   "cell_type": "markdown",
   "metadata": {},
   "source": [
    "# Outlier Treatment"
   ]
  },
  {
   "cell_type": "code",
   "execution_count": 20,
   "metadata": {},
   "outputs": [
    {
     "data": {
      "image/png": "[encoded data removed]",
      "text/plain": [
       "<Figure size 1440x1440 with 7 Axes>"
      ]
     },
     "metadata": {
      "needs_background": "light"
     },
     "output_type": "display_data"
    }
   ],
   "source": [
    "plt.figure(figsize=(20,20))\n",
    "features = ['attr1', 'attr2', 'attr3', 'attr4', 'attr5', 'attr6', 'sold_price']\n",
    "for i in enumerate(features): \n",
    "    ax = plt.subplot(4, 2, i[0]+1)\n",
    "    sns.boxplot(x=i[1], data=Data_Sample)\n",
    "    plt.xticks(rotation = 20)"
   ]
  },
  {
   "cell_type": "code",
   "execution_count": 21,
   "metadata": {},
   "outputs": [
    {
     "name": "stdout",
     "output_type": "stream",
     "text": [
      "id            799891.5\n",
      "attr1              1.0\n",
      "attr2             28.0\n",
      "attr3            238.0\n",
      "attr4           4850.0\n",
      "attr5              2.0\n",
      "attr6           1250.0\n",
      "sold_price       478.0\n",
      "dtype: float64\n"
     ]
    }
   ],
   "source": [
    "Q1 = Data_Sample.quantile(0.10)\n",
    "Q3 = Data_Sample.quantile(0.90)\n",
    "IQR = Q3 - Q1\n",
    "print(IQR)"
   ]
  },
  {
   "cell_type": "code",
   "execution_count": 22,
   "metadata": {},
   "outputs": [
    {
     "name": "stdout",
     "output_type": "stream",
     "text": [
      "The Actual data taken for problem (102976, 9)\n",
      "The data after Outlier treatment (99456, 9)\n"
     ]
    }
   ],
   "source": [
    "Data_Sample_out = Data_Sample[~((Data_Sample < (Q1 - 1.5 * IQR)) |(Data_Sample > (Q3 + 1.5 * IQR))).any(axis=1)]\n",
    "print('The Actual data taken for problem', Data_Sample.shape)\n",
    "print('The data after Outlier treatment',Data_Sample_out.shape)"
   ]
  },
  {
   "cell_type": "code",
   "execution_count": 23,
   "metadata": {},
   "outputs": [
    {
     "data": {
      "text/html": [
       "<div>\n",
       "<style scoped>\n",
       "    .dataframe tbody tr th:only-of-type {\n",
       "        vertical-align: middle;\n",
       "    }\n",
       "\n",
       "    .dataframe tbody tr th {\n",
       "        vertical-align: top;\n",
       "    }\n",
       "\n",
       "    .dataframe thead th {\n",
       "        text-align: right;\n",
       "    }\n",
       "</style>\n",
       "<table border=\"1\" class=\"dataframe\">\n",
       "  <thead>\n",
       "    <tr style=\"text-align: right;\">\n",
       "      <th></th>\n",
       "      <th>id</th>\n",
       "      <th>attr1</th>\n",
       "      <th>attr2</th>\n",
       "      <th>attr3</th>\n",
       "      <th>attr4</th>\n",
       "      <th>attr5</th>\n",
       "      <th>attr6</th>\n",
       "      <th>title</th>\n",
       "      <th>sold_price</th>\n",
       "    </tr>\n",
       "  </thead>\n",
       "  <tbody>\n",
       "    <tr>\n",
       "      <th>386706</th>\n",
       "      <td>133110</td>\n",
       "      <td>4</td>\n",
       "      <td>26</td>\n",
       "      <td>225</td>\n",
       "      <td>3777</td>\n",
       "      <td>0</td>\n",
       "      <td>30</td>\n",
       "      <td>bow sandals</td>\n",
       "      <td>3</td>\n",
       "    </tr>\n",
       "    <tr>\n",
       "      <th>873348</th>\n",
       "      <td>484521</td>\n",
       "      <td>4</td>\n",
       "      <td>12</td>\n",
       "      <td>30</td>\n",
       "      <td>5520</td>\n",
       "      <td>2</td>\n",
       "      <td>585</td>\n",
       "      <td>theory blazer</td>\n",
       "      <td>70</td>\n",
       "    </tr>\n",
       "    <tr>\n",
       "      <th>851025</th>\n",
       "      <td>280360</td>\n",
       "      <td>4</td>\n",
       "      <td>33</td>\n",
       "      <td>267</td>\n",
       "      <td>3871</td>\n",
       "      <td>0</td>\n",
       "      <td>0</td>\n",
       "      <td>pink victoria's secret sweatshirt</td>\n",
       "      <td>20</td>\n",
       "    </tr>\n",
       "    <tr>\n",
       "      <th>821846</th>\n",
       "      <td>764737</td>\n",
       "      <td>4</td>\n",
       "      <td>3</td>\n",
       "      <td>89</td>\n",
       "      <td>2896</td>\n",
       "      <td>0</td>\n",
       "      <td>1000</td>\n",
       "      <td>louis vuitton crossbody cosmetic pouch</td>\n",
       "      <td>250</td>\n",
       "    </tr>\n",
       "    <tr>\n",
       "      <th>777589</th>\n",
       "      <td>626607</td>\n",
       "      <td>4</td>\n",
       "      <td>3</td>\n",
       "      <td>240</td>\n",
       "      <td>1996</td>\n",
       "      <td>1</td>\n",
       "      <td>795</td>\n",
       "      <td>jolie gucci bag with charms and black patent trim</td>\n",
       "      <td>250</td>\n",
       "    </tr>\n",
       "  </tbody>\n",
       "</table>\n",
       "</div>"
      ],
      "text/plain": [
       "            id  attr1  attr2  attr3  attr4  attr5  attr6                                              title  sold_price\n",
       "386706  133110      4     26    225   3777      0     30                                        bow sandals           3\n",
       "873348  484521      4     12     30   5520      2    585                                      theory blazer          70\n",
       "851025  280360      4     33    267   3871      0      0                  pink victoria's secret sweatshirt          20\n",
       "821846  764737      4      3     89   2896      0   1000             louis vuitton crossbody cosmetic pouch         250\n",
       "777589  626607      4      3    240   1996      1    795  jolie gucci bag with charms and black patent trim         250"
      ]
     },
     "execution_count": 23,
     "metadata": {},
     "output_type": "execute_result"
    }
   ],
   "source": [
    "Data_Sample_out.head()"
   ]
  },
  {
   "cell_type": "code",
   "execution_count": 24,
   "metadata": {},
   "outputs": [
    {
     "data": {
      "text/plain": [
       "Text(0.5, 1, 'Correlaion between Independent variables')"
      ]
     },
     "execution_count": 24,
     "metadata": {},
     "output_type": "execute_result"
    },
    {
     "data": {
      "image/png": "[encoded data removed]",
      "text/plain": [
       "<Figure size 864x576 with 2 Axes>"
      ]
     },
     "metadata": {
      "needs_background": "light"
     },
     "output_type": "display_data"
    }
   ],
   "source": [
    "corr = Data_Sample_out.corr()\n",
    "plt.figure(figsize=(12,8))\n",
    "sns.heatmap(corr, vmax=0.8,annot = True)\n",
    "plt.title('Correlaion between Independent variables')"
   ]
  },
  {
   "cell_type": "code",
   "execution_count": 25,
   "metadata": {},
   "outputs": [],
   "source": [
    "Data_Sample_out['sold_price'] = np.log1p(Data_Sample_out['sold_price'])"
   ]
  },
  {
   "cell_type": "code",
   "execution_count": 26,
   "metadata": {},
   "outputs": [
    {
     "data": {
      "text/plain": [
       "(array([4, 3, 2], dtype=int64), 3)"
      ]
     },
     "execution_count": 26,
     "metadata": {},
     "output_type": "execute_result"
    }
   ],
   "source": [
    "Data_Sample_out['attr1'].unique(), Data_Sample_out['attr1'].nunique()"
   ]
  },
  {
   "cell_type": "code",
   "execution_count": 27,
   "metadata": {},
   "outputs": [
    {
     "data": {
      "text/plain": [
       "(array([26, 12, 33,  3, 28, 14, 31, 13, 11, 16,  2, 20, 24,  9, 22, 32, 27,\n",
       "        21, 25, 34, 17,  6, 30, 19,  7], dtype=int64),\n",
       " 25)"
      ]
     },
     "execution_count": 27,
     "metadata": {},
     "output_type": "execute_result"
    }
   ],
   "source": [
    "Data_Sample_out['attr2'].unique(), Data_Sample_out['attr2'].nunique()"
   ]
  },
  {
   "cell_type": "code",
   "execution_count": 28,
   "metadata": {},
   "outputs": [
    {
     "data": {
      "text/plain": [
       "(array([225,  30, 267,  89, 240, 180, 188, 170,  31, 274, 252, 258, 277,\n",
       "        201, 108, 126, 207, 223, 295, 186, 134, 137,  88, 231, 251, 212,\n",
       "        148,  46, 262,  68, 193,   9, 244, 298, 178, 279,  40,  59, 302,\n",
       "         44,  14, 300, 215, 159, 141, 229, 304, 282,  24, 176, 271, 181,\n",
       "         27,  13, 139, 138,   8, 109,  12,  51,   4, 101, 121,  64, 163,\n",
       "         75,  45, 278,  39, 280, 197, 224,  58, 199,  63, 235,  87, 146,\n",
       "         72, 289, 177, 161,  38,  86, 169, 273, 167,  26, 242,  37,  50,\n",
       "        192, 301, 153, 266,  11,  32,  10,  67, 216, 281, 214, 165, 288,\n",
       "        149, 218, 168, 133,   3, 257, 173, 131, 285, 205, 247, 268, 276,\n",
       "          7, 202, 226, 151, 195, 259,  82,  85, 113, 294, 102,  83, 270,\n",
       "        306, 290, 253,  54,  43, 239, 154, 179,  25,  49,  90, 125, 208,\n",
       "        249, 116, 196,  36, 261, 184, 150,  57, 119, 230, 227,  69,  35,\n",
       "        204, 243, 246,  61,  84,   1, 187, 248,  66, 265, 115, 120, 124,\n",
       "        140, 254, 114,  34, 250, 132, 100, 219, 164, 162, 185, 222,  42,\n",
       "         48, 135, 245,  95,  47,  62, 303, 106, 166,  17,  65, 171, 221,\n",
       "         92,  77, 111, 284, 283, 183, 112,  56, 232, 110, 228,  33,  81,\n",
       "        198, 264,  15, 299,  41, 189, 213, 287, 147, 191, 286, 263, 103,\n",
       "        238, 104]),\n",
       " 223)"
      ]
     },
     "execution_count": 28,
     "metadata": {},
     "output_type": "execute_result"
    }
   ],
   "source": [
    "Data_Sample_out['attr3'].unique(), Data_Sample_out['attr3'].nunique()"
   ]
  },
  {
   "cell_type": "code",
   "execution_count": 29,
   "metadata": {},
   "outputs": [
    {
     "data": {
      "text/plain": [
       "(array([3777, 5520, 3871, ...,  608, 3990,   82]), 4109)"
      ]
     },
     "execution_count": 29,
     "metadata": {},
     "output_type": "execute_result"
    }
   ],
   "source": [
    "Data_Sample_out['attr4'].unique(), Data_Sample_out['attr4'].nunique()"
   ]
  },
  {
   "cell_type": "code",
   "execution_count": 30,
   "metadata": {},
   "outputs": [
    {
     "data": {
      "text/plain": [
       "(array([0, 2, 1, 3]), 4)"
      ]
     },
     "execution_count": 30,
     "metadata": {},
     "output_type": "execute_result"
    }
   ],
   "source": [
    "Data_Sample_out['attr5'].unique(), Data_Sample_out['attr5'].nunique()"
   ]
  },
  {
   "cell_type": "code",
   "execution_count": 31,
   "metadata": {},
   "outputs": [
    {
     "data": {
      "text/plain": [
       "<matplotlib.axes._subplots.AxesSubplot at 0x22a612ac708>"
      ]
     },
     "execution_count": 31,
     "metadata": {},
     "output_type": "execute_result"
    },
    {
     "data": {
      "image/png": "[encoded data removed]",
      "text/plain": [
       "<Figure size 432x288 with 1 Axes>"
      ]
     },
     "metadata": {
      "needs_background": "light"
     },
     "output_type": "display_data"
    }
   ],
   "source": [
    "Data_Sample_out['attr5'].value_counts().plot(kind='bar')"
   ]
  },
  {
   "cell_type": "code",
   "execution_count": 32,
   "metadata": {},
   "outputs": [
    {
     "data": {
      "text/plain": [
       "(array([  30,  585,    0, ..., 2223, 1397, 1462]), 1386)"
      ]
     },
     "execution_count": 32,
     "metadata": {},
     "output_type": "execute_result"
    }
   ],
   "source": [
    "Data_Sample_out['attr6'].unique(), Data_Sample_out['attr6'].nunique()"
   ]
  },
  {
   "cell_type": "markdown",
   "metadata": {},
   "source": [
    "# Feature Attr4"
   ]
  },
  {
   "cell_type": "code",
   "execution_count": 33,
   "metadata": {},
   "outputs": [
    {
     "name": "stdout",
     "output_type": "stream",
     "text": [
      "The Count less than 10 are 737\n",
      "The total row data in 4109\n",
      "The COunt more than 10 are 3372\n"
     ]
    }
   ],
   "source": [
    "df1_attr4 = Data_Sample_out['attr4'].value_counts(ascending=False)\n",
    "print('The Count less than 10 are',len(df1_attr4[df1_attr4>10]))\n",
    "print('The total row data in',len(df1_attr4))\n",
    "print('The COunt more than 10 are',len(df1_attr4[df1_attr4<=10]))"
   ]
  },
  {
   "cell_type": "code",
   "execution_count": 34,
   "metadata": {},
   "outputs": [],
   "source": [
    "df1_attr4_less_than_10 = df1_attr4[df1_attr4<=10]"
   ]
  },
  {
   "cell_type": "code",
   "execution_count": 35,
   "metadata": {},
   "outputs": [
    {
     "name": "stdout",
     "output_type": "stream",
     "text": [
      "The total count in row data 9526\n"
     ]
    }
   ],
   "source": [
    "print('The total count in row data',df1_attr4_less_than_10.values.sum())"
   ]
  },
  {
   "cell_type": "markdown",
   "metadata": {},
   "source": [
    "# Feature Attr6"
   ]
  },
  {
   "cell_type": "code",
   "execution_count": 36,
   "metadata": {},
   "outputs": [
    {
     "name": "stdout",
     "output_type": "stream",
     "text": [
      "The Count less than 10 are 489\n",
      "The total row data in 1386\n",
      "The COunt more than 10 are 897\n"
     ]
    }
   ],
   "source": [
    "df1_attr6 = Data_Sample_out['attr6'].value_counts(ascending=False)\n",
    "print('The Count less than 10 are',len(df1_attr6[df1_attr6>10]))\n",
    "print('The total row data in',len(df1_attr6))\n",
    "print('The COunt more than 10 are',len(df1_attr6[df1_attr6<=10]))"
   ]
  },
  {
   "cell_type": "code",
   "execution_count": 37,
   "metadata": {},
   "outputs": [
    {
     "name": "stdout",
     "output_type": "stream",
     "text": [
      "The total count in row data 99456\n"
     ]
    }
   ],
   "source": [
    "print('The total count in row data',df1_attr6.values.sum())"
   ]
  },
  {
   "cell_type": "code",
   "execution_count": 38,
   "metadata": {},
   "outputs": [],
   "source": [
    "df1_attr6_less_than_10 = df1_attr6[df1_attr6<=10]"
   ]
  },
  {
   "cell_type": "markdown",
   "metadata": {},
   "source": [
    "# Feature Attr3"
   ]
  },
  {
   "cell_type": "code",
   "execution_count": 39,
   "metadata": {},
   "outputs": [
    {
     "name": "stdout",
     "output_type": "stream",
     "text": [
      "The Count less than 50 are 179\n",
      "The total row data in 223\n",
      "The COunt more than 50 are 44\n"
     ]
    }
   ],
   "source": [
    "df1_attr3 = Data_Sample_out['attr3'].value_counts(ascending=False)\n",
    "print('The Count less than 50 are',len(df1_attr3[df1_attr3>20]))\n",
    "print('The total row data in',len(df1_attr3))\n",
    "print('The COunt more than 50 are',len(df1_attr3[df1_attr3<=20]))"
   ]
  },
  {
   "cell_type": "code",
   "execution_count": 40,
   "metadata": {},
   "outputs": [
    {
     "name": "stdout",
     "output_type": "stream",
     "text": [
      "The total count in row data 99456\n"
     ]
    }
   ],
   "source": [
    "print('The total count in row data',df1_attr3.values.sum())"
   ]
  },
  {
   "cell_type": "code",
   "execution_count": 41,
   "metadata": {},
   "outputs": [],
   "source": [
    "df1_attr3_less_than_20 = df1_attr3[df1_attr3<=20]"
   ]
  },
  {
   "cell_type": "markdown",
   "metadata": {},
   "source": [
    "# Dimensionality Reduction"
   ]
  },
  {
   "cell_type": "code",
   "execution_count": 42,
   "metadata": {},
   "outputs": [],
   "source": [
    "df1_attr4_less_than_10 = df1_attr4_less_than_10[df1_attr4_less_than_10<=10]"
   ]
  },
  {
   "cell_type": "code",
   "execution_count": 43,
   "metadata": {},
   "outputs": [
    {
     "data": {
      "text/plain": [
       "4109"
      ]
     },
     "execution_count": 43,
     "metadata": {},
     "output_type": "execute_result"
    }
   ],
   "source": [
    "len(Data_Sample_out.attr4.unique())"
   ]
  },
  {
   "cell_type": "code",
   "execution_count": 44,
   "metadata": {},
   "outputs": [
    {
     "data": {
      "text/plain": [
       "738"
      ]
     },
     "execution_count": 44,
     "metadata": {},
     "output_type": "execute_result"
    }
   ],
   "source": [
    "Data_Sample_out.attr4 = Data_Sample_out.attr4.apply(lambda x: 'other' if x in df1_attr4_less_than_10 else x)\n",
    "len(Data_Sample_out.attr4.unique())"
   ]
  },
  {
   "cell_type": "code",
   "execution_count": 45,
   "metadata": {},
   "outputs": [],
   "source": [
    "df1_attr6_less_than_10 = df1_attr6_less_than_10[df1_attr6_less_than_10<=10]"
   ]
  },
  {
   "cell_type": "code",
   "execution_count": 46,
   "metadata": {},
   "outputs": [
    {
     "data": {
      "text/plain": [
       "1386"
      ]
     },
     "execution_count": 46,
     "metadata": {},
     "output_type": "execute_result"
    }
   ],
   "source": [
    "len(Data_Sample_out.attr6.unique())"
   ]
  },
  {
   "cell_type": "code",
   "execution_count": 47,
   "metadata": {},
   "outputs": [
    {
     "data": {
      "text/plain": [
       "490"
      ]
     },
     "execution_count": 47,
     "metadata": {},
     "output_type": "execute_result"
    }
   ],
   "source": [
    "Data_Sample_out.attr6 = Data_Sample_out.attr6.apply(lambda x: 'other' if x in df1_attr6_less_than_10 else x)\n",
    "len(Data_Sample_out.attr6.unique())"
   ]
  },
  {
   "cell_type": "code",
   "execution_count": 48,
   "metadata": {},
   "outputs": [],
   "source": [
    "df1_attr3_less_than_20 = df1_attr3_less_than_20[df1_attr3_less_than_20<=20]"
   ]
  },
  {
   "cell_type": "code",
   "execution_count": 49,
   "metadata": {},
   "outputs": [
    {
     "data": {
      "text/plain": [
       "223"
      ]
     },
     "execution_count": 49,
     "metadata": {},
     "output_type": "execute_result"
    }
   ],
   "source": [
    "len(Data_Sample_out.attr3.unique())"
   ]
  },
  {
   "cell_type": "code",
   "execution_count": 50,
   "metadata": {},
   "outputs": [
    {
     "data": {
      "text/plain": [
       "180"
      ]
     },
     "execution_count": 50,
     "metadata": {},
     "output_type": "execute_result"
    }
   ],
   "source": [
    "Data_Sample_out.attr3 = Data_Sample_out.attr3.apply(lambda x: 'other' if x in df1_attr3_less_than_20 else x)\n",
    "len(Data_Sample_out.attr3.unique())"
   ]
  },
  {
   "cell_type": "code",
   "execution_count": 51,
   "metadata": {},
   "outputs": [],
   "source": [
    "renaming_data_sampless_SSS = Data_Sample_out.copy()"
   ]
  },
  {
   "cell_type": "code",
   "execution_count": 52,
   "metadata": {},
   "outputs": [],
   "source": [
    "renaming_data_sampless_SSS['attr3'].replace(to_replace =['other'],  \n",
    "                            value = -999, inplace = True) "
   ]
  },
  {
   "cell_type": "code",
   "execution_count": 53,
   "metadata": {},
   "outputs": [],
   "source": [
    "renaming_data_sampless_SSS['attr4'].replace(to_replace =['other'],  \n",
    "                            value = -999, inplace = True) "
   ]
  },
  {
   "cell_type": "code",
   "execution_count": 54,
   "metadata": {},
   "outputs": [],
   "source": [
    "renaming_data_sampless_SSS['attr6'].replace(to_replace =['other'],  \n",
    "                            value = -999, inplace = True) "
   ]
  },
  {
   "cell_type": "code",
   "execution_count": 55,
   "metadata": {},
   "outputs": [],
   "source": [
    "X = renaming_data_sampless_SSS[['attr1','attr2','attr3','attr4','attr5','attr6']]\n",
    "y = renaming_data_sampless_SSS['sold_price'].values"
   ]
  },
  {
   "cell_type": "code",
   "execution_count": 56,
   "metadata": {},
   "outputs": [],
   "source": [
    "# Feature Scaling\n",
    "from sklearn.preprocessing import StandardScaler\n",
    "sc = StandardScaler()\n",
    "\n",
    "X_Scaled = sc.fit_transform(X)\n",
    "\n",
    "X_train = pd.DataFrame(X_Scaled, columns = X.columns)"
   ]
  },
  {
   "cell_type": "code",
   "execution_count": 57,
   "metadata": {},
   "outputs": [
    {
     "data": {
      "text/plain": [
       "attr1    0\n",
       "attr2    0\n",
       "attr3    0\n",
       "attr4    0\n",
       "attr5    0\n",
       "attr6    0\n",
       "dtype: int64"
      ]
     },
     "execution_count": 57,
     "metadata": {},
     "output_type": "execute_result"
    }
   ],
   "source": [
    "X_train.isnull().sum()"
   ]
  },
  {
   "cell_type": "code",
   "execution_count": 58,
   "metadata": {},
   "outputs": [],
   "source": [
    "from sklearn.model_selection import train_test_split as tts\n",
    "train_x, test_x,train_y, test_y = tts(X_train, y, random_state=49, test_size=0.2)"
   ]
  },
  {
   "cell_type": "code",
   "execution_count": 59,
   "metadata": {},
   "outputs": [
    {
     "data": {
      "text/plain": [
       "((79564, 6), (79564,), (19892, 6), (19892,))"
      ]
     },
     "execution_count": 59,
     "metadata": {},
     "output_type": "execute_result"
    }
   ],
   "source": [
    "train_x.shape , train_y.shape, test_x.shape, test_y.shape"
   ]
  },
  {
   "cell_type": "code",
   "execution_count": 60,
   "metadata": {},
   "outputs": [],
   "source": [
    "def find_best_model(X,y):\n",
    "    models = {\n",
    "        'linear_regression': {\n",
    "            'model': LinearRegression(),\n",
    "            'parameters': {\n",
    "                'normalize': [True,False]\n",
    "            }\n",
    "        },\n",
    "        \n",
    "        'lasso': {\n",
    "            'model': Lasso(),\n",
    "            'parameters': {\n",
    "                'alpha': [1,2,5],\n",
    "                'selection': ['random', 'cyclic']\n",
    "            }\n",
    "        },\n",
    "        \n",
    "        'Ridge': {\n",
    "            'model': Ridge(),\n",
    "            'parameters': {\n",
    "                'alpha': [1e-15,1e-2, 1, 5, 10], #0, 1, 0.01\n",
    "                \n",
    "            }\n",
    "        },\n",
    "        \n",
    "        'decision_tree': {\n",
    "            'model': DecisionTreeRegressor(),\n",
    "            'parameters': {\n",
    "                'criterion': ['mse', 'friedman_mse'],\n",
    "                'splitter': ['best', 'random']\n",
    "            }\n",
    "        }\n",
    "    }\n",
    "    \n",
    "    scores = []\n",
    "    cv_X_y = ShuffleSplit(n_splits=5, test_size=0.20, random_state=0)\n",
    "    \n",
    "    for model_name, model_params in models.items():\n",
    "        gs = GridSearchCV(model_params['model'], model_params['parameters'], cv=cv_X_y, return_train_score=False)\n",
    "        gs.fit(X,y)\n",
    "        scores.append({\n",
    "            'model': model_name,\n",
    "            'best_parameters': gs.best_params_,\n",
    "            'accuracy': gs.best_score_\n",
    "        })\n",
    "        \n",
    "    return pd.DataFrame(scores, columns=['model', 'best_parameters', 'accuracy'])"
   ]
  },
  {
   "cell_type": "code",
   "execution_count": null,
   "metadata": {},
   "outputs": [],
   "source": [
    "find_best_model(X_train,y)"
   ]
  },
  {
   "cell_type": "code",
   "execution_count": null,
   "metadata": {},
   "outputs": [],
   "source": [
    "def evaluate(model, X_test, y_test):\n",
    "    predictions = model.predict(X_test)\n",
    "    errors = np.sqrt(mean_squared_error(y_test, predictions))\n",
    "    print('Model Performance')\n",
    "    return errors"
   ]
  },
  {
   "cell_type": "code",
   "execution_count": null,
   "metadata": {},
   "outputs": [],
   "source": [
    "base_model = DecisionTreeRegressor( random_state = 42)\n",
    "base_model.fit(train_x, train_y)\n",
    "evaluate(base_model, test_x, test_y)"
   ]
  },
  {
   "cell_type": "code",
   "execution_count": null,
   "metadata": {},
   "outputs": [],
   "source": [
    "base_model = DecisionTreeRegressor( random_state = 42)\n",
    "base_model.fit(train_x, train_y)\n",
    "predictions = base_model.predict(test_x)"
   ]
  },
  {
   "cell_type": "code",
   "execution_count": null,
   "metadata": {},
   "outputs": [],
   "source": [
    "predictions_xtest = predictions[0:100]"
   ]
  },
  {
   "cell_type": "code",
   "execution_count": null,
   "metadata": {},
   "outputs": [],
   "source": [
    "X_feat = base_model.feature_importances_"
   ]
  },
  {
   "cell_type": "code",
   "execution_count": null,
   "metadata": {},
   "outputs": [],
   "source": [
    "pd.DataFrame(X_feat, index= X.columns).rename(columns={0: 'Importance'}).sort_values('Importance',ascending = False)"
   ]
  },
  {
   "cell_type": "code",
   "execution_count": null,
   "metadata": {},
   "outputs": [],
   "source": [
    "def predict_price(attr1,attr2,attr3,attr4,attr5,attr6):\n",
    "    \n",
    "    x =np.zeros(len(X.columns))\n",
    "        \n",
    "    x[0]= attr1\n",
    "    x[1]= attr2\n",
    "    x[2]= attr3\n",
    "    x[3]= attr4\n",
    "    x[4]= attr5\n",
    "    x[5]= attr6\n",
    "    \n",
    "    Final_output = base_model.predict([x])[0]\n",
    "    output = Final_output\n",
    "    output = int(output)\n",
    "    \n",
    "    if output in range(0,50):\n",
    "        output = '0-50'\n",
    "    elif output in range(50,100):\n",
    "        output ='50-100'\n",
    "    elif output in range(100,500):\n",
    "        output='100-500'\n",
    "    elif output in range(500,1000):\n",
    "        output='500-1000'\n",
    "    else:\n",
    "        output = '1000+'\n",
    "        \n",
    "    return output"
   ]
  },
  {
   "cell_type": "code",
   "execution_count": null,
   "metadata": {},
   "outputs": [],
   "source": [
    "predict_price(4,26,225,1996,0,250)"
   ]
  },
  {
   "cell_type": "code",
   "execution_count": null,
   "metadata": {},
   "outputs": [],
   "source": [
    "predict_price(1,1,40,10,0,100)"
   ]
  },
  {
   "cell_type": "code",
   "execution_count": null,
   "metadata": {},
   "outputs": [],
   "source": [
    "solution_bo = pd.DataFrame(predictions_xtest, columns = ['Predicted_Price'])\n",
    "solution_bo1 = pd.DataFrame(datasets_id, columns = ['id'])\n",
    "Final_prediction = pd.concat([solution_bo1,solution_bo], axis =1)"
   ]
  },
  {
   "cell_type": "code",
   "execution_count": null,
   "metadata": {},
   "outputs": [],
   "source": [
    "Final_prediction.head()"
   ]
  },
  {
   "cell_type": "markdown",
   "metadata": {},
   "source": [
    "# NLP on Title COlumns"
   ]
  },
  {
   "cell_type": "code",
   "execution_count": null,
   "metadata": {},
   "outputs": [],
   "source": [
    "import re\n",
    "import string\n",
    "import nltk\n",
    "nltk.download('stopwords')\n",
    "from sklearn import preprocessing\n",
    "from sklearn.feature_extraction.text import CountVectorizer\n",
    "from sklearn.feature_extraction.text import TfidfVectorizer\n",
    "from nltk.corpus import stopwords \n",
    "stop_words = stopwords.words('english')"
   ]
  },
  {
   "cell_type": "code",
   "execution_count": null,
   "metadata": {},
   "outputs": [],
   "source": [
    "Data_Sample_out_nlp = Data_Sample_out.copy()"
   ]
  },
  {
   "cell_type": "code",
   "execution_count": null,
   "metadata": {},
   "outputs": [],
   "source": [
    "Data_Sample_out_nlp"
   ]
  },
  {
   "cell_type": "code",
   "execution_count": null,
   "metadata": {},
   "outputs": [],
   "source": [
    "Data_Sample_out_nlp['title'] = Data_Sample_out_nlp['title'].astype(str)"
   ]
  },
  {
   "cell_type": "code",
   "execution_count": null,
   "metadata": {},
   "outputs": [],
   "source": [
    "def clean_text(text):\n",
    "    text = ''.join(c for c in text if not c.isdigit())\n",
    "    text = re.sub(r'[^a-zA-Z]', ' ', text)\n",
    "    text = re.sub(r'[!!-...]', '', text)\n",
    "    text = re.sub(r',', ' ', text)\n",
    "    text = re.sub(r' - ', ' ', text)\n",
    "    text = re.sub(r' -m', ' ', text)\n",
    "    text = re.sub(r'n', ' ', text)\n",
    "    text = re.sub(r'%', ' ', text)\n",
    "    text = re.sub(r'[()]', '', text)\n",
    "    text = re.sub(r'  ', ' ', text)\n",
    "    text = [token for token in text.split() if len(token) > 2]\n",
    "    text = ' '.join(text)\n",
    "    return text\n",
    "\n",
    "#text = re.sub(re.compile(r'\\s+'), '', text)  #to remove space from the string"
   ]
  },
  {
   "cell_type": "code",
   "execution_count": null,
   "metadata": {},
   "outputs": [],
   "source": [
    "Data_Sample_out_nlp['Title'] = Data_Sample_out_nlp['title'].apply(clean_text)"
   ]
  },
  {
   "cell_type": "code",
   "execution_count": null,
   "metadata": {},
   "outputs": [],
   "source": [
    "Data_Sample_out_nlp"
   ]
  },
  {
   "cell_type": "code",
   "execution_count": null,
   "metadata": {},
   "outputs": [],
   "source": [
    "## Number of words in the Title ##\n",
    "Data_Sample_out_nlp[\"Syn_num_words\"] = Data_Sample_out_nlp[\"Title\"].apply(lambda x: len(str(x).split()))\n",
    "## Number of unique words in the Title ##\n",
    "Data_Sample_out_nlp[\"Syn_num_unique_words\"] = Data_Sample_out_nlp[\"Title\"].apply(lambda x: len(set(str(x).split())))\n",
    "## Number of characters in the Title ##\n",
    "Data_Sample_out_nlp[\"Syn_num_chars\"] = Data_Sample_out_nlp[\"Title\"].apply(lambda x: len(str(x)))\n",
    "## Number of stopwords in the Title ##\n",
    "Data_Sample_out_nlp[\"Syn_num_stopwords\"] = Data_Sample_out_nlp[\"title\"].apply(lambda x: len([w for w in str(x).lower().split() if w in stop_words]))"
   ]
  },
  {
   "cell_type": "code",
   "execution_count": null,
   "metadata": {},
   "outputs": [],
   "source": [
    "Data_Sample_out_nlp"
   ]
  },
  {
   "cell_type": "code",
   "execution_count": null,
   "metadata": {},
   "outputs": [],
   "source": [
    "### Fit transform the tfidf vectorizer ###\n",
    "tfidf_vec = TfidfVectorizer(stop_words='english', ngram_range=(1,4),max_features=150)\n",
    "full_tfidf = tfidf_vec.fit_transform(Data_Sample_out_nlp['Title'].values.tolist())\n",
    "train_tfidf = tfidf_vec.transform(Data_Sample_out_nlp['Title'].values.tolist())\n",
    "train_tfidf"
   ]
  },
  {
   "cell_type": "code",
   "execution_count": null,
   "metadata": {},
   "outputs": [],
   "source": [
    "full_tfidf = pd.DataFrame(train_tfidf.toarray(), columns=tfidf_vec.get_feature_names())"
   ]
  },
  {
   "cell_type": "code",
   "execution_count": null,
   "metadata": {},
   "outputs": [],
   "source": [
    "full_tfidf.shape"
   ]
  },
  {
   "cell_type": "code",
   "execution_count": null,
   "metadata": {},
   "outputs": [],
   "source": [
    "full_tfidf.head()"
   ]
  },
  {
   "cell_type": "code",
   "execution_count": null,
   "metadata": {},
   "outputs": [],
   "source": []
  },
  {
   "cell_type": "code",
   "execution_count": null,
   "metadata": {},
   "outputs": [],
   "source": []
  }
 ],
 "metadata": {
  "kernelspec": {
   "display_name": "Python 3",
   "language": "python",
   "name": "python3"
  },
  "language_info": {
   "codemirror_mode": {
    "name": "ipython",
    "version": 3
   },
   "file_extension": ".py",
   "mimetype": "text/x-python",
   "name": "python",
   "nbconvert_exporter": "python",
   "pygments_lexer": "ipython3",
   "version": "3.7.7"
  }
 },
 "nbformat": 4,
 "nbformat_minor": 4
}
